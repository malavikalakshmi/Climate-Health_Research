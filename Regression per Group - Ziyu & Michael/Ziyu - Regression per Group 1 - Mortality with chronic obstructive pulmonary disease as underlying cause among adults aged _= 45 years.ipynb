{
 "cells": [
  {
   "cell_type": "markdown",
   "metadata": {},
   "source": [
    "# Regression per Group 1"
   ]
  },
  {
   "cell_type": "markdown",
   "metadata": {},
   "source": [
    "###  Mortality with chronic obstructive pulmonary disease as underlying cause among adults aged _= 45 years"
   ]
  },
  {
   "cell_type": "markdown",
   "metadata": {},
   "source": [
    "Overall summary:\n",
    "\n",
    "- Group 0: High CH4, Fluorinated GHG, and Ozone level, such as GA and IN\n",
    "\n",
    "\n",
    "    White, Black, Hispanic, Asian or Pacific Islander, and co2 per square are the top 5 significant contributers to the mortality from heart failure.\n",
    "\n",
    "- Group 1: High Ozone level but low other pollutant emissions, such as WA and MA. The most common group\n",
    "\n",
    "\n",
    "    White, CO2 per pop, CH4 per pop, N2O per pop, and Black are the top 5 influncial contributers to the mortality from heart failure.\n",
    "\n",
    "\n",
    "- Group 2: High CO2, CH4, N2O, and low regulation or incentives, such as FL and TX\n",
    "\n",
    "\n",
    "    White, Asian or Pacific Islanderand, Black and Hispanic are the top 4 influncial contributers to the mortality from heart failure.\n",
    "\n",
    "\n",
    "- Group 3: High regulation and incentives, such as CA\n",
    "\n",
    "\n",
    "    White, Hispanic, Asian or Pacific Islander, Black, and CO2 per pop are the top 4 influncial contributers to the mortality from heart failure."
   ]
  },
  {
   "cell_type": "code",
   "execution_count": 1,
   "metadata": {},
   "outputs": [],
   "source": [
    "import pandas as pd  \n",
    "import numpy as np  \n",
    "import matplotlib.pyplot as plt  \n",
    "import seaborn as seabornInstance \n",
    "from sklearn.model_selection import train_test_split \n",
    "from sklearn.linear_model import LinearRegression\n",
    "from sklearn import metrics\n",
    "%matplotlib inline\n",
    "import matplotlib.pyplot as plt"
   ]
  },
  {
   "cell_type": "markdown",
   "metadata": {},
   "source": [
    "## Prepare data"
   ]
  },
  {
   "cell_type": "code",
   "execution_count": 2,
   "metadata": {},
   "outputs": [],
   "source": [
    "pd.set_option('display.max_columns',None)"
   ]
  },
  {
   "cell_type": "code",
   "execution_count": 3,
   "metadata": {},
   "outputs": [],
   "source": [
    "data = pd.read_csv('~/Desktop/finaldata_clusters_regions_Added.csv').drop(columns = ['Unnamed: 0'])"
   ]
  },
  {
   "cell_type": "code",
   "execution_count": 4,
   "metadata": {},
   "outputs": [],
   "source": [
    "data['Total Sq. Mi.']=data['Total Sq. Mi.'].str.replace(',','')\n",
    "data['Total Sq. Mi.'] = data['Total Sq. Mi.'].astype('int64')"
   ]
  },
  {
   "cell_type": "code",
   "execution_count": 5,
   "metadata": {},
   "outputs": [],
   "source": [
    "data['CO2_PER_POP'] = data['CO2'] / data['Population']\n",
    "data['CO2_PER_SQUARE'] = data['CO2'] / data['Total Sq. Mi.']\n",
    "data['CH4_PER_POP'] = data['CH4'] / data['Population']\n",
    "data['CH4_PER_SQUARE'] = data['CH4'] / data['Total Sq. Mi.']\n",
    "data['N2O_PER_POP'] = data['N2O'] / data['Population']\n",
    "data['N2O_PER_SQUARE'] = data['N2O'] / data['Total Sq. Mi.']\n",
    "data['Fluorinated GHG_PER_POP'] = data['Fluorinated GHG'] / data['Population']\n",
    "data['Fluorinated GHG_PER_SQUARE'] = data['Fluorinated GHG'] / data['Total Sq. Mi.']"
   ]
  },
  {
   "cell_type": "code",
   "execution_count": 6,
   "metadata": {},
   "outputs": [],
   "source": [
    "data.drop(['STATE', 'Year','CO2','CH4','N2O','Fluorinated GHG_PER_POP','Population','Total Sq. Mi.','Total Sq. Km.','REGION'], axis=1, inplace=True)"
   ]
  },
  {
   "cell_type": "code",
   "execution_count": 7,
   "metadata": {},
   "outputs": [],
   "source": [
    "data = data[~data['StratificationCategory1'].isnull()]\n",
    "cols = data.columns.tolist()\n",
    "cols = cols[7:] + cols[:7]\n",
    "data = data[cols]"
   ]
  },
  {
   "cell_type": "code",
   "execution_count": 8,
   "metadata": {},
   "outputs": [
    {
     "data": {
      "text/html": [
       "<div>\n",
       "<style scoped>\n",
       "    .dataframe tbody tr th:only-of-type {\n",
       "        vertical-align: middle;\n",
       "    }\n",
       "\n",
       "    .dataframe tbody tr th {\n",
       "        vertical-align: top;\n",
       "    }\n",
       "\n",
       "    .dataframe thead th {\n",
       "        text-align: right;\n",
       "    }\n",
       "</style>\n",
       "<table border=\"1\" class=\"dataframe\">\n",
       "  <thead>\n",
       "    <tr style=\"text-align: right;\">\n",
       "      <th></th>\n",
       "      <th>DataValue</th>\n",
       "      <th>StratificationCategory1</th>\n",
       "      <th>Stratification1</th>\n",
       "      <th>Region_Name</th>\n",
       "      <th>CO2_PER_POP</th>\n",
       "      <th>CO2_PER_SQUARE</th>\n",
       "      <th>CH4_PER_POP</th>\n",
       "      <th>CH4_PER_SQUARE</th>\n",
       "      <th>N2O_PER_POP</th>\n",
       "      <th>N2O_PER_SQUARE</th>\n",
       "      <th>Fluorinated GHG_PER_SQUARE</th>\n",
       "      <th>cluster</th>\n",
       "      <th>Fluorinated GHG</th>\n",
       "      <th>Laws and Regulations</th>\n",
       "      <th>State Incentives</th>\n",
       "      <th>Utility/Private Incentives</th>\n",
       "      <th>Ozone</th>\n",
       "      <th>Question</th>\n",
       "    </tr>\n",
       "  </thead>\n",
       "  <tbody>\n",
       "    <tr>\n",
       "      <th>0</th>\n",
       "      <td>234.8</td>\n",
       "      <td>Gender</td>\n",
       "      <td>Female</td>\n",
       "      <td>South Region</td>\n",
       "      <td>17.472089</td>\n",
       "      <td>1605.081667</td>\n",
       "      <td>0.145715</td>\n",
       "      <td>13.38615</td>\n",
       "      <td>0.125172</td>\n",
       "      <td>11.499008</td>\n",
       "      <td>5.044582</td>\n",
       "      <td>1</td>\n",
       "      <td>264437</td>\n",
       "      <td>3</td>\n",
       "      <td>7</td>\n",
       "      <td>4</td>\n",
       "      <td>0.044215</td>\n",
       "      <td>Mortality from diseases of the heart</td>\n",
       "    </tr>\n",
       "    <tr>\n",
       "      <th>1</th>\n",
       "      <td>14.9</td>\n",
       "      <td>Gender</td>\n",
       "      <td>Female</td>\n",
       "      <td>South Region</td>\n",
       "      <td>17.472089</td>\n",
       "      <td>1605.081667</td>\n",
       "      <td>0.145715</td>\n",
       "      <td>13.38615</td>\n",
       "      <td>0.125172</td>\n",
       "      <td>11.499008</td>\n",
       "      <td>5.044582</td>\n",
       "      <td>1</td>\n",
       "      <td>264437</td>\n",
       "      <td>3</td>\n",
       "      <td>7</td>\n",
       "      <td>4</td>\n",
       "      <td>0.044215</td>\n",
       "      <td>Asthma mortality rate</td>\n",
       "    </tr>\n",
       "    <tr>\n",
       "      <th>2</th>\n",
       "      <td>8.6</td>\n",
       "      <td>Gender</td>\n",
       "      <td>Male</td>\n",
       "      <td>South Region</td>\n",
       "      <td>17.472089</td>\n",
       "      <td>1605.081667</td>\n",
       "      <td>0.145715</td>\n",
       "      <td>13.38615</td>\n",
       "      <td>0.125172</td>\n",
       "      <td>11.499008</td>\n",
       "      <td>5.044582</td>\n",
       "      <td>1</td>\n",
       "      <td>264437</td>\n",
       "      <td>3</td>\n",
       "      <td>7</td>\n",
       "      <td>4</td>\n",
       "      <td>0.044215</td>\n",
       "      <td>Asthma mortality rate</td>\n",
       "    </tr>\n",
       "    <tr>\n",
       "      <th>3</th>\n",
       "      <td>8.9</td>\n",
       "      <td>Race/Ethnicity</td>\n",
       "      <td>White, non-Hispanic</td>\n",
       "      <td>South Region</td>\n",
       "      <td>17.472089</td>\n",
       "      <td>1605.081667</td>\n",
       "      <td>0.145715</td>\n",
       "      <td>13.38615</td>\n",
       "      <td>0.125172</td>\n",
       "      <td>11.499008</td>\n",
       "      <td>5.044582</td>\n",
       "      <td>1</td>\n",
       "      <td>264437</td>\n",
       "      <td>3</td>\n",
       "      <td>7</td>\n",
       "      <td>4</td>\n",
       "      <td>0.044215</td>\n",
       "      <td>Asthma mortality rate</td>\n",
       "    </tr>\n",
       "    <tr>\n",
       "      <th>4</th>\n",
       "      <td>21.8</td>\n",
       "      <td>Race/Ethnicity</td>\n",
       "      <td>Black, non-Hispanic</td>\n",
       "      <td>South Region</td>\n",
       "      <td>17.472089</td>\n",
       "      <td>1605.081667</td>\n",
       "      <td>0.145715</td>\n",
       "      <td>13.38615</td>\n",
       "      <td>0.125172</td>\n",
       "      <td>11.499008</td>\n",
       "      <td>5.044582</td>\n",
       "      <td>1</td>\n",
       "      <td>264437</td>\n",
       "      <td>3</td>\n",
       "      <td>7</td>\n",
       "      <td>4</td>\n",
       "      <td>0.044215</td>\n",
       "      <td>Asthma mortality rate</td>\n",
       "    </tr>\n",
       "  </tbody>\n",
       "</table>\n",
       "</div>"
      ],
      "text/plain": [
       "   DataValue StratificationCategory1      Stratification1   Region_Name  \\\n",
       "0      234.8                  Gender               Female  South Region   \n",
       "1       14.9                  Gender               Female  South Region   \n",
       "2        8.6                  Gender                 Male  South Region   \n",
       "3        8.9          Race/Ethnicity  White, non-Hispanic  South Region   \n",
       "4       21.8          Race/Ethnicity  Black, non-Hispanic  South Region   \n",
       "\n",
       "   CO2_PER_POP  CO2_PER_SQUARE  CH4_PER_POP  CH4_PER_SQUARE  N2O_PER_POP  \\\n",
       "0    17.472089     1605.081667     0.145715        13.38615     0.125172   \n",
       "1    17.472089     1605.081667     0.145715        13.38615     0.125172   \n",
       "2    17.472089     1605.081667     0.145715        13.38615     0.125172   \n",
       "3    17.472089     1605.081667     0.145715        13.38615     0.125172   \n",
       "4    17.472089     1605.081667     0.145715        13.38615     0.125172   \n",
       "\n",
       "   N2O_PER_SQUARE  Fluorinated GHG_PER_SQUARE  cluster  Fluorinated GHG  \\\n",
       "0       11.499008                    5.044582        1           264437   \n",
       "1       11.499008                    5.044582        1           264437   \n",
       "2       11.499008                    5.044582        1           264437   \n",
       "3       11.499008                    5.044582        1           264437   \n",
       "4       11.499008                    5.044582        1           264437   \n",
       "\n",
       "   Laws and Regulations  State Incentives  Utility/Private Incentives  \\\n",
       "0                     3                 7                           4   \n",
       "1                     3                 7                           4   \n",
       "2                     3                 7                           4   \n",
       "3                     3                 7                           4   \n",
       "4                     3                 7                           4   \n",
       "\n",
       "      Ozone                              Question  \n",
       "0  0.044215  Mortality from diseases of the heart  \n",
       "1  0.044215                 Asthma mortality rate  \n",
       "2  0.044215                 Asthma mortality rate  \n",
       "3  0.044215                 Asthma mortality rate  \n",
       "4  0.044215                 Asthma mortality rate  "
      ]
     },
     "execution_count": 8,
     "metadata": {},
     "output_type": "execute_result"
    }
   ],
   "source": [
    "data.head()"
   ]
  },
  {
   "cell_type": "markdown",
   "metadata": {},
   "source": [
    "### 2. Mortality from heart failure"
   ]
  },
  {
   "cell_type": "code",
   "execution_count": 9,
   "metadata": {},
   "outputs": [],
   "source": [
    "data_q1 = data[data['Question']=='Mortality with chronic obstructive pulmonary disease as underlying cause among adults aged >= 45 years']"
   ]
  },
  {
   "cell_type": "code",
   "execution_count": 10,
   "metadata": {},
   "outputs": [
    {
     "name": "stderr",
     "output_type": "stream",
     "text": [
      "//anaconda3/lib/python3.7/site-packages/pandas/core/frame.py:3940: SettingWithCopyWarning: \n",
      "A value is trying to be set on a copy of a slice from a DataFrame\n",
      "\n",
      "See the caveats in the documentation: http://pandas.pydata.org/pandas-docs/stable/indexing.html#indexing-view-versus-copy\n",
      "  errors=errors)\n"
     ]
    }
   ],
   "source": [
    "data_q1_1 = data_q1[data_q1['StratificationCategory1']=='Race/Ethnicity']\n",
    "data_q1_1.drop(['Question','StratificationCategory1'], axis=1, inplace=True)\n",
    "data_q1_1 = data_q1_1[~data_q1_1['DataValue'].isnull()]"
   ]
  },
  {
   "cell_type": "code",
   "execution_count": 11,
   "metadata": {},
   "outputs": [
    {
     "data": {
      "text/html": [
       "<div>\n",
       "<style scoped>\n",
       "    .dataframe tbody tr th:only-of-type {\n",
       "        vertical-align: middle;\n",
       "    }\n",
       "\n",
       "    .dataframe tbody tr th {\n",
       "        vertical-align: top;\n",
       "    }\n",
       "\n",
       "    .dataframe thead th {\n",
       "        text-align: right;\n",
       "    }\n",
       "</style>\n",
       "<table border=\"1\" class=\"dataframe\">\n",
       "  <thead>\n",
       "    <tr style=\"text-align: right;\">\n",
       "      <th></th>\n",
       "      <th>DataValue</th>\n",
       "      <th>Stratification1</th>\n",
       "      <th>Region_Name</th>\n",
       "      <th>CO2_PER_POP</th>\n",
       "      <th>CO2_PER_SQUARE</th>\n",
       "      <th>CH4_PER_POP</th>\n",
       "      <th>CH4_PER_SQUARE</th>\n",
       "      <th>N2O_PER_POP</th>\n",
       "      <th>N2O_PER_SQUARE</th>\n",
       "      <th>Fluorinated GHG_PER_SQUARE</th>\n",
       "      <th>cluster</th>\n",
       "      <th>Fluorinated GHG</th>\n",
       "      <th>Laws and Regulations</th>\n",
       "      <th>State Incentives</th>\n",
       "      <th>Utility/Private Incentives</th>\n",
       "      <th>Ozone</th>\n",
       "    </tr>\n",
       "  </thead>\n",
       "  <tbody>\n",
       "    <tr>\n",
       "      <th>51</th>\n",
       "      <td>56.9</td>\n",
       "      <td>Black, non-Hispanic</td>\n",
       "      <td>South Region</td>\n",
       "      <td>17.472089</td>\n",
       "      <td>1605.081667</td>\n",
       "      <td>0.145715</td>\n",
       "      <td>13.386150</td>\n",
       "      <td>0.125172</td>\n",
       "      <td>11.499008</td>\n",
       "      <td>5.044582</td>\n",
       "      <td>1</td>\n",
       "      <td>264437</td>\n",
       "      <td>3</td>\n",
       "      <td>7</td>\n",
       "      <td>4</td>\n",
       "      <td>0.044215</td>\n",
       "    </tr>\n",
       "    <tr>\n",
       "      <th>53</th>\n",
       "      <td>179.4</td>\n",
       "      <td>White, non-Hispanic</td>\n",
       "      <td>South Region</td>\n",
       "      <td>17.472089</td>\n",
       "      <td>1605.081667</td>\n",
       "      <td>0.145715</td>\n",
       "      <td>13.386150</td>\n",
       "      <td>0.125172</td>\n",
       "      <td>11.499008</td>\n",
       "      <td>5.044582</td>\n",
       "      <td>1</td>\n",
       "      <td>264437</td>\n",
       "      <td>3</td>\n",
       "      <td>7</td>\n",
       "      <td>4</td>\n",
       "      <td>0.044215</td>\n",
       "    </tr>\n",
       "    <tr>\n",
       "      <th>90</th>\n",
       "      <td>178.7</td>\n",
       "      <td>White, non-Hispanic</td>\n",
       "      <td>South Region</td>\n",
       "      <td>17.245662</td>\n",
       "      <td>1589.048932</td>\n",
       "      <td>0.123060</td>\n",
       "      <td>11.338955</td>\n",
       "      <td>0.093460</td>\n",
       "      <td>8.611599</td>\n",
       "      <td>5.230713</td>\n",
       "      <td>1</td>\n",
       "      <td>274194</td>\n",
       "      <td>3</td>\n",
       "      <td>7</td>\n",
       "      <td>4</td>\n",
       "      <td>0.039733</td>\n",
       "    </tr>\n",
       "    <tr>\n",
       "      <th>102</th>\n",
       "      <td>64.3</td>\n",
       "      <td>Black, non-Hispanic</td>\n",
       "      <td>South Region</td>\n",
       "      <td>17.245662</td>\n",
       "      <td>1589.048932</td>\n",
       "      <td>0.123060</td>\n",
       "      <td>11.338955</td>\n",
       "      <td>0.093460</td>\n",
       "      <td>8.611599</td>\n",
       "      <td>5.230713</td>\n",
       "      <td>1</td>\n",
       "      <td>274194</td>\n",
       "      <td>3</td>\n",
       "      <td>7</td>\n",
       "      <td>4</td>\n",
       "      <td>0.039733</td>\n",
       "    </tr>\n",
       "    <tr>\n",
       "      <th>155</th>\n",
       "      <td>176.8</td>\n",
       "      <td>White, non-Hispanic</td>\n",
       "      <td>South Region</td>\n",
       "      <td>17.523932</td>\n",
       "      <td>1618.606543</td>\n",
       "      <td>0.130945</td>\n",
       "      <td>12.094792</td>\n",
       "      <td>0.108513</td>\n",
       "      <td>10.022873</td>\n",
       "      <td>5.955761</td>\n",
       "      <td>1</td>\n",
       "      <td>312201</td>\n",
       "      <td>3</td>\n",
       "      <td>7</td>\n",
       "      <td>4</td>\n",
       "      <td>0.040936</td>\n",
       "    </tr>\n",
       "  </tbody>\n",
       "</table>\n",
       "</div>"
      ],
      "text/plain": [
       "     DataValue      Stratification1   Region_Name  CO2_PER_POP  \\\n",
       "51        56.9  Black, non-Hispanic  South Region    17.472089   \n",
       "53       179.4  White, non-Hispanic  South Region    17.472089   \n",
       "90       178.7  White, non-Hispanic  South Region    17.245662   \n",
       "102       64.3  Black, non-Hispanic  South Region    17.245662   \n",
       "155      176.8  White, non-Hispanic  South Region    17.523932   \n",
       "\n",
       "     CO2_PER_SQUARE  CH4_PER_POP  CH4_PER_SQUARE  N2O_PER_POP  N2O_PER_SQUARE  \\\n",
       "51      1605.081667     0.145715       13.386150     0.125172       11.499008   \n",
       "53      1605.081667     0.145715       13.386150     0.125172       11.499008   \n",
       "90      1589.048932     0.123060       11.338955     0.093460        8.611599   \n",
       "102     1589.048932     0.123060       11.338955     0.093460        8.611599   \n",
       "155     1618.606543     0.130945       12.094792     0.108513       10.022873   \n",
       "\n",
       "     Fluorinated GHG_PER_SQUARE  cluster  Fluorinated GHG  \\\n",
       "51                     5.044582        1           264437   \n",
       "53                     5.044582        1           264437   \n",
       "90                     5.230713        1           274194   \n",
       "102                    5.230713        1           274194   \n",
       "155                    5.955761        1           312201   \n",
       "\n",
       "     Laws and Regulations  State Incentives  Utility/Private Incentives  \\\n",
       "51                      3                 7                           4   \n",
       "53                      3                 7                           4   \n",
       "90                      3                 7                           4   \n",
       "102                     3                 7                           4   \n",
       "155                     3                 7                           4   \n",
       "\n",
       "        Ozone  \n",
       "51   0.044215  \n",
       "53   0.044215  \n",
       "90   0.039733  \n",
       "102  0.039733  \n",
       "155  0.040936  "
      ]
     },
     "execution_count": 11,
     "metadata": {},
     "output_type": "execute_result"
    }
   ],
   "source": [
    "data_q1_1.head()"
   ]
  },
  {
   "cell_type": "code",
   "execution_count": 12,
   "metadata": {},
   "outputs": [
    {
     "data": {
      "text/plain": [
       "array([1, 3, 2, 0])"
      ]
     },
     "execution_count": 12,
     "metadata": {},
     "output_type": "execute_result"
    }
   ],
   "source": [
    "data_q1_1['cluster'].unique()"
   ]
  },
  {
   "cell_type": "code",
   "execution_count": 13,
   "metadata": {},
   "outputs": [],
   "source": [
    "data_q1_1.rename(columns={'Stratification1':'Race'}, inplace=True)\n",
    "data_q1_1 = pd.get_dummies(data_q1_1, columns = ['Race','Region_Name'], drop_first = True)"
   ]
  },
  {
   "cell_type": "code",
   "execution_count": 14,
   "metadata": {},
   "outputs": [],
   "source": [
    "group_0 = data_q1_1[data_q1_1['cluster']==0]\n",
    "group_1 = data_q1_1[data_q1_1['cluster']==1]\n",
    "group_2 = data_q1_1[data_q1_1['cluster']==2]\n",
    "group_3 = data_q1_1[data_q1_1['cluster']==3]"
   ]
  },
  {
   "cell_type": "code",
   "execution_count": 15,
   "metadata": {},
   "outputs": [],
   "source": [
    "group_0.drop(['cluster'], axis=1, inplace=True)\n",
    "group_1.drop(['cluster'], axis=1, inplace=True)\n",
    "group_2.drop(['cluster'], axis=1, inplace=True)\n",
    "group_3.drop(['cluster'], axis=1, inplace=True)"
   ]
  },
  {
   "cell_type": "markdown",
   "metadata": {},
   "source": [
    "### Group 0"
   ]
  },
  {
   "cell_type": "markdown",
   "metadata": {},
   "source": [
    "Group 0:\n",
    "\n",
    "High CH4, Fluorinated GHG, and Ozone level, such as GA and IN"
   ]
  },
  {
   "cell_type": "code",
   "execution_count": 16,
   "metadata": {},
   "outputs": [],
   "source": [
    "X = group_0.values[:,1:].copy()\n",
    "y = group_0.DataValue.values"
   ]
  },
  {
   "cell_type": "code",
   "execution_count": 17,
   "metadata": {},
   "outputs": [
    {
     "name": "stdout",
     "output_type": "stream",
     "text": [
      "Accuracy on training set: 0.998\n",
      "Accuracy on test set: 0.884\n"
     ]
    }
   ],
   "source": [
    "from sklearn import ensemble\n",
    "from sklearn.model_selection import train_test_split\n",
    "\n",
    "\n",
    "X_train, X_test, y_train, y_test = train_test_split(X, y, test_size = 0.2, random_state=0)\n",
    "\n",
    "params = {'n_estimators': 500, 'max_depth': 4, 'min_samples_split': 2,\n",
    "          'learning_rate': 0.01, 'loss': 'ls'}\n",
    "\n",
    "model = ensemble.GradientBoostingRegressor(**params)\n",
    "model.fit(X_train, y_train)\n",
    "\n",
    "print(\"Accuracy on training set: {:.3f}\".format(model.score(X_train, y_train)))\n",
    "print(\"Accuracy on test set: {:.3f}\".format(model.score(X_test, y_test)))"
   ]
  },
  {
   "cell_type": "code",
   "execution_count": 18,
   "metadata": {},
   "outputs": [
    {
     "data": {
      "image/png": "[encoded data removed]",
      "text/plain": [
       "<Figure size 864x432 with 1 Axes>"
      ]
     },
     "metadata": {
      "needs_background": "light"
     },
     "output_type": "display_data"
    }
   ],
   "source": [
    "feature_importance = model.feature_importances_\n",
    "sorted_idx = np.argsort(feature_importance)\n",
    "pos = np.arange(sorted_idx.shape[0]) + .5\n",
    "fig = plt.figure(figsize=(12, 6))\n",
    "plt.subplot(1, 2, 1)\n",
    "plt.barh(pos, feature_importance[sorted_idx], align='center')\n",
    "plt.yticks(pos, np.array(group_0.iloc[:,1:].columns)[sorted_idx])\n",
    "#plt.title('Feature Importance (MDI)')\n",
    "plt.show()"
   ]
  },
  {
   "cell_type": "markdown",
   "metadata": {},
   "source": [
    "### Group 1"
   ]
  },
  {
   "cell_type": "markdown",
   "metadata": {},
   "source": [
    "Segment 1 (yellow):\n",
    "\n",
    "High Ozone level but low other pollutant emissions, such as WA and MA. The most common group"
   ]
  },
  {
   "cell_type": "code",
   "execution_count": 19,
   "metadata": {},
   "outputs": [],
   "source": [
    "X = group_1.values[:,1:].copy()\n",
    "y = group_1.DataValue.values"
   ]
  },
  {
   "cell_type": "code",
   "execution_count": 20,
   "metadata": {},
   "outputs": [
    {
     "name": "stdout",
     "output_type": "stream",
     "text": [
      "Accuracy on training set: 0.955\n",
      "Accuracy on test set: 0.893\n"
     ]
    }
   ],
   "source": [
    "from sklearn import ensemble\n",
    "from sklearn.model_selection import train_test_split\n",
    "\n",
    "\n",
    "X_train, X_test, y_train, y_test = train_test_split(X, y, test_size = 0.2, random_state=0)\n",
    "\n",
    "params = {'n_estimators': 500, 'max_depth': 4, 'min_samples_split': 2,\n",
    "          'learning_rate': 0.01, 'loss': 'ls'}\n",
    "\n",
    "model = ensemble.GradientBoostingRegressor(**params)\n",
    "model.fit(X_train, y_train)\n",
    "\n",
    "print(\"Accuracy on training set: {:.3f}\".format(model.score(X_train, y_train)))\n",
    "print(\"Accuracy on test set: {:.3f}\".format(model.score(X_test, y_test)))"
   ]
  },
  {
   "cell_type": "code",
   "execution_count": 21,
   "metadata": {},
   "outputs": [
    {
     "data": {
      "image/png": "[encoded data removed]",
      "text/plain": [
       "<Figure size 864x432 with 1 Axes>"
      ]
     },
     "metadata": {
      "needs_background": "light"
     },
     "output_type": "display_data"
    }
   ],
   "source": [
    "feature_importance = model.feature_importances_\n",
    "sorted_idx = np.argsort(feature_importance)\n",
    "pos = np.arange(sorted_idx.shape[0]) + .5\n",
    "fig = plt.figure(figsize=(12, 6))\n",
    "plt.subplot(1, 2, 1)\n",
    "plt.barh(pos, feature_importance[sorted_idx], align='center')\n",
    "plt.yticks(pos, np.array(group_1.iloc[:,1:].columns)[sorted_idx])\n",
    "#plt.title('Feature Importance (MDI)')\n",
    "plt.show()"
   ]
  },
  {
   "cell_type": "markdown",
   "metadata": {},
   "source": [
    "### Group 2"
   ]
  },
  {
   "cell_type": "markdown",
   "metadata": {},
   "source": [
    "Segment 2:\n",
    "\n",
    "High CO2, CH4, N2O, and low regulation or incentives, such as FL and TX"
   ]
  },
  {
   "cell_type": "code",
   "execution_count": 22,
   "metadata": {},
   "outputs": [],
   "source": [
    "X = group_2.values[:,1:].copy()\n",
    "y = group_2.DataValue.values"
   ]
  },
  {
   "cell_type": "code",
   "execution_count": 23,
   "metadata": {},
   "outputs": [
    {
     "name": "stdout",
     "output_type": "stream",
     "text": [
      "Accuracy on training set: 0.999\n",
      "Accuracy on test set: 0.872\n"
     ]
    }
   ],
   "source": [
    "from sklearn import ensemble\n",
    "from sklearn.model_selection import train_test_split\n",
    "\n",
    "\n",
    "X_train, X_test, y_train, y_test = train_test_split(X, y, test_size = 0.2, random_state=0)\n",
    "\n",
    "params = {'n_estimators': 500, 'max_depth': 4, 'min_samples_split': 2,\n",
    "          'learning_rate': 0.01, 'loss': 'ls'}\n",
    "\n",
    "model = ensemble.GradientBoostingRegressor(**params)\n",
    "model.fit(X_train, y_train)\n",
    "\n",
    "print(\"Accuracy on training set: {:.3f}\".format(model.score(X_train, y_train)))\n",
    "print(\"Accuracy on test set: {:.3f}\".format(model.score(X_test, y_test)))"
   ]
  },
  {
   "cell_type": "code",
   "execution_count": 24,
   "metadata": {},
   "outputs": [
    {
     "data": {
      "image/png": "[encoded data removed]",
      "text/plain": [
       "<Figure size 864x432 with 1 Axes>"
      ]
     },
     "metadata": {
      "needs_background": "light"
     },
     "output_type": "display_data"
    }
   ],
   "source": [
    "feature_importance = model.feature_importances_\n",
    "sorted_idx = np.argsort(feature_importance)\n",
    "pos = np.arange(sorted_idx.shape[0]) + .5\n",
    "fig = plt.figure(figsize=(12, 6))\n",
    "plt.subplot(1, 2, 1)\n",
    "plt.barh(pos, feature_importance[sorted_idx], align='center')\n",
    "plt.yticks(pos, np.array(group_2.iloc[:,1:].columns)[sorted_idx])\n",
    "#plt.title('Feature Importance (MDI)')\n",
    "plt.show()"
   ]
  },
  {
   "cell_type": "markdown",
   "metadata": {},
   "source": [
    "### Group 3"
   ]
  },
  {
   "cell_type": "markdown",
   "metadata": {},
   "source": [
    "Segment 3:\n",
    "\n",
    "High regulation and incentives, such as CA."
   ]
  },
  {
   "cell_type": "code",
   "execution_count": 25,
   "metadata": {},
   "outputs": [],
   "source": [
    "X = group_3.values[:,1:].copy()\n",
    "y = group_3.DataValue.values"
   ]
  },
  {
   "cell_type": "code",
   "execution_count": 26,
   "metadata": {},
   "outputs": [
    {
     "name": "stdout",
     "output_type": "stream",
     "text": [
      "Accuracy on training set: 0.999\n",
      "Accuracy on test set: 0.985\n"
     ]
    }
   ],
   "source": [
    "from sklearn import ensemble\n",
    "from sklearn.model_selection import train_test_split\n",
    "\n",
    "\n",
    "X_train, X_test, y_train, y_test = train_test_split(X, y, test_size = 0.2, random_state=0)\n",
    "\n",
    "params = {'n_estimators': 500, 'max_depth': 4, 'min_samples_split': 2,\n",
    "          'learning_rate': 0.01, 'loss': 'ls'}\n",
    "\n",
    "model = ensemble.GradientBoostingRegressor(**params)\n",
    "model.fit(X_train, y_train)\n",
    "\n",
    "print(\"Accuracy on training set: {:.3f}\".format(model.score(X_train, y_train)))\n",
    "print(\"Accuracy on test set: {:.3f}\".format(model.score(X_test, y_test)))"
   ]
  },
  {
   "cell_type": "code",
   "execution_count": 27,
   "metadata": {},
   "outputs": [
    {
     "data": {
      "image/png": "[encoded data removed]",
      "text/plain": [
       "<Figure size 864x432 with 1 Axes>"
      ]
     },
     "metadata": {
      "needs_background": "light"
     },
     "output_type": "display_data"
    }
   ],
   "source": [
    "feature_importance = model.feature_importances_\n",
    "sorted_idx = np.argsort(feature_importance)\n",
    "pos = np.arange(sorted_idx.shape[0]) + .5\n",
    "fig = plt.figure(figsize=(12, 6))\n",
    "plt.subplot(1, 2, 1)\n",
    "plt.barh(pos, feature_importance[sorted_idx], align='center')\n",
    "plt.yticks(pos, np.array(group_3.iloc[:,1:].columns)[sorted_idx])\n",
    "#plt.title('Feature Importance (MDI)')\n",
    "plt.show()"
   ]
  },
  {
   "cell_type": "code",
   "execution_count": null,
   "metadata": {},
   "outputs": [],
   "source": []
  }
 ],
 "metadata": {
  "kernelspec": {
   "display_name": "Python 3",
   "language": "python",
   "name": "python3"
  },
  "language_info": {
   "codemirror_mode": {
    "name": "ipython",
    "version": 3
   },
   "file_extension": ".py",
   "mimetype": "text/x-python",
   "name": "python",
   "nbconvert_exporter": "python",
   "pygments_lexer": "ipython3",
   "version": "3.7.3"
  }
 },
 "nbformat": 4,
 "nbformat_minor": 2
}
