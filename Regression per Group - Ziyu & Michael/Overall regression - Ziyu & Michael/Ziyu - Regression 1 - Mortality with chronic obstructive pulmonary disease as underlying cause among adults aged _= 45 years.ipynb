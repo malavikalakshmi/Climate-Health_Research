{
 "cells": [
  {
   "cell_type": "markdown",
   "metadata": {},
   "source": [
    "# Regression 1"
   ]
  },
  {
   "cell_type": "markdown",
   "metadata": {},
   "source": [
    "###  Mortality with chronic obstructive pulmonary disease as underlying cause among adults aged _= 45 years"
   ]
  },
  {
   "cell_type": "markdown",
   "metadata": {},
   "source": [
    "In this documentation, we are focusing on question:\n",
    "\n",
    "\"Mortality with chronic obstructive pulmonary disease as underlying cause among adults aged _= 45 years\"\n",
    "\n",
    "\n",
    "We splitted data into training and testing, set up cross-validation, and used the accuracy to measure the performance of our models. The results shown as follow:\n",
    "\n",
    "Mortality on Races and other features:\n",
    "- Linear Regression: 75.17%\n",
    "- Random Forest: 93.15%\n",
    "- Gradient Boosting Tree: 88.33%\n",
    "\n",
    "Mortality on Gender and other features: \n",
    "\n",
    "- Linear Regression: 38.35% \n",
    "- Random Forest: 92.59% \n",
    "- Gradient Boosting Tree: 90.26%"
   ]
  },
  {
   "cell_type": "markdown",
   "metadata": {},
   "source": [
    "Overall summary:\n",
    "\n",
    "- According to the results of linear regression, race contribute more to the mortality with chronic obstructive pulmonary disease than gender.\n",
    "\n",
    "\n",
    "- For the model with features including all pollutants, laws and incentives, and race, we include that White, CO2, Hispanic, N2O, and Black are the top 5 influncial contributers to the mortality with chronic obstructive pulmonary disease.\n",
    "\n",
    "\n",
    "- For the model with features including all pollutants, laws and incentives, and gender, we include that N2O, Ozone, CO2 per pop, CO2 per square,and Untility Incentives are the top 5 influncial contributers to the mortality with chronic obstructive pulmonary disease.\n",
    "\n",
    "\n",
    "- All ensemble models (random forest/boosting tree) have accuracy of test dataset ~90%."
   ]
  },
  {
   "cell_type": "code",
   "execution_count": 1,
   "metadata": {},
   "outputs": [],
   "source": [
    "import pandas as pd  \n",
    "import numpy as np  \n",
    "import matplotlib.pyplot as plt  \n",
    "import seaborn as seabornInstance\n",
    "from sklearn.model_selection import train_test_split \n",
    "from sklearn.linear_model import LinearRegression\n",
    "from sklearn import metrics\n",
    "%matplotlib inline\n",
    "import matplotlib.pyplot as plt"
   ]
  },
  {
   "cell_type": "markdown",
   "metadata": {},
   "source": [
    "## Prepare data"
   ]
  },
  {
   "cell_type": "code",
   "execution_count": 2,
   "metadata": {},
   "outputs": [],
   "source": [
    "pd.set_option('display.max_columns',None)"
   ]
  },
  {
   "cell_type": "code",
   "execution_count": 3,
   "metadata": {},
   "outputs": [],
   "source": [
    "data = pd.read_csv('~/Desktop/finaldata.csv').drop(columns = ['Unnamed: 0'])"
   ]
  },
  {
   "cell_type": "code",
   "execution_count": 4,
   "metadata": {
    "scrolled": false
   },
   "outputs": [
    {
     "data": {
      "text/html": [
       "<div>\n",
       "<style scoped>\n",
       "    .dataframe tbody tr th:only-of-type {\n",
       "        vertical-align: middle;\n",
       "    }\n",
       "\n",
       "    .dataframe tbody tr th {\n",
       "        vertical-align: top;\n",
       "    }\n",
       "\n",
       "    .dataframe thead th {\n",
       "        text-align: right;\n",
       "    }\n",
       "</style>\n",
       "<table border=\"1\" class=\"dataframe\">\n",
       "  <thead>\n",
       "    <tr style=\"text-align: right;\">\n",
       "      <th></th>\n",
       "      <th>STATE</th>\n",
       "      <th>Year</th>\n",
       "      <th>CO2</th>\n",
       "      <th>CH4</th>\n",
       "      <th>N2O</th>\n",
       "      <th>Fluorinated GHG</th>\n",
       "      <th>Laws and Regulations</th>\n",
       "      <th>State Incentives</th>\n",
       "      <th>Utility/Private Incentives</th>\n",
       "      <th>Ozone</th>\n",
       "      <th>Question</th>\n",
       "      <th>DataValue</th>\n",
       "      <th>StratificationCategory1</th>\n",
       "      <th>Stratification1</th>\n",
       "      <th>Population</th>\n",
       "      <th>Total Sq. Mi.</th>\n",
       "      <th>Total Sq. Km.</th>\n",
       "    </tr>\n",
       "  </thead>\n",
       "  <tbody>\n",
       "    <tr>\n",
       "      <th>0</th>\n",
       "      <td>AL</td>\n",
       "      <td>2012</td>\n",
       "      <td>84138381</td>\n",
       "      <td>701702</td>\n",
       "      <td>602778</td>\n",
       "      <td>264437</td>\n",
       "      <td>3</td>\n",
       "      <td>7</td>\n",
       "      <td>4</td>\n",
       "      <td>0.044215</td>\n",
       "      <td>Mortality from diseases of the heart</td>\n",
       "      <td>234.8</td>\n",
       "      <td>Gender</td>\n",
       "      <td>Female</td>\n",
       "      <td>4815588.0</td>\n",
       "      <td>52,420</td>\n",
       "      <td>135,767</td>\n",
       "    </tr>\n",
       "    <tr>\n",
       "      <th>1</th>\n",
       "      <td>AL</td>\n",
       "      <td>2012</td>\n",
       "      <td>84138381</td>\n",
       "      <td>701702</td>\n",
       "      <td>602778</td>\n",
       "      <td>264437</td>\n",
       "      <td>3</td>\n",
       "      <td>7</td>\n",
       "      <td>4</td>\n",
       "      <td>0.044215</td>\n",
       "      <td>Asthma mortality rate</td>\n",
       "      <td>14.9</td>\n",
       "      <td>Gender</td>\n",
       "      <td>Female</td>\n",
       "      <td>4815588.0</td>\n",
       "      <td>52,420</td>\n",
       "      <td>135,767</td>\n",
       "    </tr>\n",
       "    <tr>\n",
       "      <th>2</th>\n",
       "      <td>AL</td>\n",
       "      <td>2012</td>\n",
       "      <td>84138381</td>\n",
       "      <td>701702</td>\n",
       "      <td>602778</td>\n",
       "      <td>264437</td>\n",
       "      <td>3</td>\n",
       "      <td>7</td>\n",
       "      <td>4</td>\n",
       "      <td>0.044215</td>\n",
       "      <td>Asthma mortality rate</td>\n",
       "      <td>8.6</td>\n",
       "      <td>Gender</td>\n",
       "      <td>Male</td>\n",
       "      <td>4815588.0</td>\n",
       "      <td>52,420</td>\n",
       "      <td>135,767</td>\n",
       "    </tr>\n",
       "    <tr>\n",
       "      <th>3</th>\n",
       "      <td>AL</td>\n",
       "      <td>2012</td>\n",
       "      <td>84138381</td>\n",
       "      <td>701702</td>\n",
       "      <td>602778</td>\n",
       "      <td>264437</td>\n",
       "      <td>3</td>\n",
       "      <td>7</td>\n",
       "      <td>4</td>\n",
       "      <td>0.044215</td>\n",
       "      <td>Asthma mortality rate</td>\n",
       "      <td>8.9</td>\n",
       "      <td>Race/Ethnicity</td>\n",
       "      <td>White, non-Hispanic</td>\n",
       "      <td>4815588.0</td>\n",
       "      <td>52,420</td>\n",
       "      <td>135,767</td>\n",
       "    </tr>\n",
       "    <tr>\n",
       "      <th>4</th>\n",
       "      <td>AL</td>\n",
       "      <td>2012</td>\n",
       "      <td>84138381</td>\n",
       "      <td>701702</td>\n",
       "      <td>602778</td>\n",
       "      <td>264437</td>\n",
       "      <td>3</td>\n",
       "      <td>7</td>\n",
       "      <td>4</td>\n",
       "      <td>0.044215</td>\n",
       "      <td>Asthma mortality rate</td>\n",
       "      <td>21.8</td>\n",
       "      <td>Race/Ethnicity</td>\n",
       "      <td>Black, non-Hispanic</td>\n",
       "      <td>4815588.0</td>\n",
       "      <td>52,420</td>\n",
       "      <td>135,767</td>\n",
       "    </tr>\n",
       "  </tbody>\n",
       "</table>\n",
       "</div>"
      ],
      "text/plain": [
       "  STATE  Year       CO2     CH4     N2O  Fluorinated GHG  \\\n",
       "0    AL  2012  84138381  701702  602778           264437   \n",
       "1    AL  2012  84138381  701702  602778           264437   \n",
       "2    AL  2012  84138381  701702  602778           264437   \n",
       "3    AL  2012  84138381  701702  602778           264437   \n",
       "4    AL  2012  84138381  701702  602778           264437   \n",
       "\n",
       "   Laws and Regulations  State Incentives  Utility/Private Incentives  \\\n",
       "0                     3                 7                           4   \n",
       "1                     3                 7                           4   \n",
       "2                     3                 7                           4   \n",
       "3                     3                 7                           4   \n",
       "4                     3                 7                           4   \n",
       "\n",
       "      Ozone                              Question  DataValue  \\\n",
       "0  0.044215  Mortality from diseases of the heart      234.8   \n",
       "1  0.044215                 Asthma mortality rate       14.9   \n",
       "2  0.044215                 Asthma mortality rate        8.6   \n",
       "3  0.044215                 Asthma mortality rate        8.9   \n",
       "4  0.044215                 Asthma mortality rate       21.8   \n",
       "\n",
       "  StratificationCategory1      Stratification1  Population Total Sq. Mi.  \\\n",
       "0                  Gender               Female   4815588.0        52,420   \n",
       "1                  Gender               Female   4815588.0        52,420   \n",
       "2                  Gender                 Male   4815588.0        52,420   \n",
       "3          Race/Ethnicity  White, non-Hispanic   4815588.0        52,420   \n",
       "4          Race/Ethnicity  Black, non-Hispanic   4815588.0        52,420   \n",
       "\n",
       "  Total Sq. Km.  \n",
       "0       135,767  \n",
       "1       135,767  \n",
       "2       135,767  \n",
       "3       135,767  \n",
       "4       135,767  "
      ]
     },
     "execution_count": 4,
     "metadata": {},
     "output_type": "execute_result"
    }
   ],
   "source": [
    "data.head()"
   ]
  },
  {
   "cell_type": "code",
   "execution_count": 5,
   "metadata": {},
   "outputs": [],
   "source": [
    "data['Total Sq. Mi.']=data['Total Sq. Mi.'].str.replace(',','')\n",
    "data['Total Sq. Mi.'] = data['Total Sq. Mi.'].astype('int64')"
   ]
  },
  {
   "cell_type": "code",
   "execution_count": 6,
   "metadata": {},
   "outputs": [],
   "source": [
    "data['CO2_PER_POP'] = data['CO2'] / data['Population']\n",
    "data['CO2_PER_SQUARE'] = data['CO2'] / data['Total Sq. Mi.']\n",
    "data['CH4_PER_POP'] = data['CH4'] / data['Population']\n",
    "data['CH4_PER_SQUARE'] = data['CH4'] / data['Total Sq. Mi.']\n",
    "data['N2O_PER_POP'] = data['N2O'] / data['Population']\n",
    "data['N2O_PER_SQUARE'] = data['N2O'] / data['Total Sq. Mi.']\n",
    "data['Fluorinated GHG_PER_POP'] = data['Fluorinated GHG'] / data['Population']\n",
    "data['Fluorinated GHG_PER_SQUARE'] = data['Fluorinated GHG'] / data['Total Sq. Mi.']"
   ]
  },
  {
   "cell_type": "code",
   "execution_count": 7,
   "metadata": {},
   "outputs": [],
   "source": [
    "data.drop(['STATE', 'Year','CO2','CH4','N2O','Fluorinated GHG_PER_POP','Population','Total Sq. Mi.','Total Sq. Km.'], axis=1, inplace=True)"
   ]
  },
  {
   "cell_type": "code",
   "execution_count": 8,
   "metadata": {},
   "outputs": [],
   "source": [
    "data = data[~data['StratificationCategory1'].isnull()]\n",
    "cols = data.columns.tolist()\n",
    "cols = cols[6:] + cols[:6]\n",
    "data = data[cols]"
   ]
  },
  {
   "cell_type": "code",
   "execution_count": 9,
   "metadata": {},
   "outputs": [
    {
     "data": {
      "text/plain": [
       "array(['Mortality from diseases of the heart', 'Asthma mortality rate',\n",
       "       'Mortality from heart failure',\n",
       "       'Mortality with chronic obstructive pulmonary disease as underlying cause among adults aged >= 45 years',\n",
       "       'Mortality with chronic obstructive pulmonary disease as underlying or contributing cause among adults aged >= 45 years',\n",
       "       'Mortality from coronary heart disease',\n",
       "       'Premature mortality among adults aged 45-64 years',\n",
       "       'Mortality from total cardiovascular diseases',\n",
       "       'Invasive cancer (all sites combined), incidence',\n",
       "       'Cancer of the lung and bronchus, incidence'], dtype=object)"
      ]
     },
     "execution_count": 9,
     "metadata": {},
     "output_type": "execute_result"
    }
   ],
   "source": [
    "data['Question'].unique()"
   ]
  },
  {
   "cell_type": "code",
   "execution_count": 10,
   "metadata": {
    "scrolled": false
   },
   "outputs": [
    {
     "data": {
      "text/plain": [
       "array(['Gender', 'Race/Ethnicity', 'Overall'], dtype=object)"
      ]
     },
     "execution_count": 10,
     "metadata": {},
     "output_type": "execute_result"
    }
   ],
   "source": [
    "data['StratificationCategory1'].unique()"
   ]
  },
  {
   "cell_type": "code",
   "execution_count": 11,
   "metadata": {},
   "outputs": [
    {
     "data": {
      "text/html": [
       "<div>\n",
       "<style scoped>\n",
       "    .dataframe tbody tr th:only-of-type {\n",
       "        vertical-align: middle;\n",
       "    }\n",
       "\n",
       "    .dataframe tbody tr th {\n",
       "        vertical-align: top;\n",
       "    }\n",
       "\n",
       "    .dataframe thead th {\n",
       "        text-align: right;\n",
       "    }\n",
       "</style>\n",
       "<table border=\"1\" class=\"dataframe\">\n",
       "  <thead>\n",
       "    <tr style=\"text-align: right;\">\n",
       "      <th></th>\n",
       "      <th>DataValue</th>\n",
       "      <th>StratificationCategory1</th>\n",
       "      <th>Stratification1</th>\n",
       "      <th>CO2_PER_POP</th>\n",
       "      <th>CO2_PER_SQUARE</th>\n",
       "      <th>CH4_PER_POP</th>\n",
       "      <th>CH4_PER_SQUARE</th>\n",
       "      <th>N2O_PER_POP</th>\n",
       "      <th>N2O_PER_SQUARE</th>\n",
       "      <th>Fluorinated GHG_PER_SQUARE</th>\n",
       "      <th>Fluorinated GHG</th>\n",
       "      <th>Laws and Regulations</th>\n",
       "      <th>State Incentives</th>\n",
       "      <th>Utility/Private Incentives</th>\n",
       "      <th>Ozone</th>\n",
       "      <th>Question</th>\n",
       "    </tr>\n",
       "  </thead>\n",
       "  <tbody>\n",
       "    <tr>\n",
       "      <th>0</th>\n",
       "      <td>234.8</td>\n",
       "      <td>Gender</td>\n",
       "      <td>Female</td>\n",
       "      <td>17.472089</td>\n",
       "      <td>1605.081667</td>\n",
       "      <td>0.145715</td>\n",
       "      <td>13.38615</td>\n",
       "      <td>0.125172</td>\n",
       "      <td>11.499008</td>\n",
       "      <td>5.044582</td>\n",
       "      <td>264437</td>\n",
       "      <td>3</td>\n",
       "      <td>7</td>\n",
       "      <td>4</td>\n",
       "      <td>0.044215</td>\n",
       "      <td>Mortality from diseases of the heart</td>\n",
       "    </tr>\n",
       "    <tr>\n",
       "      <th>1</th>\n",
       "      <td>14.9</td>\n",
       "      <td>Gender</td>\n",
       "      <td>Female</td>\n",
       "      <td>17.472089</td>\n",
       "      <td>1605.081667</td>\n",
       "      <td>0.145715</td>\n",
       "      <td>13.38615</td>\n",
       "      <td>0.125172</td>\n",
       "      <td>11.499008</td>\n",
       "      <td>5.044582</td>\n",
       "      <td>264437</td>\n",
       "      <td>3</td>\n",
       "      <td>7</td>\n",
       "      <td>4</td>\n",
       "      <td>0.044215</td>\n",
       "      <td>Asthma mortality rate</td>\n",
       "    </tr>\n",
       "    <tr>\n",
       "      <th>2</th>\n",
       "      <td>8.6</td>\n",
       "      <td>Gender</td>\n",
       "      <td>Male</td>\n",
       "      <td>17.472089</td>\n",
       "      <td>1605.081667</td>\n",
       "      <td>0.145715</td>\n",
       "      <td>13.38615</td>\n",
       "      <td>0.125172</td>\n",
       "      <td>11.499008</td>\n",
       "      <td>5.044582</td>\n",
       "      <td>264437</td>\n",
       "      <td>3</td>\n",
       "      <td>7</td>\n",
       "      <td>4</td>\n",
       "      <td>0.044215</td>\n",
       "      <td>Asthma mortality rate</td>\n",
       "    </tr>\n",
       "    <tr>\n",
       "      <th>3</th>\n",
       "      <td>8.9</td>\n",
       "      <td>Race/Ethnicity</td>\n",
       "      <td>White, non-Hispanic</td>\n",
       "      <td>17.472089</td>\n",
       "      <td>1605.081667</td>\n",
       "      <td>0.145715</td>\n",
       "      <td>13.38615</td>\n",
       "      <td>0.125172</td>\n",
       "      <td>11.499008</td>\n",
       "      <td>5.044582</td>\n",
       "      <td>264437</td>\n",
       "      <td>3</td>\n",
       "      <td>7</td>\n",
       "      <td>4</td>\n",
       "      <td>0.044215</td>\n",
       "      <td>Asthma mortality rate</td>\n",
       "    </tr>\n",
       "    <tr>\n",
       "      <th>4</th>\n",
       "      <td>21.8</td>\n",
       "      <td>Race/Ethnicity</td>\n",
       "      <td>Black, non-Hispanic</td>\n",
       "      <td>17.472089</td>\n",
       "      <td>1605.081667</td>\n",
       "      <td>0.145715</td>\n",
       "      <td>13.38615</td>\n",
       "      <td>0.125172</td>\n",
       "      <td>11.499008</td>\n",
       "      <td>5.044582</td>\n",
       "      <td>264437</td>\n",
       "      <td>3</td>\n",
       "      <td>7</td>\n",
       "      <td>4</td>\n",
       "      <td>0.044215</td>\n",
       "      <td>Asthma mortality rate</td>\n",
       "    </tr>\n",
       "  </tbody>\n",
       "</table>\n",
       "</div>"
      ],
      "text/plain": [
       "   DataValue StratificationCategory1      Stratification1  CO2_PER_POP  \\\n",
       "0      234.8                  Gender               Female    17.472089   \n",
       "1       14.9                  Gender               Female    17.472089   \n",
       "2        8.6                  Gender                 Male    17.472089   \n",
       "3        8.9          Race/Ethnicity  White, non-Hispanic    17.472089   \n",
       "4       21.8          Race/Ethnicity  Black, non-Hispanic    17.472089   \n",
       "\n",
       "   CO2_PER_SQUARE  CH4_PER_POP  CH4_PER_SQUARE  N2O_PER_POP  N2O_PER_SQUARE  \\\n",
       "0     1605.081667     0.145715        13.38615     0.125172       11.499008   \n",
       "1     1605.081667     0.145715        13.38615     0.125172       11.499008   \n",
       "2     1605.081667     0.145715        13.38615     0.125172       11.499008   \n",
       "3     1605.081667     0.145715        13.38615     0.125172       11.499008   \n",
       "4     1605.081667     0.145715        13.38615     0.125172       11.499008   \n",
       "\n",
       "   Fluorinated GHG_PER_SQUARE  Fluorinated GHG  Laws and Regulations  \\\n",
       "0                    5.044582           264437                     3   \n",
       "1                    5.044582           264437                     3   \n",
       "2                    5.044582           264437                     3   \n",
       "3                    5.044582           264437                     3   \n",
       "4                    5.044582           264437                     3   \n",
       "\n",
       "   State Incentives  Utility/Private Incentives     Ozone  \\\n",
       "0                 7                           4  0.044215   \n",
       "1                 7                           4  0.044215   \n",
       "2                 7                           4  0.044215   \n",
       "3                 7                           4  0.044215   \n",
       "4                 7                           4  0.044215   \n",
       "\n",
       "                               Question  \n",
       "0  Mortality from diseases of the heart  \n",
       "1                 Asthma mortality rate  \n",
       "2                 Asthma mortality rate  \n",
       "3                 Asthma mortality rate  \n",
       "4                 Asthma mortality rate  "
      ]
     },
     "execution_count": 11,
     "metadata": {},
     "output_type": "execute_result"
    }
   ],
   "source": [
    "data.head()"
   ]
  },
  {
   "cell_type": "code",
   "execution_count": 12,
   "metadata": {
    "scrolled": true
   },
   "outputs": [
    {
     "data": {
      "text/plain": [
       "(22416, 16)"
      ]
     },
     "execution_count": 12,
     "metadata": {},
     "output_type": "execute_result"
    }
   ],
   "source": [
    "data.shape"
   ]
  },
  {
   "cell_type": "code",
   "execution_count": 13,
   "metadata": {},
   "outputs": [
    {
     "data": {
      "text/plain": [
       "DataValue                     5297\n",
       "StratificationCategory1          0\n",
       "Stratification1                  0\n",
       "CO2_PER_POP                      0\n",
       "CO2_PER_SQUARE                   0\n",
       "CH4_PER_POP                      0\n",
       "CH4_PER_SQUARE                   0\n",
       "N2O_PER_POP                      0\n",
       "N2O_PER_SQUARE                   0\n",
       "Fluorinated GHG_PER_SQUARE       0\n",
       "Fluorinated GHG                  0\n",
       "Laws and Regulations             0\n",
       "State Incentives                 0\n",
       "Utility/Private Incentives       0\n",
       "Ozone                            0\n",
       "Question                         0\n",
       "dtype: int64"
      ]
     },
     "execution_count": 13,
     "metadata": {},
     "output_type": "execute_result"
    }
   ],
   "source": [
    "data.isnull().sum()"
   ]
  },
  {
   "cell_type": "markdown",
   "metadata": {},
   "source": [
    "## Question"
   ]
  },
  {
   "cell_type": "markdown",
   "metadata": {},
   "source": [
    "- Mortality with chronic obstructive pulmonary disease as underlying cause among adults aged >= 45 years"
   ]
  },
  {
   "cell_type": "code",
   "execution_count": 14,
   "metadata": {},
   "outputs": [],
   "source": [
    "data_q1 = data[data['Question']=='Mortality with chronic obstructive pulmonary disease as underlying cause among adults aged >= 45 years']"
   ]
  },
  {
   "cell_type": "code",
   "execution_count": 15,
   "metadata": {
    "scrolled": false
   },
   "outputs": [
    {
     "data": {
      "text/plain": [
       "DataValue                     805\n",
       "StratificationCategory1         0\n",
       "Stratification1                 0\n",
       "CO2_PER_POP                     0\n",
       "CO2_PER_SQUARE                  0\n",
       "CH4_PER_POP                     0\n",
       "CH4_PER_SQUARE                  0\n",
       "N2O_PER_POP                     0\n",
       "N2O_PER_SQUARE                  0\n",
       "Fluorinated GHG_PER_SQUARE      0\n",
       "Fluorinated GHG                 0\n",
       "Laws and Regulations            0\n",
       "State Incentives                0\n",
       "Utility/Private Incentives      0\n",
       "Ozone                           0\n",
       "Question                        0\n",
       "dtype: int64"
      ]
     },
     "execution_count": 15,
     "metadata": {},
     "output_type": "execute_result"
    }
   ],
   "source": [
    "data_q1[data_q1['StratificationCategory1']=='Race/Ethnicity'].isnull().sum()"
   ]
  },
  {
   "cell_type": "code",
   "execution_count": 16,
   "metadata": {},
   "outputs": [
    {
     "data": {
      "text/plain": [
       "DataValue                     0\n",
       "StratificationCategory1       0\n",
       "Stratification1               0\n",
       "CO2_PER_POP                   0\n",
       "CO2_PER_SQUARE                0\n",
       "CH4_PER_POP                   0\n",
       "CH4_PER_SQUARE                0\n",
       "N2O_PER_POP                   0\n",
       "N2O_PER_SQUARE                0\n",
       "Fluorinated GHG_PER_SQUARE    0\n",
       "Fluorinated GHG               0\n",
       "Laws and Regulations          0\n",
       "State Incentives              0\n",
       "Utility/Private Incentives    0\n",
       "Ozone                         0\n",
       "Question                      0\n",
       "dtype: int64"
      ]
     },
     "execution_count": 16,
     "metadata": {},
     "output_type": "execute_result"
    }
   ],
   "source": [
    "data_q1[data_q1['StratificationCategory1']=='Gender'].isnull().sum()"
   ]
  },
  {
   "cell_type": "markdown",
   "metadata": {},
   "source": [
    "#### Race"
   ]
  },
  {
   "cell_type": "code",
   "execution_count": 17,
   "metadata": {},
   "outputs": [
    {
     "name": "stderr",
     "output_type": "stream",
     "text": [
      "//anaconda3/lib/python3.7/site-packages/pandas/core/frame.py:3940: SettingWithCopyWarning: \n",
      "A value is trying to be set on a copy of a slice from a DataFrame\n",
      "\n",
      "See the caveats in the documentation: http://pandas.pydata.org/pandas-docs/stable/indexing.html#indexing-view-versus-copy\n",
      "  errors=errors)\n"
     ]
    }
   ],
   "source": [
    "data_q1_1 = data_q1[data_q1['StratificationCategory1']=='Race/Ethnicity']\n",
    "data_q1_1.drop(['Question','StratificationCategory1'], axis=1, inplace=True)\n",
    "data_q1_1 = data_q1_1[~data_q1_1['DataValue'].isnull()]"
   ]
  },
  {
   "cell_type": "code",
   "execution_count": 18,
   "metadata": {},
   "outputs": [
    {
     "data": {
      "text/html": [
       "<div>\n",
       "<style scoped>\n",
       "    .dataframe tbody tr th:only-of-type {\n",
       "        vertical-align: middle;\n",
       "    }\n",
       "\n",
       "    .dataframe tbody tr th {\n",
       "        vertical-align: top;\n",
       "    }\n",
       "\n",
       "    .dataframe thead th {\n",
       "        text-align: right;\n",
       "    }\n",
       "</style>\n",
       "<table border=\"1\" class=\"dataframe\">\n",
       "  <thead>\n",
       "    <tr style=\"text-align: right;\">\n",
       "      <th></th>\n",
       "      <th>DataValue</th>\n",
       "      <th>Stratification1</th>\n",
       "      <th>CO2_PER_POP</th>\n",
       "      <th>CO2_PER_SQUARE</th>\n",
       "      <th>CH4_PER_POP</th>\n",
       "      <th>CH4_PER_SQUARE</th>\n",
       "      <th>N2O_PER_POP</th>\n",
       "      <th>N2O_PER_SQUARE</th>\n",
       "      <th>Fluorinated GHG_PER_SQUARE</th>\n",
       "      <th>Fluorinated GHG</th>\n",
       "      <th>Laws and Regulations</th>\n",
       "      <th>State Incentives</th>\n",
       "      <th>Utility/Private Incentives</th>\n",
       "      <th>Ozone</th>\n",
       "    </tr>\n",
       "  </thead>\n",
       "  <tbody>\n",
       "    <tr>\n",
       "      <th>51</th>\n",
       "      <td>56.9</td>\n",
       "      <td>Black, non-Hispanic</td>\n",
       "      <td>17.472089</td>\n",
       "      <td>1605.081667</td>\n",
       "      <td>0.145715</td>\n",
       "      <td>13.386150</td>\n",
       "      <td>0.125172</td>\n",
       "      <td>11.499008</td>\n",
       "      <td>5.044582</td>\n",
       "      <td>264437</td>\n",
       "      <td>3</td>\n",
       "      <td>7</td>\n",
       "      <td>4</td>\n",
       "      <td>0.044215</td>\n",
       "    </tr>\n",
       "    <tr>\n",
       "      <th>53</th>\n",
       "      <td>179.4</td>\n",
       "      <td>White, non-Hispanic</td>\n",
       "      <td>17.472089</td>\n",
       "      <td>1605.081667</td>\n",
       "      <td>0.145715</td>\n",
       "      <td>13.386150</td>\n",
       "      <td>0.125172</td>\n",
       "      <td>11.499008</td>\n",
       "      <td>5.044582</td>\n",
       "      <td>264437</td>\n",
       "      <td>3</td>\n",
       "      <td>7</td>\n",
       "      <td>4</td>\n",
       "      <td>0.044215</td>\n",
       "    </tr>\n",
       "    <tr>\n",
       "      <th>82</th>\n",
       "      <td>178.7</td>\n",
       "      <td>White, non-Hispanic</td>\n",
       "      <td>17.245662</td>\n",
       "      <td>1589.048932</td>\n",
       "      <td>0.123060</td>\n",
       "      <td>11.338955</td>\n",
       "      <td>0.093460</td>\n",
       "      <td>8.611599</td>\n",
       "      <td>5.230713</td>\n",
       "      <td>274194</td>\n",
       "      <td>3</td>\n",
       "      <td>7</td>\n",
       "      <td>4</td>\n",
       "      <td>0.039733</td>\n",
       "    </tr>\n",
       "    <tr>\n",
       "      <th>94</th>\n",
       "      <td>64.3</td>\n",
       "      <td>Black, non-Hispanic</td>\n",
       "      <td>17.245662</td>\n",
       "      <td>1589.048932</td>\n",
       "      <td>0.123060</td>\n",
       "      <td>11.338955</td>\n",
       "      <td>0.093460</td>\n",
       "      <td>8.611599</td>\n",
       "      <td>5.230713</td>\n",
       "      <td>274194</td>\n",
       "      <td>3</td>\n",
       "      <td>7</td>\n",
       "      <td>4</td>\n",
       "      <td>0.039733</td>\n",
       "    </tr>\n",
       "    <tr>\n",
       "      <th>139</th>\n",
       "      <td>176.8</td>\n",
       "      <td>White, non-Hispanic</td>\n",
       "      <td>17.523932</td>\n",
       "      <td>1618.606543</td>\n",
       "      <td>0.130945</td>\n",
       "      <td>12.094792</td>\n",
       "      <td>0.108513</td>\n",
       "      <td>10.022873</td>\n",
       "      <td>5.955761</td>\n",
       "      <td>312201</td>\n",
       "      <td>3</td>\n",
       "      <td>7</td>\n",
       "      <td>4</td>\n",
       "      <td>0.040936</td>\n",
       "    </tr>\n",
       "  </tbody>\n",
       "</table>\n",
       "</div>"
      ],
      "text/plain": [
       "     DataValue      Stratification1  CO2_PER_POP  CO2_PER_SQUARE  CH4_PER_POP  \\\n",
       "51        56.9  Black, non-Hispanic    17.472089     1605.081667     0.145715   \n",
       "53       179.4  White, non-Hispanic    17.472089     1605.081667     0.145715   \n",
       "82       178.7  White, non-Hispanic    17.245662     1589.048932     0.123060   \n",
       "94        64.3  Black, non-Hispanic    17.245662     1589.048932     0.123060   \n",
       "139      176.8  White, non-Hispanic    17.523932     1618.606543     0.130945   \n",
       "\n",
       "     CH4_PER_SQUARE  N2O_PER_POP  N2O_PER_SQUARE  Fluorinated GHG_PER_SQUARE  \\\n",
       "51        13.386150     0.125172       11.499008                    5.044582   \n",
       "53        13.386150     0.125172       11.499008                    5.044582   \n",
       "82        11.338955     0.093460        8.611599                    5.230713   \n",
       "94        11.338955     0.093460        8.611599                    5.230713   \n",
       "139       12.094792     0.108513       10.022873                    5.955761   \n",
       "\n",
       "     Fluorinated GHG  Laws and Regulations  State Incentives  \\\n",
       "51            264437                     3                 7   \n",
       "53            264437                     3                 7   \n",
       "82            274194                     3                 7   \n",
       "94            274194                     3                 7   \n",
       "139           312201                     3                 7   \n",
       "\n",
       "     Utility/Private Incentives     Ozone  \n",
       "51                            4  0.044215  \n",
       "53                            4  0.044215  \n",
       "82                            4  0.039733  \n",
       "94                            4  0.039733  \n",
       "139                           4  0.040936  "
      ]
     },
     "execution_count": 18,
     "metadata": {},
     "output_type": "execute_result"
    }
   ],
   "source": [
    "data_q1_1.head()"
   ]
  },
  {
   "cell_type": "markdown",
   "metadata": {},
   "source": [
    "#### Gender"
   ]
  },
  {
   "cell_type": "code",
   "execution_count": 19,
   "metadata": {
    "scrolled": false
   },
   "outputs": [],
   "source": [
    "data_q1_2 = data_q1[data_q1['StratificationCategory1']=='Gender']\n",
    "data_q1_2.drop(['Question','StratificationCategory1'], axis=1, inplace=True)"
   ]
  },
  {
   "cell_type": "code",
   "execution_count": 20,
   "metadata": {
    "scrolled": true
   },
   "outputs": [
    {
     "data": {
      "text/html": [
       "<div>\n",
       "<style scoped>\n",
       "    .dataframe tbody tr th:only-of-type {\n",
       "        vertical-align: middle;\n",
       "    }\n",
       "\n",
       "    .dataframe tbody tr th {\n",
       "        vertical-align: top;\n",
       "    }\n",
       "\n",
       "    .dataframe thead th {\n",
       "        text-align: right;\n",
       "    }\n",
       "</style>\n",
       "<table border=\"1\" class=\"dataframe\">\n",
       "  <thead>\n",
       "    <tr style=\"text-align: right;\">\n",
       "      <th></th>\n",
       "      <th>DataValue</th>\n",
       "      <th>Stratification1</th>\n",
       "      <th>CO2_PER_POP</th>\n",
       "      <th>CO2_PER_SQUARE</th>\n",
       "      <th>CH4_PER_POP</th>\n",
       "      <th>CH4_PER_SQUARE</th>\n",
       "      <th>N2O_PER_POP</th>\n",
       "      <th>N2O_PER_SQUARE</th>\n",
       "      <th>Fluorinated GHG_PER_SQUARE</th>\n",
       "      <th>Fluorinated GHG</th>\n",
       "      <th>Laws and Regulations</th>\n",
       "      <th>State Incentives</th>\n",
       "      <th>Utility/Private Incentives</th>\n",
       "      <th>Ozone</th>\n",
       "    </tr>\n",
       "  </thead>\n",
       "  <tbody>\n",
       "    <tr>\n",
       "      <th>35</th>\n",
       "      <td>159.5</td>\n",
       "      <td>Male</td>\n",
       "      <td>17.472089</td>\n",
       "      <td>1605.081667</td>\n",
       "      <td>0.145715</td>\n",
       "      <td>13.386150</td>\n",
       "      <td>0.125172</td>\n",
       "      <td>11.499008</td>\n",
       "      <td>5.044582</td>\n",
       "      <td>264437</td>\n",
       "      <td>3</td>\n",
       "      <td>7</td>\n",
       "      <td>4</td>\n",
       "      <td>0.044215</td>\n",
       "    </tr>\n",
       "    <tr>\n",
       "      <th>45</th>\n",
       "      <td>136.8</td>\n",
       "      <td>Female</td>\n",
       "      <td>17.472089</td>\n",
       "      <td>1605.081667</td>\n",
       "      <td>0.145715</td>\n",
       "      <td>13.386150</td>\n",
       "      <td>0.125172</td>\n",
       "      <td>11.499008</td>\n",
       "      <td>5.044582</td>\n",
       "      <td>264437</td>\n",
       "      <td>3</td>\n",
       "      <td>7</td>\n",
       "      <td>4</td>\n",
       "      <td>0.044215</td>\n",
       "    </tr>\n",
       "    <tr>\n",
       "      <th>86</th>\n",
       "      <td>165.1</td>\n",
       "      <td>Male</td>\n",
       "      <td>17.245662</td>\n",
       "      <td>1589.048932</td>\n",
       "      <td>0.123060</td>\n",
       "      <td>11.338955</td>\n",
       "      <td>0.093460</td>\n",
       "      <td>8.611599</td>\n",
       "      <td>5.230713</td>\n",
       "      <td>274194</td>\n",
       "      <td>3</td>\n",
       "      <td>7</td>\n",
       "      <td>4</td>\n",
       "      <td>0.039733</td>\n",
       "    </tr>\n",
       "    <tr>\n",
       "      <th>88</th>\n",
       "      <td>133.7</td>\n",
       "      <td>Female</td>\n",
       "      <td>17.245662</td>\n",
       "      <td>1589.048932</td>\n",
       "      <td>0.123060</td>\n",
       "      <td>11.338955</td>\n",
       "      <td>0.093460</td>\n",
       "      <td>8.611599</td>\n",
       "      <td>5.230713</td>\n",
       "      <td>274194</td>\n",
       "      <td>3</td>\n",
       "      <td>7</td>\n",
       "      <td>4</td>\n",
       "      <td>0.039733</td>\n",
       "    </tr>\n",
       "    <tr>\n",
       "      <th>153</th>\n",
       "      <td>135.3</td>\n",
       "      <td>Female</td>\n",
       "      <td>17.523932</td>\n",
       "      <td>1618.606543</td>\n",
       "      <td>0.130945</td>\n",
       "      <td>12.094792</td>\n",
       "      <td>0.108513</td>\n",
       "      <td>10.022873</td>\n",
       "      <td>5.955761</td>\n",
       "      <td>312201</td>\n",
       "      <td>3</td>\n",
       "      <td>7</td>\n",
       "      <td>4</td>\n",
       "      <td>0.040936</td>\n",
       "    </tr>\n",
       "  </tbody>\n",
       "</table>\n",
       "</div>"
      ],
      "text/plain": [
       "     DataValue Stratification1  CO2_PER_POP  CO2_PER_SQUARE  CH4_PER_POP  \\\n",
       "35       159.5            Male    17.472089     1605.081667     0.145715   \n",
       "45       136.8          Female    17.472089     1605.081667     0.145715   \n",
       "86       165.1            Male    17.245662     1589.048932     0.123060   \n",
       "88       133.7          Female    17.245662     1589.048932     0.123060   \n",
       "153      135.3          Female    17.523932     1618.606543     0.130945   \n",
       "\n",
       "     CH4_PER_SQUARE  N2O_PER_POP  N2O_PER_SQUARE  Fluorinated GHG_PER_SQUARE  \\\n",
       "35        13.386150     0.125172       11.499008                    5.044582   \n",
       "45        13.386150     0.125172       11.499008                    5.044582   \n",
       "86        11.338955     0.093460        8.611599                    5.230713   \n",
       "88        11.338955     0.093460        8.611599                    5.230713   \n",
       "153       12.094792     0.108513       10.022873                    5.955761   \n",
       "\n",
       "     Fluorinated GHG  Laws and Regulations  State Incentives  \\\n",
       "35            264437                     3                 7   \n",
       "45            264437                     3                 7   \n",
       "86            274194                     3                 7   \n",
       "88            274194                     3                 7   \n",
       "153           312201                     3                 7   \n",
       "\n",
       "     Utility/Private Incentives     Ozone  \n",
       "35                            4  0.044215  \n",
       "45                            4  0.044215  \n",
       "86                            4  0.039733  \n",
       "88                            4  0.039733  \n",
       "153                           4  0.040936  "
      ]
     },
     "execution_count": 20,
     "metadata": {},
     "output_type": "execute_result"
    }
   ],
   "source": [
    "data_q1_2.head()"
   ]
  },
  {
   "cell_type": "markdown",
   "metadata": {},
   "source": [
    "#### Label_encoding"
   ]
  },
  {
   "cell_type": "markdown",
   "metadata": {},
   "source": [
    "Encode race"
   ]
  },
  {
   "cell_type": "code",
   "execution_count": 21,
   "metadata": {},
   "outputs": [],
   "source": [
    "data_q1_1.rename(columns={'Stratification1':'Race'}, inplace=True)\n",
    "data_q1_1 = pd.get_dummies(data_q1_1, columns = ['Race'], drop_first = True)"
   ]
  },
  {
   "cell_type": "code",
   "execution_count": 22,
   "metadata": {},
   "outputs": [
    {
     "data": {
      "text/html": [
       "<div>\n",
       "<style scoped>\n",
       "    .dataframe tbody tr th:only-of-type {\n",
       "        vertical-align: middle;\n",
       "    }\n",
       "\n",
       "    .dataframe tbody tr th {\n",
       "        vertical-align: top;\n",
       "    }\n",
       "\n",
       "    .dataframe thead th {\n",
       "        text-align: right;\n",
       "    }\n",
       "</style>\n",
       "<table border=\"1\" class=\"dataframe\">\n",
       "  <thead>\n",
       "    <tr style=\"text-align: right;\">\n",
       "      <th></th>\n",
       "      <th>DataValue</th>\n",
       "      <th>CO2_PER_POP</th>\n",
       "      <th>CO2_PER_SQUARE</th>\n",
       "      <th>CH4_PER_POP</th>\n",
       "      <th>CH4_PER_SQUARE</th>\n",
       "      <th>N2O_PER_POP</th>\n",
       "      <th>N2O_PER_SQUARE</th>\n",
       "      <th>Fluorinated GHG_PER_SQUARE</th>\n",
       "      <th>Fluorinated GHG</th>\n",
       "      <th>Laws and Regulations</th>\n",
       "      <th>State Incentives</th>\n",
       "      <th>Utility/Private Incentives</th>\n",
       "      <th>Ozone</th>\n",
       "      <th>Race_Asian or Pacific Islander</th>\n",
       "      <th>Race_Black, non-Hispanic</th>\n",
       "      <th>Race_Hispanic</th>\n",
       "      <th>Race_White, non-Hispanic</th>\n",
       "    </tr>\n",
       "  </thead>\n",
       "  <tbody>\n",
       "    <tr>\n",
       "      <th>51</th>\n",
       "      <td>56.9</td>\n",
       "      <td>17.472089</td>\n",
       "      <td>1605.081667</td>\n",
       "      <td>0.145715</td>\n",
       "      <td>13.386150</td>\n",
       "      <td>0.125172</td>\n",
       "      <td>11.499008</td>\n",
       "      <td>5.044582</td>\n",
       "      <td>264437</td>\n",
       "      <td>3</td>\n",
       "      <td>7</td>\n",
       "      <td>4</td>\n",
       "      <td>0.044215</td>\n",
       "      <td>0</td>\n",
       "      <td>1</td>\n",
       "      <td>0</td>\n",
       "      <td>0</td>\n",
       "    </tr>\n",
       "    <tr>\n",
       "      <th>53</th>\n",
       "      <td>179.4</td>\n",
       "      <td>17.472089</td>\n",
       "      <td>1605.081667</td>\n",
       "      <td>0.145715</td>\n",
       "      <td>13.386150</td>\n",
       "      <td>0.125172</td>\n",
       "      <td>11.499008</td>\n",
       "      <td>5.044582</td>\n",
       "      <td>264437</td>\n",
       "      <td>3</td>\n",
       "      <td>7</td>\n",
       "      <td>4</td>\n",
       "      <td>0.044215</td>\n",
       "      <td>0</td>\n",
       "      <td>0</td>\n",
       "      <td>0</td>\n",
       "      <td>1</td>\n",
       "    </tr>\n",
       "    <tr>\n",
       "      <th>82</th>\n",
       "      <td>178.7</td>\n",
       "      <td>17.245662</td>\n",
       "      <td>1589.048932</td>\n",
       "      <td>0.123060</td>\n",
       "      <td>11.338955</td>\n",
       "      <td>0.093460</td>\n",
       "      <td>8.611599</td>\n",
       "      <td>5.230713</td>\n",
       "      <td>274194</td>\n",
       "      <td>3</td>\n",
       "      <td>7</td>\n",
       "      <td>4</td>\n",
       "      <td>0.039733</td>\n",
       "      <td>0</td>\n",
       "      <td>0</td>\n",
       "      <td>0</td>\n",
       "      <td>1</td>\n",
       "    </tr>\n",
       "    <tr>\n",
       "      <th>94</th>\n",
       "      <td>64.3</td>\n",
       "      <td>17.245662</td>\n",
       "      <td>1589.048932</td>\n",
       "      <td>0.123060</td>\n",
       "      <td>11.338955</td>\n",
       "      <td>0.093460</td>\n",
       "      <td>8.611599</td>\n",
       "      <td>5.230713</td>\n",
       "      <td>274194</td>\n",
       "      <td>3</td>\n",
       "      <td>7</td>\n",
       "      <td>4</td>\n",
       "      <td>0.039733</td>\n",
       "      <td>0</td>\n",
       "      <td>1</td>\n",
       "      <td>0</td>\n",
       "      <td>0</td>\n",
       "    </tr>\n",
       "    <tr>\n",
       "      <th>139</th>\n",
       "      <td>176.8</td>\n",
       "      <td>17.523932</td>\n",
       "      <td>1618.606543</td>\n",
       "      <td>0.130945</td>\n",
       "      <td>12.094792</td>\n",
       "      <td>0.108513</td>\n",
       "      <td>10.022873</td>\n",
       "      <td>5.955761</td>\n",
       "      <td>312201</td>\n",
       "      <td>3</td>\n",
       "      <td>7</td>\n",
       "      <td>4</td>\n",
       "      <td>0.040936</td>\n",
       "      <td>0</td>\n",
       "      <td>0</td>\n",
       "      <td>0</td>\n",
       "      <td>1</td>\n",
       "    </tr>\n",
       "  </tbody>\n",
       "</table>\n",
       "</div>"
      ],
      "text/plain": [
       "     DataValue  CO2_PER_POP  CO2_PER_SQUARE  CH4_PER_POP  CH4_PER_SQUARE  \\\n",
       "51        56.9    17.472089     1605.081667     0.145715       13.386150   \n",
       "53       179.4    17.472089     1605.081667     0.145715       13.386150   \n",
       "82       178.7    17.245662     1589.048932     0.123060       11.338955   \n",
       "94        64.3    17.245662     1589.048932     0.123060       11.338955   \n",
       "139      176.8    17.523932     1618.606543     0.130945       12.094792   \n",
       "\n",
       "     N2O_PER_POP  N2O_PER_SQUARE  Fluorinated GHG_PER_SQUARE  Fluorinated GHG  \\\n",
       "51      0.125172       11.499008                    5.044582           264437   \n",
       "53      0.125172       11.499008                    5.044582           264437   \n",
       "82      0.093460        8.611599                    5.230713           274194   \n",
       "94      0.093460        8.611599                    5.230713           274194   \n",
       "139     0.108513       10.022873                    5.955761           312201   \n",
       "\n",
       "     Laws and Regulations  State Incentives  Utility/Private Incentives  \\\n",
       "51                      3                 7                           4   \n",
       "53                      3                 7                           4   \n",
       "82                      3                 7                           4   \n",
       "94                      3                 7                           4   \n",
       "139                     3                 7                           4   \n",
       "\n",
       "        Ozone  Race_Asian or Pacific Islander  Race_Black, non-Hispanic  \\\n",
       "51   0.044215                               0                         1   \n",
       "53   0.044215                               0                         0   \n",
       "82   0.039733                               0                         0   \n",
       "94   0.039733                               0                         1   \n",
       "139  0.040936                               0                         0   \n",
       "\n",
       "     Race_Hispanic  Race_White, non-Hispanic  \n",
       "51               0                         0  \n",
       "53               0                         1  \n",
       "82               0                         1  \n",
       "94               0                         0  \n",
       "139              0                         1  "
      ]
     },
     "execution_count": 22,
     "metadata": {},
     "output_type": "execute_result"
    }
   ],
   "source": [
    "data_q1_1.head()"
   ]
  },
  {
   "cell_type": "markdown",
   "metadata": {},
   "source": [
    "Encode male by 1, female by 0"
   ]
  },
  {
   "cell_type": "code",
   "execution_count": 23,
   "metadata": {},
   "outputs": [
    {
     "name": "stderr",
     "output_type": "stream",
     "text": [
      "//anaconda3/lib/python3.7/site-packages/ipykernel_launcher.py:3: SettingWithCopyWarning: \n",
      "A value is trying to be set on a copy of a slice from a DataFrame.\n",
      "Try using .loc[row_indexer,col_indexer] = value instead\n",
      "\n",
      "See the caveats in the documentation: http://pandas.pydata.org/pandas-docs/stable/indexing.html#indexing-view-versus-copy\n",
      "  This is separate from the ipykernel package so we can avoid doing imports until\n",
      "//anaconda3/lib/python3.7/site-packages/pandas/core/frame.py:4025: SettingWithCopyWarning: \n",
      "A value is trying to be set on a copy of a slice from a DataFrame\n",
      "\n",
      "See the caveats in the documentation: http://pandas.pydata.org/pandas-docs/stable/indexing.html#indexing-view-versus-copy\n",
      "  return super(DataFrame, self).rename(**kwargs)\n"
     ]
    }
   ],
   "source": [
    "from sklearn import preprocessing\n",
    "label_encoder = preprocessing.LabelEncoder()\n",
    "data_q1_2['Stratification1'] = label_encoder.fit_transform(data_q1_2['Stratification1'])\n",
    "data_q1_2.rename(columns={'Stratification1':'Male'}, inplace=True)"
   ]
  },
  {
   "cell_type": "code",
   "execution_count": 24,
   "metadata": {
    "scrolled": false
   },
   "outputs": [
    {
     "data": {
      "text/html": [
       "<div>\n",
       "<style scoped>\n",
       "    .dataframe tbody tr th:only-of-type {\n",
       "        vertical-align: middle;\n",
       "    }\n",
       "\n",
       "    .dataframe tbody tr th {\n",
       "        vertical-align: top;\n",
       "    }\n",
       "\n",
       "    .dataframe thead th {\n",
       "        text-align: right;\n",
       "    }\n",
       "</style>\n",
       "<table border=\"1\" class=\"dataframe\">\n",
       "  <thead>\n",
       "    <tr style=\"text-align: right;\">\n",
       "      <th></th>\n",
       "      <th>DataValue</th>\n",
       "      <th>Male</th>\n",
       "      <th>CO2_PER_POP</th>\n",
       "      <th>CO2_PER_SQUARE</th>\n",
       "      <th>CH4_PER_POP</th>\n",
       "      <th>CH4_PER_SQUARE</th>\n",
       "      <th>N2O_PER_POP</th>\n",
       "      <th>N2O_PER_SQUARE</th>\n",
       "      <th>Fluorinated GHG_PER_SQUARE</th>\n",
       "      <th>Fluorinated GHG</th>\n",
       "      <th>Laws and Regulations</th>\n",
       "      <th>State Incentives</th>\n",
       "      <th>Utility/Private Incentives</th>\n",
       "      <th>Ozone</th>\n",
       "    </tr>\n",
       "  </thead>\n",
       "  <tbody>\n",
       "    <tr>\n",
       "      <th>35</th>\n",
       "      <td>159.5</td>\n",
       "      <td>1</td>\n",
       "      <td>17.472089</td>\n",
       "      <td>1605.081667</td>\n",
       "      <td>0.145715</td>\n",
       "      <td>13.386150</td>\n",
       "      <td>0.125172</td>\n",
       "      <td>11.499008</td>\n",
       "      <td>5.044582</td>\n",
       "      <td>264437</td>\n",
       "      <td>3</td>\n",
       "      <td>7</td>\n",
       "      <td>4</td>\n",
       "      <td>0.044215</td>\n",
       "    </tr>\n",
       "    <tr>\n",
       "      <th>45</th>\n",
       "      <td>136.8</td>\n",
       "      <td>0</td>\n",
       "      <td>17.472089</td>\n",
       "      <td>1605.081667</td>\n",
       "      <td>0.145715</td>\n",
       "      <td>13.386150</td>\n",
       "      <td>0.125172</td>\n",
       "      <td>11.499008</td>\n",
       "      <td>5.044582</td>\n",
       "      <td>264437</td>\n",
       "      <td>3</td>\n",
       "      <td>7</td>\n",
       "      <td>4</td>\n",
       "      <td>0.044215</td>\n",
       "    </tr>\n",
       "    <tr>\n",
       "      <th>86</th>\n",
       "      <td>165.1</td>\n",
       "      <td>1</td>\n",
       "      <td>17.245662</td>\n",
       "      <td>1589.048932</td>\n",
       "      <td>0.123060</td>\n",
       "      <td>11.338955</td>\n",
       "      <td>0.093460</td>\n",
       "      <td>8.611599</td>\n",
       "      <td>5.230713</td>\n",
       "      <td>274194</td>\n",
       "      <td>3</td>\n",
       "      <td>7</td>\n",
       "      <td>4</td>\n",
       "      <td>0.039733</td>\n",
       "    </tr>\n",
       "    <tr>\n",
       "      <th>88</th>\n",
       "      <td>133.7</td>\n",
       "      <td>0</td>\n",
       "      <td>17.245662</td>\n",
       "      <td>1589.048932</td>\n",
       "      <td>0.123060</td>\n",
       "      <td>11.338955</td>\n",
       "      <td>0.093460</td>\n",
       "      <td>8.611599</td>\n",
       "      <td>5.230713</td>\n",
       "      <td>274194</td>\n",
       "      <td>3</td>\n",
       "      <td>7</td>\n",
       "      <td>4</td>\n",
       "      <td>0.039733</td>\n",
       "    </tr>\n",
       "    <tr>\n",
       "      <th>153</th>\n",
       "      <td>135.3</td>\n",
       "      <td>0</td>\n",
       "      <td>17.523932</td>\n",
       "      <td>1618.606543</td>\n",
       "      <td>0.130945</td>\n",
       "      <td>12.094792</td>\n",
       "      <td>0.108513</td>\n",
       "      <td>10.022873</td>\n",
       "      <td>5.955761</td>\n",
       "      <td>312201</td>\n",
       "      <td>3</td>\n",
       "      <td>7</td>\n",
       "      <td>4</td>\n",
       "      <td>0.040936</td>\n",
       "    </tr>\n",
       "  </tbody>\n",
       "</table>\n",
       "</div>"
      ],
      "text/plain": [
       "     DataValue  Male  CO2_PER_POP  CO2_PER_SQUARE  CH4_PER_POP  \\\n",
       "35       159.5     1    17.472089     1605.081667     0.145715   \n",
       "45       136.8     0    17.472089     1605.081667     0.145715   \n",
       "86       165.1     1    17.245662     1589.048932     0.123060   \n",
       "88       133.7     0    17.245662     1589.048932     0.123060   \n",
       "153      135.3     0    17.523932     1618.606543     0.130945   \n",
       "\n",
       "     CH4_PER_SQUARE  N2O_PER_POP  N2O_PER_SQUARE  Fluorinated GHG_PER_SQUARE  \\\n",
       "35        13.386150     0.125172       11.499008                    5.044582   \n",
       "45        13.386150     0.125172       11.499008                    5.044582   \n",
       "86        11.338955     0.093460        8.611599                    5.230713   \n",
       "88        11.338955     0.093460        8.611599                    5.230713   \n",
       "153       12.094792     0.108513       10.022873                    5.955761   \n",
       "\n",
       "     Fluorinated GHG  Laws and Regulations  State Incentives  \\\n",
       "35            264437                     3                 7   \n",
       "45            264437                     3                 7   \n",
       "86            274194                     3                 7   \n",
       "88            274194                     3                 7   \n",
       "153           312201                     3                 7   \n",
       "\n",
       "     Utility/Private Incentives     Ozone  \n",
       "35                            4  0.044215  \n",
       "45                            4  0.044215  \n",
       "86                            4  0.039733  \n",
       "88                            4  0.039733  \n",
       "153                           4  0.040936  "
      ]
     },
     "execution_count": 24,
     "metadata": {},
     "output_type": "execute_result"
    }
   ],
   "source": [
    "data_q1_2.head()"
   ]
  },
  {
   "cell_type": "markdown",
   "metadata": {},
   "source": [
    "### Regression"
   ]
  },
  {
   "cell_type": "markdown",
   "metadata": {},
   "source": [
    "### Race"
   ]
  },
  {
   "cell_type": "code",
   "execution_count": 25,
   "metadata": {},
   "outputs": [],
   "source": [
    "X = data_q1_1.values[:,1:].copy()\n",
    "y = data_q1_1.DataValue.values"
   ]
  },
  {
   "cell_type": "markdown",
   "metadata": {},
   "source": [
    "#### Linear Regression"
   ]
  },
  {
   "cell_type": "code",
   "execution_count": 26,
   "metadata": {},
   "outputs": [
    {
     "name": "stdout",
     "output_type": "stream",
     "text": [
      "---- linear regression ----\n",
      "0.7658131677258686\n",
      "0.7516677203218066\n"
     ]
    }
   ],
   "source": [
    "from sklearn.linear_model import LinearRegression\n",
    "from sklearn.model_selection import GridSearchCV\n",
    "from sklearn.ensemble import RandomForestRegressor\n",
    "from sklearn.model_selection import ShuffleSplit\n",
    "from sklearn.model_selection import cross_validate\n",
    "\n",
    "nmc = 100\n",
    "\n",
    "#Linear Regression\n",
    "linreg = LinearRegression()\n",
    "cvf = ShuffleSplit(n_splits=nmc, test_size=0.2, random_state=25)\n",
    "CVInfo = cross_validate(linreg, X, y, cv=cvf,return_train_score=True)\n",
    "print('---- linear regression ----')\n",
    "print(np.mean(CVInfo['train_score']))\n",
    "print(np.mean(CVInfo['test_score']))"
   ]
  },
  {
   "cell_type": "markdown",
   "metadata": {},
   "source": [
    "#### Random forest regression"
   ]
  },
  {
   "cell_type": "code",
   "execution_count": 27,
   "metadata": {},
   "outputs": [
    {
     "name": "stdout",
     "output_type": "stream",
     "text": [
      "---- random forest ----\n",
      "   rank_test_score  mean_test_score param_max_features param_max_depth\n",
      "0                1         0.931463                  7              25\n",
      "---- optimal parameters ----\n",
      "{'max_depth': 25, 'max_features': 7, 'n_estimators': 50}\n",
      "---- best accuracy ----\n",
      "0.9314632662871816\n"
     ]
    }
   ],
   "source": [
    "#Random Forest\n",
    "\n",
    "from sklearn.model_selection import GridSearchCV\n",
    "from sklearn.ensemble import RandomForestRegressor\n",
    "\n",
    "#  Note:  no need for scaling, back to simple parameters\n",
    "# set up dictionary for grid search\n",
    "param_grid={'max_features':[7],'max_depth':[25],'n_estimators':[50]}\n",
    "# set up cross-validation shuffles\n",
    "cvf = ShuffleSplit(n_splits=nmc, test_size=0.2, random_state=25)\n",
    "# set up search\n",
    "grid_search=GridSearchCV(RandomForestRegressor(random_state=25),param_grid,cv=cvf,return_train_score=True)\n",
    "# implement search\n",
    "grid_search.fit(X,y)\n",
    "# move results into DataFrame\n",
    "results = pd.DataFrame(grid_search.cv_results_)\n",
    "\n",
    "print('---- random forest ----')\n",
    "print(results[['rank_test_score','mean_test_score','param_max_features','param_max_depth']])\n",
    "print('---- optimal parameters ----')\n",
    "print(grid_search.best_params_)\n",
    "print('---- best accuracy ----')\n",
    "print(grid_search.best_score_)"
   ]
  },
  {
   "cell_type": "markdown",
   "metadata": {},
   "source": [
    "#### Gradient Boosting Regression"
   ]
  },
  {
   "cell_type": "code",
   "execution_count": 28,
   "metadata": {},
   "outputs": [
    {
     "name": "stdout",
     "output_type": "stream",
     "text": [
      "---- Gradient Boosting Regression ----\n",
      "0.9415793979887339\n",
      "0.8833316421199943\n"
     ]
    }
   ],
   "source": [
    "from sklearn import ensemble\n",
    "from sklearn.model_selection import train_test_split\n",
    "\n",
    "nmc = 100\n",
    "\n",
    "#Linear Regression\n",
    "params = {'n_estimators': 500, 'max_depth': 4, 'min_samples_split': 2,\n",
    "          'learning_rate': 0.01, 'loss': 'ls'}\n",
    "\n",
    "model = ensemble.GradientBoostingRegressor(**params)\n",
    "\n",
    "cvf = ShuffleSplit(n_splits=nmc, test_size=0.2, random_state=25)\n",
    "CVInfo = cross_validate(model, X, y, cv=cvf,return_train_score=True)\n",
    "print('---- Gradient Boosting Regression ----')\n",
    "print(np.mean(CVInfo['train_score']))\n",
    "print(np.mean(CVInfo['test_score']))"
   ]
  },
  {
   "cell_type": "code",
   "execution_count": 30,
   "metadata": {},
   "outputs": [
    {
     "data": {
      "image/png": "[encoded data removed]",
      "text/plain": [
       "<Figure size 864x432 with 1 Axes>"
      ]
     },
     "metadata": {
      "needs_background": "light"
     },
     "output_type": "display_data"
    }
   ],
   "source": [
    "from sklearn import ensemble\n",
    "from sklearn.model_selection import train_test_split\n",
    "\n",
    "\n",
    "X_train, X_test, y_train, y_test = train_test_split(X, y, test_size = 0.2, random_state=0)\n",
    "\n",
    "params = {'n_estimators': 500, 'max_depth': 4, 'min_samples_split': 2,\n",
    "          'learning_rate': 0.01, 'loss': 'ls'}\n",
    "\n",
    "model = ensemble.GradientBoostingRegressor(**params)\n",
    "model.fit(X_train, y_train)\n",
    "\n",
    "feature_importance = model.feature_importances_\n",
    "sorted_idx = np.argsort(feature_importance)\n",
    "pos = np.arange(sorted_idx.shape[0]) + .5\n",
    "fig = plt.figure(figsize=(12, 6))\n",
    "plt.subplot(1, 2, 1)\n",
    "plt.barh(pos, feature_importance[sorted_idx], align='center')\n",
    "plt.yticks(pos, np.array(data_q1_1.iloc[:,1:].columns)[sorted_idx])\n",
    "#plt.title('Feature Importance (MDI)')\n",
    "plt.show()"
   ]
  },
  {
   "cell_type": "markdown",
   "metadata": {},
   "source": [
    "### Gender"
   ]
  },
  {
   "cell_type": "code",
   "execution_count": 31,
   "metadata": {},
   "outputs": [],
   "source": [
    "X = data_q1_2.values[:,1:].copy()\n",
    "y = data_q1_2.DataValue.values"
   ]
  },
  {
   "cell_type": "markdown",
   "metadata": {},
   "source": [
    "#### Linear Regression"
   ]
  },
  {
   "cell_type": "code",
   "execution_count": 32,
   "metadata": {},
   "outputs": [
    {
     "name": "stdout",
     "output_type": "stream",
     "text": [
      "---- linear regression ----\n",
      "0.4318237399168424\n",
      "0.3835420533750783\n"
     ]
    }
   ],
   "source": [
    "from sklearn.linear_model import LinearRegression\n",
    "from sklearn.model_selection import GridSearchCV\n",
    "from sklearn.ensemble import RandomForestRegressor\n",
    "from sklearn.model_selection import ShuffleSplit\n",
    "from sklearn.model_selection import cross_validate\n",
    "\n",
    "nmc = 100\n",
    "\n",
    "#Linear Regression\n",
    "linreg = LinearRegression()\n",
    "cvf = ShuffleSplit(n_splits=nmc, test_size=0.2, random_state=25)\n",
    "CVInfo = cross_validate(linreg, X, y, cv=cvf,return_train_score=True)\n",
    "print('---- linear regression ----')\n",
    "print(np.mean(CVInfo['train_score']))\n",
    "print(np.mean(CVInfo['test_score']))"
   ]
  },
  {
   "cell_type": "markdown",
   "metadata": {},
   "source": [
    "#### Random forest regression"
   ]
  },
  {
   "cell_type": "code",
   "execution_count": 33,
   "metadata": {},
   "outputs": [
    {
     "name": "stdout",
     "output_type": "stream",
     "text": [
      "---- random forest ----\n",
      "   rank_test_score  mean_test_score param_max_features param_max_depth\n",
      "0                1         0.925851                  7              25\n",
      "---- optimal parameters ----\n",
      "{'max_depth': 25, 'max_features': 7, 'n_estimators': 50}\n",
      "---- best accuracy ----\n",
      "0.9258505978662099\n"
     ]
    }
   ],
   "source": [
    "#Random Forest\n",
    "\n",
    "from sklearn.model_selection import GridSearchCV\n",
    "from sklearn.ensemble import RandomForestRegressor\n",
    "\n",
    "#  Note:  no need for scaling, back to simple parameters\n",
    "# set up dictionary for grid search\n",
    "param_grid={'max_features':[7],'max_depth':[25],'n_estimators':[50]}\n",
    "# set up cross-validation shuffles\n",
    "cvf = ShuffleSplit(n_splits=nmc, test_size=0.2, random_state=25)\n",
    "# set up search\n",
    "grid_search=GridSearchCV(RandomForestRegressor(random_state=25),param_grid,cv=cvf,return_train_score=True)\n",
    "# implement search\n",
    "grid_search.fit(X,y)\n",
    "# move results into DataFrame\n",
    "results = pd.DataFrame(grid_search.cv_results_)\n",
    "\n",
    "print('---- random forest ----')\n",
    "print(results[['rank_test_score','mean_test_score','param_max_features','param_max_depth']])\n",
    "print('---- optimal parameters ----')\n",
    "print(grid_search.best_params_)\n",
    "print('---- best accuracy ----')\n",
    "print(grid_search.best_score_)"
   ]
  },
  {
   "cell_type": "markdown",
   "metadata": {},
   "source": [
    "#### Gradient Boosting Regression"
   ]
  },
  {
   "cell_type": "code",
   "execution_count": 34,
   "metadata": {},
   "outputs": [
    {
     "name": "stdout",
     "output_type": "stream",
     "text": [
      "---- Gradient Boosting Regression ----\n",
      "0.9550676926963932\n",
      "0.9026339279013743\n"
     ]
    }
   ],
   "source": [
    "from sklearn import ensemble\n",
    "from sklearn.model_selection import train_test_split\n",
    "\n",
    "nmc = 100\n",
    "\n",
    "#Linear Regression\n",
    "params = {'n_estimators': 500, 'max_depth': 4, 'min_samples_split': 2,\n",
    "          'learning_rate': 0.01, 'loss': 'ls'}\n",
    "\n",
    "model = ensemble.GradientBoostingRegressor(**params)\n",
    "\n",
    "cvf = ShuffleSplit(n_splits=nmc, test_size=0.2, random_state=25)\n",
    "CVInfo = cross_validate(model, X, y, cv=cvf,return_train_score=True)\n",
    "print('---- Gradient Boosting Regression ----')\n",
    "print(np.mean(CVInfo['train_score']))\n",
    "print(np.mean(CVInfo['test_score']))"
   ]
  },
  {
   "cell_type": "code",
   "execution_count": 35,
   "metadata": {},
   "outputs": [
    {
     "data": {
      "image/png": "[encoded data removed]",
      "text/plain": [
       "<Figure size 864x432 with 1 Axes>"
      ]
     },
     "metadata": {
      "needs_background": "light"
     },
     "output_type": "display_data"
    }
   ],
   "source": [
    "from sklearn import ensemble\n",
    "from sklearn.model_selection import train_test_split\n",
    "\n",
    "\n",
    "X_train, X_test, y_train, y_test = train_test_split(X, y, test_size = 0.2, random_state=0)\n",
    "\n",
    "params = {'n_estimators': 500, 'max_depth': 4, 'min_samples_split': 2,\n",
    "          'learning_rate': 0.01, 'loss': 'ls'}\n",
    "\n",
    "model = ensemble.GradientBoostingRegressor(**params)\n",
    "model.fit(X_train, y_train)\n",
    "\n",
    "feature_importance = model.feature_importances_\n",
    "sorted_idx = np.argsort(feature_importance)\n",
    "pos = np.arange(sorted_idx.shape[0]) + .5\n",
    "fig = plt.figure(figsize=(12, 6))\n",
    "plt.subplot(1, 2, 1)\n",
    "plt.barh(pos, feature_importance[sorted_idx], align='center')\n",
    "plt.yticks(pos, np.array(data_q1_2.iloc[:,1:].columns)[sorted_idx])\n",
    "#plt.title('Feature Importance (MDI)')\n",
    "plt.show()"
   ]
  },
  {
   "cell_type": "code",
   "execution_count": null,
   "metadata": {},
   "outputs": [],
   "source": []
  }
 ],
 "metadata": {
  "kernelspec": {
   "display_name": "Python 3",
   "language": "python",
   "name": "python3"
  },
  "language_info": {
   "codemirror_mode": {
    "name": "ipython",
    "version": 3
   },
   "file_extension": ".py",
   "mimetype": "text/x-python",
   "name": "python",
   "nbconvert_exporter": "python",
   "pygments_lexer": "ipython3",
   "version": "3.7.3"
  }
 },
 "nbformat": 4,
 "nbformat_minor": 2
}
