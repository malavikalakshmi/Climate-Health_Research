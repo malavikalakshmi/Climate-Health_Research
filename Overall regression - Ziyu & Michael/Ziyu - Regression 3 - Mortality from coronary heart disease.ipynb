{
 "cells": [
  {
   "cell_type": "markdown",
   "metadata": {},
   "source": [
    "# Regression 3"
   ]
  },
  {
   "cell_type": "markdown",
   "metadata": {},
   "source": [
    "### Mortality from coronary heart disease"
   ]
  },
  {
   "cell_type": "markdown",
   "metadata": {},
   "source": [
    "Overall summary:\n",
    "\n",
    "- According to the results of linear regression, race contribute more to the mortality from coronary heart disease than gender.\n",
    "\n",
    "\n",
    "- For the model with features including all pollutants, laws and incentives, and race, we include that White, Black, Asian or Pacific Islander, Hispanic, and CO2 per square are the top 5 influncial contributers to the mortality from coronary heart disease.\n",
    "\n",
    "\n",
    "- For the model with features including all pollutants, laws and incentives, and gender, we include that Male, CO2 per square, Ozone, Laws and Regulations, and CH4 per pop are the top 5 influncial contributers to the mortality from coronary heart disease.\n",
    "\n",
    "\n",
    "- All ensemble models (random forest/boosting tree) have accuracy of test dataset ~90%."
   ]
  },
  {
   "cell_type": "code",
   "execution_count": 1,
   "metadata": {},
   "outputs": [],
   "source": [
    "import pandas as pd  \n",
    "import numpy as np  \n",
    "import matplotlib.pyplot as plt  \n",
    "import seaborn as seabornInstance \n",
    "from sklearn.model_selection import train_test_split \n",
    "from sklearn.linear_model import LinearRegression\n",
    "from sklearn import metrics\n",
    "%matplotlib inline\n",
    "import matplotlib.pyplot as plt"
   ]
  },
  {
   "cell_type": "markdown",
   "metadata": {},
   "source": [
    "## Prepare data"
   ]
  },
  {
   "cell_type": "code",
   "execution_count": 2,
   "metadata": {},
   "outputs": [],
   "source": [
    "pd.set_option('display.max_columns',None)"
   ]
  },
  {
   "cell_type": "code",
   "execution_count": 3,
   "metadata": {},
   "outputs": [],
   "source": [
    "data = pd.read_csv('~/Desktop/finaldata.csv').drop(columns = ['Unnamed: 0'])"
   ]
  },
  {
   "cell_type": "code",
   "execution_count": 4,
   "metadata": {
    "scrolled": false
   },
   "outputs": [
    {
     "data": {
      "text/html": [
       "<div>\n",
       "<style scoped>\n",
       "    .dataframe tbody tr th:only-of-type {\n",
       "        vertical-align: middle;\n",
       "    }\n",
       "\n",
       "    .dataframe tbody tr th {\n",
       "        vertical-align: top;\n",
       "    }\n",
       "\n",
       "    .dataframe thead th {\n",
       "        text-align: right;\n",
       "    }\n",
       "</style>\n",
       "<table border=\"1\" class=\"dataframe\">\n",
       "  <thead>\n",
       "    <tr style=\"text-align: right;\">\n",
       "      <th></th>\n",
       "      <th>STATE</th>\n",
       "      <th>Year</th>\n",
       "      <th>CO2</th>\n",
       "      <th>CH4</th>\n",
       "      <th>N2O</th>\n",
       "      <th>Fluorinated GHG</th>\n",
       "      <th>Laws and Regulations</th>\n",
       "      <th>State Incentives</th>\n",
       "      <th>Utility/Private Incentives</th>\n",
       "      <th>Ozone</th>\n",
       "      <th>Question</th>\n",
       "      <th>DataValue</th>\n",
       "      <th>StratificationCategory1</th>\n",
       "      <th>Stratification1</th>\n",
       "      <th>Population</th>\n",
       "      <th>Total Sq. Mi.</th>\n",
       "      <th>Total Sq. Km.</th>\n",
       "    </tr>\n",
       "  </thead>\n",
       "  <tbody>\n",
       "    <tr>\n",
       "      <th>0</th>\n",
       "      <td>AL</td>\n",
       "      <td>2012</td>\n",
       "      <td>84138381</td>\n",
       "      <td>701702</td>\n",
       "      <td>602778</td>\n",
       "      <td>264437</td>\n",
       "      <td>3</td>\n",
       "      <td>7</td>\n",
       "      <td>4</td>\n",
       "      <td>0.044215</td>\n",
       "      <td>Mortality from diseases of the heart</td>\n",
       "      <td>234.8</td>\n",
       "      <td>Gender</td>\n",
       "      <td>Female</td>\n",
       "      <td>4815588.0</td>\n",
       "      <td>52,420</td>\n",
       "      <td>135,767</td>\n",
       "    </tr>\n",
       "    <tr>\n",
       "      <th>1</th>\n",
       "      <td>AL</td>\n",
       "      <td>2012</td>\n",
       "      <td>84138381</td>\n",
       "      <td>701702</td>\n",
       "      <td>602778</td>\n",
       "      <td>264437</td>\n",
       "      <td>3</td>\n",
       "      <td>7</td>\n",
       "      <td>4</td>\n",
       "      <td>0.044215</td>\n",
       "      <td>Asthma mortality rate</td>\n",
       "      <td>14.9</td>\n",
       "      <td>Gender</td>\n",
       "      <td>Female</td>\n",
       "      <td>4815588.0</td>\n",
       "      <td>52,420</td>\n",
       "      <td>135,767</td>\n",
       "    </tr>\n",
       "    <tr>\n",
       "      <th>2</th>\n",
       "      <td>AL</td>\n",
       "      <td>2012</td>\n",
       "      <td>84138381</td>\n",
       "      <td>701702</td>\n",
       "      <td>602778</td>\n",
       "      <td>264437</td>\n",
       "      <td>3</td>\n",
       "      <td>7</td>\n",
       "      <td>4</td>\n",
       "      <td>0.044215</td>\n",
       "      <td>Asthma mortality rate</td>\n",
       "      <td>8.6</td>\n",
       "      <td>Gender</td>\n",
       "      <td>Male</td>\n",
       "      <td>4815588.0</td>\n",
       "      <td>52,420</td>\n",
       "      <td>135,767</td>\n",
       "    </tr>\n",
       "    <tr>\n",
       "      <th>3</th>\n",
       "      <td>AL</td>\n",
       "      <td>2012</td>\n",
       "      <td>84138381</td>\n",
       "      <td>701702</td>\n",
       "      <td>602778</td>\n",
       "      <td>264437</td>\n",
       "      <td>3</td>\n",
       "      <td>7</td>\n",
       "      <td>4</td>\n",
       "      <td>0.044215</td>\n",
       "      <td>Asthma mortality rate</td>\n",
       "      <td>8.9</td>\n",
       "      <td>Race/Ethnicity</td>\n",
       "      <td>White, non-Hispanic</td>\n",
       "      <td>4815588.0</td>\n",
       "      <td>52,420</td>\n",
       "      <td>135,767</td>\n",
       "    </tr>\n",
       "    <tr>\n",
       "      <th>4</th>\n",
       "      <td>AL</td>\n",
       "      <td>2012</td>\n",
       "      <td>84138381</td>\n",
       "      <td>701702</td>\n",
       "      <td>602778</td>\n",
       "      <td>264437</td>\n",
       "      <td>3</td>\n",
       "      <td>7</td>\n",
       "      <td>4</td>\n",
       "      <td>0.044215</td>\n",
       "      <td>Asthma mortality rate</td>\n",
       "      <td>21.8</td>\n",
       "      <td>Race/Ethnicity</td>\n",
       "      <td>Black, non-Hispanic</td>\n",
       "      <td>4815588.0</td>\n",
       "      <td>52,420</td>\n",
       "      <td>135,767</td>\n",
       "    </tr>\n",
       "  </tbody>\n",
       "</table>\n",
       "</div>"
      ],
      "text/plain": [
       "  STATE  Year       CO2     CH4     N2O  Fluorinated GHG  \\\n",
       "0    AL  2012  84138381  701702  602778           264437   \n",
       "1    AL  2012  84138381  701702  602778           264437   \n",
       "2    AL  2012  84138381  701702  602778           264437   \n",
       "3    AL  2012  84138381  701702  602778           264437   \n",
       "4    AL  2012  84138381  701702  602778           264437   \n",
       "\n",
       "   Laws and Regulations  State Incentives  Utility/Private Incentives  \\\n",
       "0                     3                 7                           4   \n",
       "1                     3                 7                           4   \n",
       "2                     3                 7                           4   \n",
       "3                     3                 7                           4   \n",
       "4                     3                 7                           4   \n",
       "\n",
       "      Ozone                              Question  DataValue  \\\n",
       "0  0.044215  Mortality from diseases of the heart      234.8   \n",
       "1  0.044215                 Asthma mortality rate       14.9   \n",
       "2  0.044215                 Asthma mortality rate        8.6   \n",
       "3  0.044215                 Asthma mortality rate        8.9   \n",
       "4  0.044215                 Asthma mortality rate       21.8   \n",
       "\n",
       "  StratificationCategory1      Stratification1  Population Total Sq. Mi.  \\\n",
       "0                  Gender               Female   4815588.0        52,420   \n",
       "1                  Gender               Female   4815588.0        52,420   \n",
       "2                  Gender                 Male   4815588.0        52,420   \n",
       "3          Race/Ethnicity  White, non-Hispanic   4815588.0        52,420   \n",
       "4          Race/Ethnicity  Black, non-Hispanic   4815588.0        52,420   \n",
       "\n",
       "  Total Sq. Km.  \n",
       "0       135,767  \n",
       "1       135,767  \n",
       "2       135,767  \n",
       "3       135,767  \n",
       "4       135,767  "
      ]
     },
     "execution_count": 4,
     "metadata": {},
     "output_type": "execute_result"
    }
   ],
   "source": [
    "data.head()"
   ]
  },
  {
   "cell_type": "code",
   "execution_count": 5,
   "metadata": {},
   "outputs": [],
   "source": [
    "data['Total Sq. Mi.']=data['Total Sq. Mi.'].str.replace(',','')\n",
    "data['Total Sq. Mi.'] = data['Total Sq. Mi.'].astype('int64')"
   ]
  },
  {
   "cell_type": "code",
   "execution_count": 6,
   "metadata": {},
   "outputs": [],
   "source": [
    "data['CO2_PER_POP'] = data['CO2'] / data['Population']\n",
    "data['CO2_PER_SQUARE'] = data['CO2'] / data['Total Sq. Mi.']\n",
    "data['CH4_PER_POP'] = data['CH4'] / data['Population']\n",
    "data['CH4_PER_SQUARE'] = data['CH4'] / data['Total Sq. Mi.']\n",
    "data['N2O_PER_POP'] = data['N2O'] / data['Population']\n",
    "data['N2O_PER_SQUARE'] = data['N2O'] / data['Total Sq. Mi.']\n",
    "data['Fluorinated GHG_PER_POP'] = data['Fluorinated GHG'] / data['Population']\n",
    "data['Fluorinated GHG_PER_SQUARE'] = data['Fluorinated GHG'] / data['Total Sq. Mi.']"
   ]
  },
  {
   "cell_type": "code",
   "execution_count": 7,
   "metadata": {},
   "outputs": [],
   "source": [
    "data.drop(['STATE', 'Year','CO2','CH4','N2O','Fluorinated GHG_PER_POP','Population','Total Sq. Mi.','Total Sq. Km.'], axis=1, inplace=True)"
   ]
  },
  {
   "cell_type": "code",
   "execution_count": 8,
   "metadata": {},
   "outputs": [],
   "source": [
    "data = data[~data['StratificationCategory1'].isnull()]\n",
    "cols = data.columns.tolist()\n",
    "cols = cols[6:] + cols[:6]\n",
    "data = data[cols]"
   ]
  },
  {
   "cell_type": "code",
   "execution_count": 9,
   "metadata": {},
   "outputs": [
    {
     "data": {
      "text/plain": [
       "array(['Mortality from diseases of the heart', 'Asthma mortality rate',\n",
       "       'Mortality from heart failure',\n",
       "       'Mortality with chronic obstructive pulmonary disease as underlying cause among adults aged >= 45 years',\n",
       "       'Mortality with chronic obstructive pulmonary disease as underlying or contributing cause among adults aged >= 45 years',\n",
       "       'Mortality from coronary heart disease',\n",
       "       'Premature mortality among adults aged 45-64 years',\n",
       "       'Mortality from total cardiovascular diseases',\n",
       "       'Invasive cancer (all sites combined), incidence',\n",
       "       'Cancer of the lung and bronchus, incidence'], dtype=object)"
      ]
     },
     "execution_count": 9,
     "metadata": {},
     "output_type": "execute_result"
    }
   ],
   "source": [
    "data['Question'].unique()"
   ]
  },
  {
   "cell_type": "code",
   "execution_count": 10,
   "metadata": {
    "scrolled": false
   },
   "outputs": [
    {
     "data": {
      "text/plain": [
       "array(['Gender', 'Race/Ethnicity', 'Overall'], dtype=object)"
      ]
     },
     "execution_count": 10,
     "metadata": {},
     "output_type": "execute_result"
    }
   ],
   "source": [
    "data['StratificationCategory1'].unique()"
   ]
  },
  {
   "cell_type": "code",
   "execution_count": 11,
   "metadata": {},
   "outputs": [
    {
     "data": {
      "text/html": [
       "<div>\n",
       "<style scoped>\n",
       "    .dataframe tbody tr th:only-of-type {\n",
       "        vertical-align: middle;\n",
       "    }\n",
       "\n",
       "    .dataframe tbody tr th {\n",
       "        vertical-align: top;\n",
       "    }\n",
       "\n",
       "    .dataframe thead th {\n",
       "        text-align: right;\n",
       "    }\n",
       "</style>\n",
       "<table border=\"1\" class=\"dataframe\">\n",
       "  <thead>\n",
       "    <tr style=\"text-align: right;\">\n",
       "      <th></th>\n",
       "      <th>DataValue</th>\n",
       "      <th>StratificationCategory1</th>\n",
       "      <th>Stratification1</th>\n",
       "      <th>CO2_PER_POP</th>\n",
       "      <th>CO2_PER_SQUARE</th>\n",
       "      <th>CH4_PER_POP</th>\n",
       "      <th>CH4_PER_SQUARE</th>\n",
       "      <th>N2O_PER_POP</th>\n",
       "      <th>N2O_PER_SQUARE</th>\n",
       "      <th>Fluorinated GHG_PER_SQUARE</th>\n",
       "      <th>Fluorinated GHG</th>\n",
       "      <th>Laws and Regulations</th>\n",
       "      <th>State Incentives</th>\n",
       "      <th>Utility/Private Incentives</th>\n",
       "      <th>Ozone</th>\n",
       "      <th>Question</th>\n",
       "    </tr>\n",
       "  </thead>\n",
       "  <tbody>\n",
       "    <tr>\n",
       "      <th>0</th>\n",
       "      <td>234.8</td>\n",
       "      <td>Gender</td>\n",
       "      <td>Female</td>\n",
       "      <td>17.472089</td>\n",
       "      <td>1605.081667</td>\n",
       "      <td>0.145715</td>\n",
       "      <td>13.38615</td>\n",
       "      <td>0.125172</td>\n",
       "      <td>11.499008</td>\n",
       "      <td>5.044582</td>\n",
       "      <td>264437</td>\n",
       "      <td>3</td>\n",
       "      <td>7</td>\n",
       "      <td>4</td>\n",
       "      <td>0.044215</td>\n",
       "      <td>Mortality from diseases of the heart</td>\n",
       "    </tr>\n",
       "    <tr>\n",
       "      <th>1</th>\n",
       "      <td>14.9</td>\n",
       "      <td>Gender</td>\n",
       "      <td>Female</td>\n",
       "      <td>17.472089</td>\n",
       "      <td>1605.081667</td>\n",
       "      <td>0.145715</td>\n",
       "      <td>13.38615</td>\n",
       "      <td>0.125172</td>\n",
       "      <td>11.499008</td>\n",
       "      <td>5.044582</td>\n",
       "      <td>264437</td>\n",
       "      <td>3</td>\n",
       "      <td>7</td>\n",
       "      <td>4</td>\n",
       "      <td>0.044215</td>\n",
       "      <td>Asthma mortality rate</td>\n",
       "    </tr>\n",
       "    <tr>\n",
       "      <th>2</th>\n",
       "      <td>8.6</td>\n",
       "      <td>Gender</td>\n",
       "      <td>Male</td>\n",
       "      <td>17.472089</td>\n",
       "      <td>1605.081667</td>\n",
       "      <td>0.145715</td>\n",
       "      <td>13.38615</td>\n",
       "      <td>0.125172</td>\n",
       "      <td>11.499008</td>\n",
       "      <td>5.044582</td>\n",
       "      <td>264437</td>\n",
       "      <td>3</td>\n",
       "      <td>7</td>\n",
       "      <td>4</td>\n",
       "      <td>0.044215</td>\n",
       "      <td>Asthma mortality rate</td>\n",
       "    </tr>\n",
       "    <tr>\n",
       "      <th>3</th>\n",
       "      <td>8.9</td>\n",
       "      <td>Race/Ethnicity</td>\n",
       "      <td>White, non-Hispanic</td>\n",
       "      <td>17.472089</td>\n",
       "      <td>1605.081667</td>\n",
       "      <td>0.145715</td>\n",
       "      <td>13.38615</td>\n",
       "      <td>0.125172</td>\n",
       "      <td>11.499008</td>\n",
       "      <td>5.044582</td>\n",
       "      <td>264437</td>\n",
       "      <td>3</td>\n",
       "      <td>7</td>\n",
       "      <td>4</td>\n",
       "      <td>0.044215</td>\n",
       "      <td>Asthma mortality rate</td>\n",
       "    </tr>\n",
       "    <tr>\n",
       "      <th>4</th>\n",
       "      <td>21.8</td>\n",
       "      <td>Race/Ethnicity</td>\n",
       "      <td>Black, non-Hispanic</td>\n",
       "      <td>17.472089</td>\n",
       "      <td>1605.081667</td>\n",
       "      <td>0.145715</td>\n",
       "      <td>13.38615</td>\n",
       "      <td>0.125172</td>\n",
       "      <td>11.499008</td>\n",
       "      <td>5.044582</td>\n",
       "      <td>264437</td>\n",
       "      <td>3</td>\n",
       "      <td>7</td>\n",
       "      <td>4</td>\n",
       "      <td>0.044215</td>\n",
       "      <td>Asthma mortality rate</td>\n",
       "    </tr>\n",
       "  </tbody>\n",
       "</table>\n",
       "</div>"
      ],
      "text/plain": [
       "   DataValue StratificationCategory1      Stratification1  CO2_PER_POP  \\\n",
       "0      234.8                  Gender               Female    17.472089   \n",
       "1       14.9                  Gender               Female    17.472089   \n",
       "2        8.6                  Gender                 Male    17.472089   \n",
       "3        8.9          Race/Ethnicity  White, non-Hispanic    17.472089   \n",
       "4       21.8          Race/Ethnicity  Black, non-Hispanic    17.472089   \n",
       "\n",
       "   CO2_PER_SQUARE  CH4_PER_POP  CH4_PER_SQUARE  N2O_PER_POP  N2O_PER_SQUARE  \\\n",
       "0     1605.081667     0.145715        13.38615     0.125172       11.499008   \n",
       "1     1605.081667     0.145715        13.38615     0.125172       11.499008   \n",
       "2     1605.081667     0.145715        13.38615     0.125172       11.499008   \n",
       "3     1605.081667     0.145715        13.38615     0.125172       11.499008   \n",
       "4     1605.081667     0.145715        13.38615     0.125172       11.499008   \n",
       "\n",
       "   Fluorinated GHG_PER_SQUARE  Fluorinated GHG  Laws and Regulations  \\\n",
       "0                    5.044582           264437                     3   \n",
       "1                    5.044582           264437                     3   \n",
       "2                    5.044582           264437                     3   \n",
       "3                    5.044582           264437                     3   \n",
       "4                    5.044582           264437                     3   \n",
       "\n",
       "   State Incentives  Utility/Private Incentives     Ozone  \\\n",
       "0                 7                           4  0.044215   \n",
       "1                 7                           4  0.044215   \n",
       "2                 7                           4  0.044215   \n",
       "3                 7                           4  0.044215   \n",
       "4                 7                           4  0.044215   \n",
       "\n",
       "                               Question  \n",
       "0  Mortality from diseases of the heart  \n",
       "1                 Asthma mortality rate  \n",
       "2                 Asthma mortality rate  \n",
       "3                 Asthma mortality rate  \n",
       "4                 Asthma mortality rate  "
      ]
     },
     "execution_count": 11,
     "metadata": {},
     "output_type": "execute_result"
    }
   ],
   "source": [
    "data.head()"
   ]
  },
  {
   "cell_type": "code",
   "execution_count": 12,
   "metadata": {
    "scrolled": true
   },
   "outputs": [
    {
     "data": {
      "text/plain": [
       "(22416, 16)"
      ]
     },
     "execution_count": 12,
     "metadata": {},
     "output_type": "execute_result"
    }
   ],
   "source": [
    "data.shape"
   ]
  },
  {
   "cell_type": "code",
   "execution_count": 13,
   "metadata": {},
   "outputs": [
    {
     "data": {
      "text/plain": [
       "DataValue                     5297\n",
       "StratificationCategory1          0\n",
       "Stratification1                  0\n",
       "CO2_PER_POP                      0\n",
       "CO2_PER_SQUARE                   0\n",
       "CH4_PER_POP                      0\n",
       "CH4_PER_SQUARE                   0\n",
       "N2O_PER_POP                      0\n",
       "N2O_PER_SQUARE                   0\n",
       "Fluorinated GHG_PER_SQUARE       0\n",
       "Fluorinated GHG                  0\n",
       "Laws and Regulations             0\n",
       "State Incentives                 0\n",
       "Utility/Private Incentives       0\n",
       "Ozone                            0\n",
       "Question                         0\n",
       "dtype: int64"
      ]
     },
     "execution_count": 13,
     "metadata": {},
     "output_type": "execute_result"
    }
   ],
   "source": [
    "data.isnull().sum()"
   ]
  },
  {
   "cell_type": "markdown",
   "metadata": {},
   "source": [
    "## Question"
   ]
  },
  {
   "cell_type": "markdown",
   "metadata": {},
   "source": [
    "- Mortality from coronary heart disease"
   ]
  },
  {
   "cell_type": "markdown",
   "metadata": {},
   "source": [
    "### 3. Mortality from coronary heart disease"
   ]
  },
  {
   "cell_type": "code",
   "execution_count": 14,
   "metadata": {},
   "outputs": [],
   "source": [
    "data_q3 = data[data['Question']=='Mortality from coronary heart disease']"
   ]
  },
  {
   "cell_type": "code",
   "execution_count": 15,
   "metadata": {},
   "outputs": [
    {
     "data": {
      "text/plain": [
       "DataValue                     505\n",
       "StratificationCategory1         0\n",
       "Stratification1                 0\n",
       "CO2_PER_POP                     0\n",
       "CO2_PER_SQUARE                  0\n",
       "CH4_PER_POP                     0\n",
       "CH4_PER_SQUARE                  0\n",
       "N2O_PER_POP                     0\n",
       "N2O_PER_SQUARE                  0\n",
       "Fluorinated GHG_PER_SQUARE      0\n",
       "Fluorinated GHG                 0\n",
       "Laws and Regulations            0\n",
       "State Incentives                0\n",
       "Utility/Private Incentives      0\n",
       "Ozone                           0\n",
       "Question                        0\n",
       "dtype: int64"
      ]
     },
     "execution_count": 15,
     "metadata": {},
     "output_type": "execute_result"
    }
   ],
   "source": [
    "data_q3[data_q3['StratificationCategory1']=='Race/Ethnicity'].isnull().sum()"
   ]
  },
  {
   "cell_type": "code",
   "execution_count": 16,
   "metadata": {},
   "outputs": [
    {
     "data": {
      "text/plain": [
       "DataValue                     0\n",
       "StratificationCategory1       0\n",
       "Stratification1               0\n",
       "CO2_PER_POP                   0\n",
       "CO2_PER_SQUARE                0\n",
       "CH4_PER_POP                   0\n",
       "CH4_PER_SQUARE                0\n",
       "N2O_PER_POP                   0\n",
       "N2O_PER_SQUARE                0\n",
       "Fluorinated GHG_PER_SQUARE    0\n",
       "Fluorinated GHG               0\n",
       "Laws and Regulations          0\n",
       "State Incentives              0\n",
       "Utility/Private Incentives    0\n",
       "Ozone                         0\n",
       "Question                      0\n",
       "dtype: int64"
      ]
     },
     "execution_count": 16,
     "metadata": {},
     "output_type": "execute_result"
    }
   ],
   "source": [
    "data_q3[data_q3['StratificationCategory1']=='Gender'].isnull().sum()"
   ]
  },
  {
   "cell_type": "markdown",
   "metadata": {},
   "source": [
    "#### Race"
   ]
  },
  {
   "cell_type": "code",
   "execution_count": 17,
   "metadata": {},
   "outputs": [
    {
     "name": "stderr",
     "output_type": "stream",
     "text": [
      "//anaconda3/lib/python3.7/site-packages/pandas/core/frame.py:3940: SettingWithCopyWarning: \n",
      "A value is trying to be set on a copy of a slice from a DataFrame\n",
      "\n",
      "See the caveats in the documentation: http://pandas.pydata.org/pandas-docs/stable/indexing.html#indexing-view-versus-copy\n",
      "  errors=errors)\n"
     ]
    }
   ],
   "source": [
    "data_q3_1 = data_q3[data_q3['StratificationCategory1']=='Race/Ethnicity']\n",
    "data_q3_1.drop(['Question','StratificationCategory1'], axis=1, inplace=True)\n",
    "data_q3_1 = data_q3_1[~data_q3_1['DataValue'].isnull()]"
   ]
  },
  {
   "cell_type": "code",
   "execution_count": 18,
   "metadata": {},
   "outputs": [
    {
     "data": {
      "text/html": [
       "<div>\n",
       "<style scoped>\n",
       "    .dataframe tbody tr th:only-of-type {\n",
       "        vertical-align: middle;\n",
       "    }\n",
       "\n",
       "    .dataframe tbody tr th {\n",
       "        vertical-align: top;\n",
       "    }\n",
       "\n",
       "    .dataframe thead th {\n",
       "        text-align: right;\n",
       "    }\n",
       "</style>\n",
       "<table border=\"1\" class=\"dataframe\">\n",
       "  <thead>\n",
       "    <tr style=\"text-align: right;\">\n",
       "      <th></th>\n",
       "      <th>DataValue</th>\n",
       "      <th>Stratification1</th>\n",
       "      <th>CO2_PER_POP</th>\n",
       "      <th>CO2_PER_SQUARE</th>\n",
       "      <th>CH4_PER_POP</th>\n",
       "      <th>CH4_PER_SQUARE</th>\n",
       "      <th>N2O_PER_POP</th>\n",
       "      <th>N2O_PER_SQUARE</th>\n",
       "      <th>Fluorinated GHG_PER_SQUARE</th>\n",
       "      <th>Fluorinated GHG</th>\n",
       "      <th>Laws and Regulations</th>\n",
       "      <th>State Incentives</th>\n",
       "      <th>Utility/Private Incentives</th>\n",
       "      <th>Ozone</th>\n",
       "    </tr>\n",
       "  </thead>\n",
       "  <tbody>\n",
       "    <tr>\n",
       "      <th>13</th>\n",
       "      <td>129.0</td>\n",
       "      <td>White, non-Hispanic</td>\n",
       "      <td>17.472089</td>\n",
       "      <td>1605.081667</td>\n",
       "      <td>0.145715</td>\n",
       "      <td>13.386150</td>\n",
       "      <td>0.125172</td>\n",
       "      <td>11.499008</td>\n",
       "      <td>5.044582</td>\n",
       "      <td>264437</td>\n",
       "      <td>3</td>\n",
       "      <td>7</td>\n",
       "      <td>4</td>\n",
       "      <td>0.044215</td>\n",
       "    </tr>\n",
       "    <tr>\n",
       "      <th>41</th>\n",
       "      <td>83.5</td>\n",
       "      <td>Black, non-Hispanic</td>\n",
       "      <td>17.472089</td>\n",
       "      <td>1605.081667</td>\n",
       "      <td>0.145715</td>\n",
       "      <td>13.386150</td>\n",
       "      <td>0.125172</td>\n",
       "      <td>11.499008</td>\n",
       "      <td>5.044582</td>\n",
       "      <td>264437</td>\n",
       "      <td>3</td>\n",
       "      <td>7</td>\n",
       "      <td>4</td>\n",
       "      <td>0.044215</td>\n",
       "    </tr>\n",
       "    <tr>\n",
       "      <th>101</th>\n",
       "      <td>82.4</td>\n",
       "      <td>Black, non-Hispanic</td>\n",
       "      <td>17.245662</td>\n",
       "      <td>1589.048932</td>\n",
       "      <td>0.123060</td>\n",
       "      <td>11.338955</td>\n",
       "      <td>0.093460</td>\n",
       "      <td>8.611599</td>\n",
       "      <td>5.230713</td>\n",
       "      <td>274194</td>\n",
       "      <td>3</td>\n",
       "      <td>7</td>\n",
       "      <td>4</td>\n",
       "      <td>0.039733</td>\n",
       "    </tr>\n",
       "    <tr>\n",
       "      <th>112</th>\n",
       "      <td>130.5</td>\n",
       "      <td>White, non-Hispanic</td>\n",
       "      <td>17.245662</td>\n",
       "      <td>1589.048932</td>\n",
       "      <td>0.123060</td>\n",
       "      <td>11.338955</td>\n",
       "      <td>0.093460</td>\n",
       "      <td>8.611599</td>\n",
       "      <td>5.230713</td>\n",
       "      <td>274194</td>\n",
       "      <td>3</td>\n",
       "      <td>7</td>\n",
       "      <td>4</td>\n",
       "      <td>0.039733</td>\n",
       "    </tr>\n",
       "    <tr>\n",
       "      <th>126</th>\n",
       "      <td>10.6</td>\n",
       "      <td>Hispanic</td>\n",
       "      <td>17.245662</td>\n",
       "      <td>1589.048932</td>\n",
       "      <td>0.123060</td>\n",
       "      <td>11.338955</td>\n",
       "      <td>0.093460</td>\n",
       "      <td>8.611599</td>\n",
       "      <td>5.230713</td>\n",
       "      <td>274194</td>\n",
       "      <td>3</td>\n",
       "      <td>7</td>\n",
       "      <td>4</td>\n",
       "      <td>0.039733</td>\n",
       "    </tr>\n",
       "  </tbody>\n",
       "</table>\n",
       "</div>"
      ],
      "text/plain": [
       "     DataValue      Stratification1  CO2_PER_POP  CO2_PER_SQUARE  CH4_PER_POP  \\\n",
       "13       129.0  White, non-Hispanic    17.472089     1605.081667     0.145715   \n",
       "41        83.5  Black, non-Hispanic    17.472089     1605.081667     0.145715   \n",
       "101       82.4  Black, non-Hispanic    17.245662     1589.048932     0.123060   \n",
       "112      130.5  White, non-Hispanic    17.245662     1589.048932     0.123060   \n",
       "126       10.6             Hispanic    17.245662     1589.048932     0.123060   \n",
       "\n",
       "     CH4_PER_SQUARE  N2O_PER_POP  N2O_PER_SQUARE  Fluorinated GHG_PER_SQUARE  \\\n",
       "13        13.386150     0.125172       11.499008                    5.044582   \n",
       "41        13.386150     0.125172       11.499008                    5.044582   \n",
       "101       11.338955     0.093460        8.611599                    5.230713   \n",
       "112       11.338955     0.093460        8.611599                    5.230713   \n",
       "126       11.338955     0.093460        8.611599                    5.230713   \n",
       "\n",
       "     Fluorinated GHG  Laws and Regulations  State Incentives  \\\n",
       "13            264437                     3                 7   \n",
       "41            264437                     3                 7   \n",
       "101           274194                     3                 7   \n",
       "112           274194                     3                 7   \n",
       "126           274194                     3                 7   \n",
       "\n",
       "     Utility/Private Incentives     Ozone  \n",
       "13                            4  0.044215  \n",
       "41                            4  0.044215  \n",
       "101                           4  0.039733  \n",
       "112                           4  0.039733  \n",
       "126                           4  0.039733  "
      ]
     },
     "execution_count": 18,
     "metadata": {},
     "output_type": "execute_result"
    }
   ],
   "source": [
    "data_q3_1.head()"
   ]
  },
  {
   "cell_type": "markdown",
   "metadata": {},
   "source": [
    "#### Gender"
   ]
  },
  {
   "cell_type": "code",
   "execution_count": 19,
   "metadata": {},
   "outputs": [],
   "source": [
    "data_q3_2 = data_q3[data_q3['StratificationCategory1']=='Gender']\n",
    "data_q3_2.drop(['Question','StratificationCategory1'], axis=1, inplace=True)"
   ]
  },
  {
   "cell_type": "code",
   "execution_count": 20,
   "metadata": {},
   "outputs": [
    {
     "data": {
      "text/html": [
       "<div>\n",
       "<style scoped>\n",
       "    .dataframe tbody tr th:only-of-type {\n",
       "        vertical-align: middle;\n",
       "    }\n",
       "\n",
       "    .dataframe tbody tr th {\n",
       "        vertical-align: top;\n",
       "    }\n",
       "\n",
       "    .dataframe thead th {\n",
       "        text-align: right;\n",
       "    }\n",
       "</style>\n",
       "<table border=\"1\" class=\"dataframe\">\n",
       "  <thead>\n",
       "    <tr style=\"text-align: right;\">\n",
       "      <th></th>\n",
       "      <th>DataValue</th>\n",
       "      <th>Stratification1</th>\n",
       "      <th>CO2_PER_POP</th>\n",
       "      <th>CO2_PER_SQUARE</th>\n",
       "      <th>CH4_PER_POP</th>\n",
       "      <th>CH4_PER_SQUARE</th>\n",
       "      <th>N2O_PER_POP</th>\n",
       "      <th>N2O_PER_SQUARE</th>\n",
       "      <th>Fluorinated GHG_PER_SQUARE</th>\n",
       "      <th>Fluorinated GHG</th>\n",
       "      <th>Laws and Regulations</th>\n",
       "      <th>State Incentives</th>\n",
       "      <th>Utility/Private Incentives</th>\n",
       "      <th>Ozone</th>\n",
       "    </tr>\n",
       "  </thead>\n",
       "  <tbody>\n",
       "    <tr>\n",
       "      <th>12</th>\n",
       "      <td>127.0</td>\n",
       "      <td>Male</td>\n",
       "      <td>17.472089</td>\n",
       "      <td>1605.081667</td>\n",
       "      <td>0.145715</td>\n",
       "      <td>13.386150</td>\n",
       "      <td>0.125172</td>\n",
       "      <td>11.499008</td>\n",
       "      <td>5.044582</td>\n",
       "      <td>264437</td>\n",
       "      <td>3</td>\n",
       "      <td>7</td>\n",
       "      <td>4</td>\n",
       "      <td>0.044215</td>\n",
       "    </tr>\n",
       "    <tr>\n",
       "      <th>32</th>\n",
       "      <td>93.9</td>\n",
       "      <td>Female</td>\n",
       "      <td>17.472089</td>\n",
       "      <td>1605.081667</td>\n",
       "      <td>0.145715</td>\n",
       "      <td>13.386150</td>\n",
       "      <td>0.125172</td>\n",
       "      <td>11.499008</td>\n",
       "      <td>5.044582</td>\n",
       "      <td>264437</td>\n",
       "      <td>3</td>\n",
       "      <td>7</td>\n",
       "      <td>4</td>\n",
       "      <td>0.044215</td>\n",
       "    </tr>\n",
       "    <tr>\n",
       "      <th>96</th>\n",
       "      <td>91.2</td>\n",
       "      <td>Female</td>\n",
       "      <td>17.245662</td>\n",
       "      <td>1589.048932</td>\n",
       "      <td>0.123060</td>\n",
       "      <td>11.338955</td>\n",
       "      <td>0.093460</td>\n",
       "      <td>8.611599</td>\n",
       "      <td>5.230713</td>\n",
       "      <td>274194</td>\n",
       "      <td>3</td>\n",
       "      <td>7</td>\n",
       "      <td>4</td>\n",
       "      <td>0.039733</td>\n",
       "    </tr>\n",
       "    <tr>\n",
       "      <th>123</th>\n",
       "      <td>131.6</td>\n",
       "      <td>Male</td>\n",
       "      <td>17.245662</td>\n",
       "      <td>1589.048932</td>\n",
       "      <td>0.123060</td>\n",
       "      <td>11.338955</td>\n",
       "      <td>0.093460</td>\n",
       "      <td>8.611599</td>\n",
       "      <td>5.230713</td>\n",
       "      <td>274194</td>\n",
       "      <td>3</td>\n",
       "      <td>7</td>\n",
       "      <td>4</td>\n",
       "      <td>0.039733</td>\n",
       "    </tr>\n",
       "    <tr>\n",
       "      <th>137</th>\n",
       "      <td>88.1</td>\n",
       "      <td>Female</td>\n",
       "      <td>17.523932</td>\n",
       "      <td>1618.606543</td>\n",
       "      <td>0.130945</td>\n",
       "      <td>12.094792</td>\n",
       "      <td>0.108513</td>\n",
       "      <td>10.022873</td>\n",
       "      <td>5.955761</td>\n",
       "      <td>312201</td>\n",
       "      <td>3</td>\n",
       "      <td>7</td>\n",
       "      <td>4</td>\n",
       "      <td>0.040936</td>\n",
       "    </tr>\n",
       "  </tbody>\n",
       "</table>\n",
       "</div>"
      ],
      "text/plain": [
       "     DataValue Stratification1  CO2_PER_POP  CO2_PER_SQUARE  CH4_PER_POP  \\\n",
       "12       127.0            Male    17.472089     1605.081667     0.145715   \n",
       "32        93.9          Female    17.472089     1605.081667     0.145715   \n",
       "96        91.2          Female    17.245662     1589.048932     0.123060   \n",
       "123      131.6            Male    17.245662     1589.048932     0.123060   \n",
       "137       88.1          Female    17.523932     1618.606543     0.130945   \n",
       "\n",
       "     CH4_PER_SQUARE  N2O_PER_POP  N2O_PER_SQUARE  Fluorinated GHG_PER_SQUARE  \\\n",
       "12        13.386150     0.125172       11.499008                    5.044582   \n",
       "32        13.386150     0.125172       11.499008                    5.044582   \n",
       "96        11.338955     0.093460        8.611599                    5.230713   \n",
       "123       11.338955     0.093460        8.611599                    5.230713   \n",
       "137       12.094792     0.108513       10.022873                    5.955761   \n",
       "\n",
       "     Fluorinated GHG  Laws and Regulations  State Incentives  \\\n",
       "12            264437                     3                 7   \n",
       "32            264437                     3                 7   \n",
       "96            274194                     3                 7   \n",
       "123           274194                     3                 7   \n",
       "137           312201                     3                 7   \n",
       "\n",
       "     Utility/Private Incentives     Ozone  \n",
       "12                            4  0.044215  \n",
       "32                            4  0.044215  \n",
       "96                            4  0.039733  \n",
       "123                           4  0.039733  \n",
       "137                           4  0.040936  "
      ]
     },
     "execution_count": 20,
     "metadata": {},
     "output_type": "execute_result"
    }
   ],
   "source": [
    "data_q3_2.head()"
   ]
  },
  {
   "cell_type": "markdown",
   "metadata": {},
   "source": [
    "#### Label_encoding"
   ]
  },
  {
   "cell_type": "markdown",
   "metadata": {},
   "source": [
    "Encode race"
   ]
  },
  {
   "cell_type": "code",
   "execution_count": 21,
   "metadata": {},
   "outputs": [],
   "source": [
    "data_q3_1.rename(columns={'Stratification1':'Race'}, inplace=True)\n",
    "data_q3_1 = pd.get_dummies(data_q3_1, columns = ['Race'], drop_first = True)"
   ]
  },
  {
   "cell_type": "code",
   "execution_count": 22,
   "metadata": {},
   "outputs": [
    {
     "data": {
      "text/html": [
       "<div>\n",
       "<style scoped>\n",
       "    .dataframe tbody tr th:only-of-type {\n",
       "        vertical-align: middle;\n",
       "    }\n",
       "\n",
       "    .dataframe tbody tr th {\n",
       "        vertical-align: top;\n",
       "    }\n",
       "\n",
       "    .dataframe thead th {\n",
       "        text-align: right;\n",
       "    }\n",
       "</style>\n",
       "<table border=\"1\" class=\"dataframe\">\n",
       "  <thead>\n",
       "    <tr style=\"text-align: right;\">\n",
       "      <th></th>\n",
       "      <th>DataValue</th>\n",
       "      <th>CO2_PER_POP</th>\n",
       "      <th>CO2_PER_SQUARE</th>\n",
       "      <th>CH4_PER_POP</th>\n",
       "      <th>CH4_PER_SQUARE</th>\n",
       "      <th>N2O_PER_POP</th>\n",
       "      <th>N2O_PER_SQUARE</th>\n",
       "      <th>Fluorinated GHG_PER_SQUARE</th>\n",
       "      <th>Fluorinated GHG</th>\n",
       "      <th>Laws and Regulations</th>\n",
       "      <th>State Incentives</th>\n",
       "      <th>Utility/Private Incentives</th>\n",
       "      <th>Ozone</th>\n",
       "      <th>Race_Asian or Pacific Islander</th>\n",
       "      <th>Race_Black, non-Hispanic</th>\n",
       "      <th>Race_Hispanic</th>\n",
       "      <th>Race_White, non-Hispanic</th>\n",
       "    </tr>\n",
       "  </thead>\n",
       "  <tbody>\n",
       "    <tr>\n",
       "      <th>13</th>\n",
       "      <td>129.0</td>\n",
       "      <td>17.472089</td>\n",
       "      <td>1605.081667</td>\n",
       "      <td>0.145715</td>\n",
       "      <td>13.386150</td>\n",
       "      <td>0.125172</td>\n",
       "      <td>11.499008</td>\n",
       "      <td>5.044582</td>\n",
       "      <td>264437</td>\n",
       "      <td>3</td>\n",
       "      <td>7</td>\n",
       "      <td>4</td>\n",
       "      <td>0.044215</td>\n",
       "      <td>0</td>\n",
       "      <td>0</td>\n",
       "      <td>0</td>\n",
       "      <td>1</td>\n",
       "    </tr>\n",
       "    <tr>\n",
       "      <th>41</th>\n",
       "      <td>83.5</td>\n",
       "      <td>17.472089</td>\n",
       "      <td>1605.081667</td>\n",
       "      <td>0.145715</td>\n",
       "      <td>13.386150</td>\n",
       "      <td>0.125172</td>\n",
       "      <td>11.499008</td>\n",
       "      <td>5.044582</td>\n",
       "      <td>264437</td>\n",
       "      <td>3</td>\n",
       "      <td>7</td>\n",
       "      <td>4</td>\n",
       "      <td>0.044215</td>\n",
       "      <td>0</td>\n",
       "      <td>1</td>\n",
       "      <td>0</td>\n",
       "      <td>0</td>\n",
       "    </tr>\n",
       "    <tr>\n",
       "      <th>101</th>\n",
       "      <td>82.4</td>\n",
       "      <td>17.245662</td>\n",
       "      <td>1589.048932</td>\n",
       "      <td>0.123060</td>\n",
       "      <td>11.338955</td>\n",
       "      <td>0.093460</td>\n",
       "      <td>8.611599</td>\n",
       "      <td>5.230713</td>\n",
       "      <td>274194</td>\n",
       "      <td>3</td>\n",
       "      <td>7</td>\n",
       "      <td>4</td>\n",
       "      <td>0.039733</td>\n",
       "      <td>0</td>\n",
       "      <td>1</td>\n",
       "      <td>0</td>\n",
       "      <td>0</td>\n",
       "    </tr>\n",
       "    <tr>\n",
       "      <th>112</th>\n",
       "      <td>130.5</td>\n",
       "      <td>17.245662</td>\n",
       "      <td>1589.048932</td>\n",
       "      <td>0.123060</td>\n",
       "      <td>11.338955</td>\n",
       "      <td>0.093460</td>\n",
       "      <td>8.611599</td>\n",
       "      <td>5.230713</td>\n",
       "      <td>274194</td>\n",
       "      <td>3</td>\n",
       "      <td>7</td>\n",
       "      <td>4</td>\n",
       "      <td>0.039733</td>\n",
       "      <td>0</td>\n",
       "      <td>0</td>\n",
       "      <td>0</td>\n",
       "      <td>1</td>\n",
       "    </tr>\n",
       "    <tr>\n",
       "      <th>126</th>\n",
       "      <td>10.6</td>\n",
       "      <td>17.245662</td>\n",
       "      <td>1589.048932</td>\n",
       "      <td>0.123060</td>\n",
       "      <td>11.338955</td>\n",
       "      <td>0.093460</td>\n",
       "      <td>8.611599</td>\n",
       "      <td>5.230713</td>\n",
       "      <td>274194</td>\n",
       "      <td>3</td>\n",
       "      <td>7</td>\n",
       "      <td>4</td>\n",
       "      <td>0.039733</td>\n",
       "      <td>0</td>\n",
       "      <td>0</td>\n",
       "      <td>1</td>\n",
       "      <td>0</td>\n",
       "    </tr>\n",
       "  </tbody>\n",
       "</table>\n",
       "</div>"
      ],
      "text/plain": [
       "     DataValue  CO2_PER_POP  CO2_PER_SQUARE  CH4_PER_POP  CH4_PER_SQUARE  \\\n",
       "13       129.0    17.472089     1605.081667     0.145715       13.386150   \n",
       "41        83.5    17.472089     1605.081667     0.145715       13.386150   \n",
       "101       82.4    17.245662     1589.048932     0.123060       11.338955   \n",
       "112      130.5    17.245662     1589.048932     0.123060       11.338955   \n",
       "126       10.6    17.245662     1589.048932     0.123060       11.338955   \n",
       "\n",
       "     N2O_PER_POP  N2O_PER_SQUARE  Fluorinated GHG_PER_SQUARE  Fluorinated GHG  \\\n",
       "13      0.125172       11.499008                    5.044582           264437   \n",
       "41      0.125172       11.499008                    5.044582           264437   \n",
       "101     0.093460        8.611599                    5.230713           274194   \n",
       "112     0.093460        8.611599                    5.230713           274194   \n",
       "126     0.093460        8.611599                    5.230713           274194   \n",
       "\n",
       "     Laws and Regulations  State Incentives  Utility/Private Incentives  \\\n",
       "13                      3                 7                           4   \n",
       "41                      3                 7                           4   \n",
       "101                     3                 7                           4   \n",
       "112                     3                 7                           4   \n",
       "126                     3                 7                           4   \n",
       "\n",
       "        Ozone  Race_Asian or Pacific Islander  Race_Black, non-Hispanic  \\\n",
       "13   0.044215                               0                         0   \n",
       "41   0.044215                               0                         1   \n",
       "101  0.039733                               0                         1   \n",
       "112  0.039733                               0                         0   \n",
       "126  0.039733                               0                         0   \n",
       "\n",
       "     Race_Hispanic  Race_White, non-Hispanic  \n",
       "13               0                         1  \n",
       "41               0                         0  \n",
       "101              0                         0  \n",
       "112              0                         1  \n",
       "126              1                         0  "
      ]
     },
     "execution_count": 22,
     "metadata": {},
     "output_type": "execute_result"
    }
   ],
   "source": [
    "data_q3_1.head()"
   ]
  },
  {
   "cell_type": "markdown",
   "metadata": {},
   "source": [
    "Encode male by 1, female by 0"
   ]
  },
  {
   "cell_type": "code",
   "execution_count": 23,
   "metadata": {},
   "outputs": [
    {
     "name": "stderr",
     "output_type": "stream",
     "text": [
      "//anaconda3/lib/python3.7/site-packages/ipykernel_launcher.py:3: SettingWithCopyWarning: \n",
      "A value is trying to be set on a copy of a slice from a DataFrame.\n",
      "Try using .loc[row_indexer,col_indexer] = value instead\n",
      "\n",
      "See the caveats in the documentation: http://pandas.pydata.org/pandas-docs/stable/indexing.html#indexing-view-versus-copy\n",
      "  This is separate from the ipykernel package so we can avoid doing imports until\n",
      "//anaconda3/lib/python3.7/site-packages/pandas/core/frame.py:4025: SettingWithCopyWarning: \n",
      "A value is trying to be set on a copy of a slice from a DataFrame\n",
      "\n",
      "See the caveats in the documentation: http://pandas.pydata.org/pandas-docs/stable/indexing.html#indexing-view-versus-copy\n",
      "  return super(DataFrame, self).rename(**kwargs)\n"
     ]
    }
   ],
   "source": [
    "from sklearn import preprocessing\n",
    "label_encoder = preprocessing.LabelEncoder()\n",
    "data_q3_2['Stratification1'] = label_encoder.fit_transform(data_q3_2['Stratification1'])\n",
    "data_q3_2.rename(columns={'Stratification1':'Male'}, inplace=True)"
   ]
  },
  {
   "cell_type": "code",
   "execution_count": 24,
   "metadata": {},
   "outputs": [
    {
     "data": {
      "text/html": [
       "<div>\n",
       "<style scoped>\n",
       "    .dataframe tbody tr th:only-of-type {\n",
       "        vertical-align: middle;\n",
       "    }\n",
       "\n",
       "    .dataframe tbody tr th {\n",
       "        vertical-align: top;\n",
       "    }\n",
       "\n",
       "    .dataframe thead th {\n",
       "        text-align: right;\n",
       "    }\n",
       "</style>\n",
       "<table border=\"1\" class=\"dataframe\">\n",
       "  <thead>\n",
       "    <tr style=\"text-align: right;\">\n",
       "      <th></th>\n",
       "      <th>DataValue</th>\n",
       "      <th>Male</th>\n",
       "      <th>CO2_PER_POP</th>\n",
       "      <th>CO2_PER_SQUARE</th>\n",
       "      <th>CH4_PER_POP</th>\n",
       "      <th>CH4_PER_SQUARE</th>\n",
       "      <th>N2O_PER_POP</th>\n",
       "      <th>N2O_PER_SQUARE</th>\n",
       "      <th>Fluorinated GHG_PER_SQUARE</th>\n",
       "      <th>Fluorinated GHG</th>\n",
       "      <th>Laws and Regulations</th>\n",
       "      <th>State Incentives</th>\n",
       "      <th>Utility/Private Incentives</th>\n",
       "      <th>Ozone</th>\n",
       "    </tr>\n",
       "  </thead>\n",
       "  <tbody>\n",
       "    <tr>\n",
       "      <th>12</th>\n",
       "      <td>127.0</td>\n",
       "      <td>1</td>\n",
       "      <td>17.472089</td>\n",
       "      <td>1605.081667</td>\n",
       "      <td>0.145715</td>\n",
       "      <td>13.386150</td>\n",
       "      <td>0.125172</td>\n",
       "      <td>11.499008</td>\n",
       "      <td>5.044582</td>\n",
       "      <td>264437</td>\n",
       "      <td>3</td>\n",
       "      <td>7</td>\n",
       "      <td>4</td>\n",
       "      <td>0.044215</td>\n",
       "    </tr>\n",
       "    <tr>\n",
       "      <th>32</th>\n",
       "      <td>93.9</td>\n",
       "      <td>0</td>\n",
       "      <td>17.472089</td>\n",
       "      <td>1605.081667</td>\n",
       "      <td>0.145715</td>\n",
       "      <td>13.386150</td>\n",
       "      <td>0.125172</td>\n",
       "      <td>11.499008</td>\n",
       "      <td>5.044582</td>\n",
       "      <td>264437</td>\n",
       "      <td>3</td>\n",
       "      <td>7</td>\n",
       "      <td>4</td>\n",
       "      <td>0.044215</td>\n",
       "    </tr>\n",
       "    <tr>\n",
       "      <th>96</th>\n",
       "      <td>91.2</td>\n",
       "      <td>0</td>\n",
       "      <td>17.245662</td>\n",
       "      <td>1589.048932</td>\n",
       "      <td>0.123060</td>\n",
       "      <td>11.338955</td>\n",
       "      <td>0.093460</td>\n",
       "      <td>8.611599</td>\n",
       "      <td>5.230713</td>\n",
       "      <td>274194</td>\n",
       "      <td>3</td>\n",
       "      <td>7</td>\n",
       "      <td>4</td>\n",
       "      <td>0.039733</td>\n",
       "    </tr>\n",
       "    <tr>\n",
       "      <th>123</th>\n",
       "      <td>131.6</td>\n",
       "      <td>1</td>\n",
       "      <td>17.245662</td>\n",
       "      <td>1589.048932</td>\n",
       "      <td>0.123060</td>\n",
       "      <td>11.338955</td>\n",
       "      <td>0.093460</td>\n",
       "      <td>8.611599</td>\n",
       "      <td>5.230713</td>\n",
       "      <td>274194</td>\n",
       "      <td>3</td>\n",
       "      <td>7</td>\n",
       "      <td>4</td>\n",
       "      <td>0.039733</td>\n",
       "    </tr>\n",
       "    <tr>\n",
       "      <th>137</th>\n",
       "      <td>88.1</td>\n",
       "      <td>0</td>\n",
       "      <td>17.523932</td>\n",
       "      <td>1618.606543</td>\n",
       "      <td>0.130945</td>\n",
       "      <td>12.094792</td>\n",
       "      <td>0.108513</td>\n",
       "      <td>10.022873</td>\n",
       "      <td>5.955761</td>\n",
       "      <td>312201</td>\n",
       "      <td>3</td>\n",
       "      <td>7</td>\n",
       "      <td>4</td>\n",
       "      <td>0.040936</td>\n",
       "    </tr>\n",
       "  </tbody>\n",
       "</table>\n",
       "</div>"
      ],
      "text/plain": [
       "     DataValue  Male  CO2_PER_POP  CO2_PER_SQUARE  CH4_PER_POP  \\\n",
       "12       127.0     1    17.472089     1605.081667     0.145715   \n",
       "32        93.9     0    17.472089     1605.081667     0.145715   \n",
       "96        91.2     0    17.245662     1589.048932     0.123060   \n",
       "123      131.6     1    17.245662     1589.048932     0.123060   \n",
       "137       88.1     0    17.523932     1618.606543     0.130945   \n",
       "\n",
       "     CH4_PER_SQUARE  N2O_PER_POP  N2O_PER_SQUARE  Fluorinated GHG_PER_SQUARE  \\\n",
       "12        13.386150     0.125172       11.499008                    5.044582   \n",
       "32        13.386150     0.125172       11.499008                    5.044582   \n",
       "96        11.338955     0.093460        8.611599                    5.230713   \n",
       "123       11.338955     0.093460        8.611599                    5.230713   \n",
       "137       12.094792     0.108513       10.022873                    5.955761   \n",
       "\n",
       "     Fluorinated GHG  Laws and Regulations  State Incentives  \\\n",
       "12            264437                     3                 7   \n",
       "32            264437                     3                 7   \n",
       "96            274194                     3                 7   \n",
       "123           274194                     3                 7   \n",
       "137           312201                     3                 7   \n",
       "\n",
       "     Utility/Private Incentives     Ozone  \n",
       "12                            4  0.044215  \n",
       "32                            4  0.044215  \n",
       "96                            4  0.039733  \n",
       "123                           4  0.039733  \n",
       "137                           4  0.040936  "
      ]
     },
     "execution_count": 24,
     "metadata": {},
     "output_type": "execute_result"
    }
   ],
   "source": [
    "data_q3_2.head()"
   ]
  },
  {
   "cell_type": "markdown",
   "metadata": {},
   "source": [
    "### Regression"
   ]
  },
  {
   "cell_type": "markdown",
   "metadata": {},
   "source": [
    "### Race"
   ]
  },
  {
   "cell_type": "code",
   "execution_count": 25,
   "metadata": {},
   "outputs": [],
   "source": [
    "X = data_q3_1.values[:,1:].copy()\n",
    "y = data_q3_1.DataValue.values"
   ]
  },
  {
   "cell_type": "markdown",
   "metadata": {},
   "source": [
    "#### Linear Regression"
   ]
  },
  {
   "cell_type": "code",
   "execution_count": 26,
   "metadata": {},
   "outputs": [
    {
     "name": "stdout",
     "output_type": "stream",
     "text": [
      "---- linear regression ----\n",
      "0.7400943295331516\n",
      "0.7240462935937889\n"
     ]
    }
   ],
   "source": [
    "from sklearn.linear_model import LinearRegression\n",
    "from sklearn.model_selection import GridSearchCV\n",
    "from sklearn.ensemble import RandomForestRegressor\n",
    "from sklearn.model_selection import ShuffleSplit\n",
    "from sklearn.model_selection import cross_validate\n",
    "\n",
    "nmc = 100\n",
    "\n",
    "#Linear Regression\n",
    "linreg = LinearRegression()\n",
    "cvf = ShuffleSplit(n_splits=nmc, test_size=0.2, random_state=25)\n",
    "CVInfo = cross_validate(linreg, X, y, cv=cvf,return_train_score=True)\n",
    "print('---- linear regression ----')\n",
    "print(np.mean(CVInfo['train_score']))\n",
    "print(np.mean(CVInfo['test_score']))"
   ]
  },
  {
   "cell_type": "markdown",
   "metadata": {},
   "source": [
    "#### Random forest regression"
   ]
  },
  {
   "cell_type": "code",
   "execution_count": 27,
   "metadata": {},
   "outputs": [
    {
     "name": "stdout",
     "output_type": "stream",
     "text": [
      "---- random forest ----\n",
      "   rank_test_score  mean_test_score param_max_features param_max_depth\n",
      "0                1         0.941761                  5              25\n",
      "---- optimal parameters ----\n",
      "{'max_depth': 25, 'max_features': 5, 'n_estimators': 50}\n",
      "---- best accuracy ----\n",
      "0.9417613459438559\n"
     ]
    }
   ],
   "source": [
    "#Random Forest\n",
    "\n",
    "from sklearn.model_selection import GridSearchCV\n",
    "from sklearn.ensemble import RandomForestRegressor\n",
    "\n",
    "#  Note:  no need for scaling, back to simple parameters\n",
    "# set up dictionary for grid search\n",
    "param_grid={'max_features':[5],'max_depth':[25],'n_estimators':[50]}\n",
    "# set up cross-validation shuffles\n",
    "cvf = ShuffleSplit(n_splits=nmc, test_size=0.2, random_state=25)\n",
    "# set up search\n",
    "grid_search=GridSearchCV(RandomForestRegressor(random_state=25),param_grid,cv=cvf,return_train_score=True)\n",
    "# implement search\n",
    "grid_search.fit(X,y)\n",
    "# move results into DataFrame\n",
    "results = pd.DataFrame(grid_search.cv_results_)\n",
    "\n",
    "print('---- random forest ----')\n",
    "print(results[['rank_test_score','mean_test_score','param_max_features','param_max_depth']])\n",
    "print('---- optimal parameters ----')\n",
    "print(grid_search.best_params_)\n",
    "print('---- best accuracy ----')\n",
    "print(grid_search.best_score_)"
   ]
  },
  {
   "cell_type": "markdown",
   "metadata": {},
   "source": [
    "#### Gradient Boosting Regression"
   ]
  },
  {
   "cell_type": "code",
   "execution_count": 28,
   "metadata": {},
   "outputs": [
    {
     "name": "stdout",
     "output_type": "stream",
     "text": [
      "Accuracy on training set: 0.945\n",
      "Accuracy on test set: 0.890\n"
     ]
    }
   ],
   "source": [
    "from sklearn import ensemble\n",
    "from sklearn.model_selection import train_test_split\n",
    "\n",
    "\n",
    "X_train, X_test, y_train, y_test = train_test_split(X, y, test_size = 0.2, random_state=0)\n",
    "\n",
    "params = {'n_estimators': 500, 'max_depth': 4, 'min_samples_split': 2,\n",
    "          'learning_rate': 0.01, 'loss': 'ls'}\n",
    "\n",
    "model = ensemble.GradientBoostingRegressor(**params)\n",
    "model.fit(X_train, y_train)\n",
    "\n",
    "print(\"Accuracy on training set: {:.3f}\".format(model.score(X_train, y_train)))\n",
    "print(\"Accuracy on test set: {:.3f}\".format(model.score(X_test, y_test)))"
   ]
  },
  {
   "cell_type": "code",
   "execution_count": 29,
   "metadata": {},
   "outputs": [
    {
     "data": {
      "image/png": "[encoded data removed]",
      "text/plain": [
       "<Figure size 864x432 with 1 Axes>"
      ]
     },
     "metadata": {
      "needs_background": "light"
     },
     "output_type": "display_data"
    }
   ],
   "source": [
    "feature_importance = model.feature_importances_\n",
    "sorted_idx = np.argsort(feature_importance)\n",
    "pos = np.arange(sorted_idx.shape[0]) + .5\n",
    "fig = plt.figure(figsize=(12, 6))\n",
    "plt.subplot(1, 2, 1)\n",
    "plt.barh(pos, feature_importance[sorted_idx], align='center')\n",
    "plt.yticks(pos, np.array(data_q3_1.iloc[:,1:].columns)[sorted_idx])\n",
    "#plt.title('Feature Importance (MDI)')\n",
    "plt.show()"
   ]
  },
  {
   "cell_type": "markdown",
   "metadata": {},
   "source": [
    "### Gender"
   ]
  },
  {
   "cell_type": "code",
   "execution_count": 30,
   "metadata": {},
   "outputs": [],
   "source": [
    "X = data_q3_2.values[:,1:].copy()\n",
    "y = data_q3_2.DataValue.values"
   ]
  },
  {
   "cell_type": "markdown",
   "metadata": {},
   "source": [
    "#### Linear Regression"
   ]
  },
  {
   "cell_type": "code",
   "execution_count": 31,
   "metadata": {},
   "outputs": [
    {
     "name": "stdout",
     "output_type": "stream",
     "text": [
      "---- linear regression ----\n",
      "0.5487172187887177\n",
      "0.5116074339956539\n"
     ]
    }
   ],
   "source": [
    "from sklearn.linear_model import LinearRegression\n",
    "from sklearn.model_selection import GridSearchCV\n",
    "from sklearn.ensemble import RandomForestRegressor\n",
    "from sklearn.model_selection import ShuffleSplit\n",
    "from sklearn.model_selection import cross_validate\n",
    "\n",
    "nmc = 100\n",
    "\n",
    "#Linear Regression\n",
    "linreg = LinearRegression()\n",
    "cvf = ShuffleSplit(n_splits=nmc, test_size=0.2, random_state=25)\n",
    "CVInfo = cross_validate(linreg, X, y, cv=cvf,return_train_score=True)\n",
    "print('---- linear regression ----')\n",
    "print(np.mean(CVInfo['train_score']))\n",
    "print(np.mean(CVInfo['test_score']))"
   ]
  },
  {
   "cell_type": "markdown",
   "metadata": {},
   "source": [
    "#### Random forest regression"
   ]
  },
  {
   "cell_type": "code",
   "execution_count": 32,
   "metadata": {},
   "outputs": [
    {
     "name": "stdout",
     "output_type": "stream",
     "text": [
      "---- random forest ----\n",
      "   rank_test_score  mean_test_score param_max_features param_max_depth\n",
      "0                1         0.898508                  5              25\n",
      "---- optimal parameters ----\n",
      "{'max_depth': 25, 'max_features': 5, 'n_estimators': 50}\n",
      "---- best accuracy ----\n",
      "0.8985082475763129\n"
     ]
    }
   ],
   "source": [
    "from sklearn.model_selection import GridSearchCV\n",
    "from sklearn.ensemble import RandomForestRegressor\n",
    "\n",
    "#  Note:  no need for scaling, back to simple parameters\n",
    "# set up dictionary for grid search\n",
    "param_grid={'max_features':[5],'max_depth':[25],'n_estimators':[50]}\n",
    "# set up cross-validation shuffles\n",
    "cvf = ShuffleSplit(n_splits=nmc, test_size=0.2, random_state=25)\n",
    "# set up search\n",
    "grid_search=GridSearchCV(RandomForestRegressor(random_state=25),param_grid,cv=cvf,return_train_score=True)\n",
    "# implement search\n",
    "grid_search.fit(X,y)\n",
    "# move results into DataFrame\n",
    "results = pd.DataFrame(grid_search.cv_results_)\n",
    "\n",
    "print('---- random forest ----')\n",
    "print(results[['rank_test_score','mean_test_score','param_max_features','param_max_depth']])\n",
    "print('---- optimal parameters ----')\n",
    "print(grid_search.best_params_)\n",
    "print('---- best accuracy ----')\n",
    "print(grid_search.best_score_)"
   ]
  },
  {
   "cell_type": "markdown",
   "metadata": {},
   "source": [
    "#### Gradient Boosting Regression"
   ]
  },
  {
   "cell_type": "code",
   "execution_count": 33,
   "metadata": {},
   "outputs": [
    {
     "name": "stdout",
     "output_type": "stream",
     "text": [
      "Accuracy on training set: 0.960\n",
      "Accuracy on test set: 0.841\n"
     ]
    }
   ],
   "source": [
    "from sklearn import ensemble\n",
    "from sklearn.model_selection import train_test_split\n",
    "\n",
    "\n",
    "X_train, X_test, y_train, y_test = train_test_split(X, y, test_size = 0.2, random_state=0)\n",
    "\n",
    "params = {'n_estimators': 500, 'max_depth': 4, 'min_samples_split': 2,\n",
    "          'learning_rate': 0.01, 'loss': 'ls'}\n",
    "\n",
    "model = ensemble.GradientBoostingRegressor(**params)\n",
    "model.fit(X_train, y_train)\n",
    "\n",
    "print(\"Accuracy on training set: {:.3f}\".format(model.score(X_train, y_train)))\n",
    "print(\"Accuracy on test set: {:.3f}\".format(model.score(X_test, y_test)))"
   ]
  },
  {
   "cell_type": "code",
   "execution_count": 34,
   "metadata": {},
   "outputs": [
    {
     "data": {
      "image/png": "[encoded data removed]",
      "text/plain": [
       "<Figure size 864x432 with 1 Axes>"
      ]
     },
     "metadata": {
      "needs_background": "light"
     },
     "output_type": "display_data"
    }
   ],
   "source": [
    "feature_importance = model.feature_importances_\n",
    "sorted_idx = np.argsort(feature_importance)\n",
    "pos = np.arange(sorted_idx.shape[0]) + .5\n",
    "fig = plt.figure(figsize=(12, 6))\n",
    "plt.subplot(1, 2, 1)\n",
    "plt.barh(pos, feature_importance[sorted_idx], align='center')\n",
    "plt.yticks(pos, np.array(data_q3_2.iloc[:,1:].columns)[sorted_idx])\n",
    "#plt.title('Feature Importance (MDI)')\n",
    "plt.show()"
   ]
  }
 ],
 "metadata": {
  "kernelspec": {
   "display_name": "Python 3",
   "language": "python",
   "name": "python3"
  },
  "language_info": {
   "codemirror_mode": {
    "name": "ipython",
    "version": 3
   },
   "file_extension": ".py",
   "mimetype": "text/x-python",
   "name": "python",
   "nbconvert_exporter": "python",
   "pygments_lexer": "ipython3",
   "version": "3.7.3"
  }
 },
 "nbformat": 4,
 "nbformat_minor": 2
}
