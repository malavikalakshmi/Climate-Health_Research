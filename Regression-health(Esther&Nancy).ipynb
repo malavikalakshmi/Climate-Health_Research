{
 "cells": [
  {
   "cell_type": "code",
   "execution_count": 50,
   "metadata": {},
   "outputs": [],
   "source": [
    "import pandas as pd\n",
    "import numpy as np  \n",
    "import matplotlib.pyplot as plt  \n",
    "import seaborn as seabornInstance \n",
    "from sklearn.model_selection import train_test_split \n",
    "from sklearn.linear_model import LinearRegression\n",
    "from sklearn import metrics\n",
    "%matplotlib inline\n",
    "import matplotlib.pyplot as plt"
   ]
  },
  {
   "cell_type": "code",
   "execution_count": 51,
   "metadata": {},
   "outputs": [],
   "source": [
    "pd.set_option('display.max_columns',None)\n",
    "data = pd.read_csv(\"~/desktop/finaldata.csv\")\n"
   ]
  },
  {
   "cell_type": "code",
   "execution_count": 52,
   "metadata": {},
   "outputs": [
    {
     "data": {
      "text/html": [
       "<div>\n",
       "<style scoped>\n",
       "    .dataframe tbody tr th:only-of-type {\n",
       "        vertical-align: middle;\n",
       "    }\n",
       "\n",
       "    .dataframe tbody tr th {\n",
       "        vertical-align: top;\n",
       "    }\n",
       "\n",
       "    .dataframe thead th {\n",
       "        text-align: right;\n",
       "    }\n",
       "</style>\n",
       "<table border=\"1\" class=\"dataframe\">\n",
       "  <thead>\n",
       "    <tr style=\"text-align: right;\">\n",
       "      <th></th>\n",
       "      <th>Unnamed: 0</th>\n",
       "      <th>STATE</th>\n",
       "      <th>Year</th>\n",
       "      <th>CO2</th>\n",
       "      <th>CH4</th>\n",
       "      <th>N2O</th>\n",
       "      <th>Fluorinated GHG</th>\n",
       "      <th>Laws and Regulations</th>\n",
       "      <th>State Incentives</th>\n",
       "      <th>Utility/Private Incentives</th>\n",
       "      <th>Ozone</th>\n",
       "      <th>Question</th>\n",
       "      <th>DataValue</th>\n",
       "      <th>StratificationCategory1</th>\n",
       "      <th>Stratification1</th>\n",
       "      <th>Population</th>\n",
       "      <th>Total Sq. Mi.</th>\n",
       "      <th>Total Sq. Km.</th>\n",
       "    </tr>\n",
       "  </thead>\n",
       "  <tbody>\n",
       "    <tr>\n",
       "      <th>0</th>\n",
       "      <td>0</td>\n",
       "      <td>AL</td>\n",
       "      <td>2012</td>\n",
       "      <td>84138381</td>\n",
       "      <td>701702</td>\n",
       "      <td>602778</td>\n",
       "      <td>264437</td>\n",
       "      <td>3</td>\n",
       "      <td>7</td>\n",
       "      <td>4</td>\n",
       "      <td>0.044215</td>\n",
       "      <td>Mortality from diseases of the heart</td>\n",
       "      <td>234.8</td>\n",
       "      <td>Gender</td>\n",
       "      <td>Female</td>\n",
       "      <td>4815588.0</td>\n",
       "      <td>52,420</td>\n",
       "      <td>135,767</td>\n",
       "    </tr>\n",
       "    <tr>\n",
       "      <th>1</th>\n",
       "      <td>1</td>\n",
       "      <td>AL</td>\n",
       "      <td>2012</td>\n",
       "      <td>84138381</td>\n",
       "      <td>701702</td>\n",
       "      <td>602778</td>\n",
       "      <td>264437</td>\n",
       "      <td>3</td>\n",
       "      <td>7</td>\n",
       "      <td>4</td>\n",
       "      <td>0.044215</td>\n",
       "      <td>Asthma mortality rate</td>\n",
       "      <td>14.9</td>\n",
       "      <td>Gender</td>\n",
       "      <td>Female</td>\n",
       "      <td>4815588.0</td>\n",
       "      <td>52,420</td>\n",
       "      <td>135,767</td>\n",
       "    </tr>\n",
       "    <tr>\n",
       "      <th>2</th>\n",
       "      <td>2</td>\n",
       "      <td>AL</td>\n",
       "      <td>2012</td>\n",
       "      <td>84138381</td>\n",
       "      <td>701702</td>\n",
       "      <td>602778</td>\n",
       "      <td>264437</td>\n",
       "      <td>3</td>\n",
       "      <td>7</td>\n",
       "      <td>4</td>\n",
       "      <td>0.044215</td>\n",
       "      <td>Asthma mortality rate</td>\n",
       "      <td>8.6</td>\n",
       "      <td>Gender</td>\n",
       "      <td>Male</td>\n",
       "      <td>4815588.0</td>\n",
       "      <td>52,420</td>\n",
       "      <td>135,767</td>\n",
       "    </tr>\n",
       "    <tr>\n",
       "      <th>3</th>\n",
       "      <td>3</td>\n",
       "      <td>AL</td>\n",
       "      <td>2012</td>\n",
       "      <td>84138381</td>\n",
       "      <td>701702</td>\n",
       "      <td>602778</td>\n",
       "      <td>264437</td>\n",
       "      <td>3</td>\n",
       "      <td>7</td>\n",
       "      <td>4</td>\n",
       "      <td>0.044215</td>\n",
       "      <td>Asthma mortality rate</td>\n",
       "      <td>8.9</td>\n",
       "      <td>Race/Ethnicity</td>\n",
       "      <td>White, non-Hispanic</td>\n",
       "      <td>4815588.0</td>\n",
       "      <td>52,420</td>\n",
       "      <td>135,767</td>\n",
       "    </tr>\n",
       "    <tr>\n",
       "      <th>4</th>\n",
       "      <td>4</td>\n",
       "      <td>AL</td>\n",
       "      <td>2012</td>\n",
       "      <td>84138381</td>\n",
       "      <td>701702</td>\n",
       "      <td>602778</td>\n",
       "      <td>264437</td>\n",
       "      <td>3</td>\n",
       "      <td>7</td>\n",
       "      <td>4</td>\n",
       "      <td>0.044215</td>\n",
       "      <td>Asthma mortality rate</td>\n",
       "      <td>21.8</td>\n",
       "      <td>Race/Ethnicity</td>\n",
       "      <td>Black, non-Hispanic</td>\n",
       "      <td>4815588.0</td>\n",
       "      <td>52,420</td>\n",
       "      <td>135,767</td>\n",
       "    </tr>\n",
       "    <tr>\n",
       "      <th>...</th>\n",
       "      <td>...</td>\n",
       "      <td>...</td>\n",
       "      <td>...</td>\n",
       "      <td>...</td>\n",
       "      <td>...</td>\n",
       "      <td>...</td>\n",
       "      <td>...</td>\n",
       "      <td>...</td>\n",
       "      <td>...</td>\n",
       "      <td>...</td>\n",
       "      <td>...</td>\n",
       "      <td>...</td>\n",
       "      <td>...</td>\n",
       "      <td>...</td>\n",
       "      <td>...</td>\n",
       "      <td>...</td>\n",
       "      <td>...</td>\n",
       "      <td>...</td>\n",
       "    </tr>\n",
       "    <tr>\n",
       "      <th>22463</th>\n",
       "      <td>22463</td>\n",
       "      <td>DC</td>\n",
       "      <td>2014</td>\n",
       "      <td>287478</td>\n",
       "      <td>157</td>\n",
       "      <td>220</td>\n",
       "      <td>0</td>\n",
       "      <td>4</td>\n",
       "      <td>3</td>\n",
       "      <td>0</td>\n",
       "      <td>0.045100</td>\n",
       "      <td>Cancer of the lung and bronchus, incidence</td>\n",
       "      <td>25.6</td>\n",
       "      <td>Race/Ethnicity</td>\n",
       "      <td>White, non-Hispanic</td>\n",
       "      <td>662328.0</td>\n",
       "      <td>68</td>\n",
       "      <td>177</td>\n",
       "    </tr>\n",
       "    <tr>\n",
       "      <th>22464</th>\n",
       "      <td>22464</td>\n",
       "      <td>DC</td>\n",
       "      <td>2014</td>\n",
       "      <td>287478</td>\n",
       "      <td>157</td>\n",
       "      <td>220</td>\n",
       "      <td>0</td>\n",
       "      <td>4</td>\n",
       "      <td>3</td>\n",
       "      <td>0</td>\n",
       "      <td>0.045100</td>\n",
       "      <td>Cancer of the lung and bronchus, incidence</td>\n",
       "      <td>22.4</td>\n",
       "      <td>Race/Ethnicity</td>\n",
       "      <td>Asian or Pacific Islander</td>\n",
       "      <td>662328.0</td>\n",
       "      <td>68</td>\n",
       "      <td>177</td>\n",
       "    </tr>\n",
       "    <tr>\n",
       "      <th>22465</th>\n",
       "      <td>22465</td>\n",
       "      <td>DC</td>\n",
       "      <td>2014</td>\n",
       "      <td>287478</td>\n",
       "      <td>157</td>\n",
       "      <td>220</td>\n",
       "      <td>0</td>\n",
       "      <td>4</td>\n",
       "      <td>3</td>\n",
       "      <td>0</td>\n",
       "      <td>0.045100</td>\n",
       "      <td>Cancer of the lung and bronchus, incidence</td>\n",
       "      <td>NaN</td>\n",
       "      <td>Race/Ethnicity</td>\n",
       "      <td>American Indian or Alaska Native</td>\n",
       "      <td>662328.0</td>\n",
       "      <td>68</td>\n",
       "      <td>177</td>\n",
       "    </tr>\n",
       "    <tr>\n",
       "      <th>22466</th>\n",
       "      <td>22466</td>\n",
       "      <td>DC</td>\n",
       "      <td>2014</td>\n",
       "      <td>287478</td>\n",
       "      <td>157</td>\n",
       "      <td>220</td>\n",
       "      <td>0</td>\n",
       "      <td>4</td>\n",
       "      <td>3</td>\n",
       "      <td>0</td>\n",
       "      <td>0.045100</td>\n",
       "      <td>Cancer of the lung and bronchus, incidence</td>\n",
       "      <td>48.3</td>\n",
       "      <td>Overall</td>\n",
       "      <td>Overall</td>\n",
       "      <td>662328.0</td>\n",
       "      <td>68</td>\n",
       "      <td>177</td>\n",
       "    </tr>\n",
       "    <tr>\n",
       "      <th>22467</th>\n",
       "      <td>22467</td>\n",
       "      <td>DC</td>\n",
       "      <td>2014</td>\n",
       "      <td>287478</td>\n",
       "      <td>157</td>\n",
       "      <td>220</td>\n",
       "      <td>0</td>\n",
       "      <td>4</td>\n",
       "      <td>3</td>\n",
       "      <td>0</td>\n",
       "      <td>0.045100</td>\n",
       "      <td>Cancer of the lung and bronchus, incidence</td>\n",
       "      <td>48.2</td>\n",
       "      <td>Gender</td>\n",
       "      <td>Female</td>\n",
       "      <td>662328.0</td>\n",
       "      <td>68</td>\n",
       "      <td>177</td>\n",
       "    </tr>\n",
       "  </tbody>\n",
       "</table>\n",
       "<p>22468 rows × 18 columns</p>\n",
       "</div>"
      ],
      "text/plain": [
       "       Unnamed: 0 STATE  Year       CO2     CH4     N2O  Fluorinated GHG  \\\n",
       "0               0    AL  2012  84138381  701702  602778           264437   \n",
       "1               1    AL  2012  84138381  701702  602778           264437   \n",
       "2               2    AL  2012  84138381  701702  602778           264437   \n",
       "3               3    AL  2012  84138381  701702  602778           264437   \n",
       "4               4    AL  2012  84138381  701702  602778           264437   \n",
       "...           ...   ...   ...       ...     ...     ...              ...   \n",
       "22463       22463    DC  2014    287478     157     220                0   \n",
       "22464       22464    DC  2014    287478     157     220                0   \n",
       "22465       22465    DC  2014    287478     157     220                0   \n",
       "22466       22466    DC  2014    287478     157     220                0   \n",
       "22467       22467    DC  2014    287478     157     220                0   \n",
       "\n",
       "       Laws and Regulations  State Incentives  Utility/Private Incentives  \\\n",
       "0                         3                 7                           4   \n",
       "1                         3                 7                           4   \n",
       "2                         3                 7                           4   \n",
       "3                         3                 7                           4   \n",
       "4                         3                 7                           4   \n",
       "...                     ...               ...                         ...   \n",
       "22463                     4                 3                           0   \n",
       "22464                     4                 3                           0   \n",
       "22465                     4                 3                           0   \n",
       "22466                     4                 3                           0   \n",
       "22467                     4                 3                           0   \n",
       "\n",
       "          Ozone                                    Question  DataValue  \\\n",
       "0      0.044215        Mortality from diseases of the heart      234.8   \n",
       "1      0.044215                       Asthma mortality rate       14.9   \n",
       "2      0.044215                       Asthma mortality rate        8.6   \n",
       "3      0.044215                       Asthma mortality rate        8.9   \n",
       "4      0.044215                       Asthma mortality rate       21.8   \n",
       "...         ...                                         ...        ...   \n",
       "22463  0.045100  Cancer of the lung and bronchus, incidence       25.6   \n",
       "22464  0.045100  Cancer of the lung and bronchus, incidence       22.4   \n",
       "22465  0.045100  Cancer of the lung and bronchus, incidence        NaN   \n",
       "22466  0.045100  Cancer of the lung and bronchus, incidence       48.3   \n",
       "22467  0.045100  Cancer of the lung and bronchus, incidence       48.2   \n",
       "\n",
       "      StratificationCategory1                   Stratification1  Population  \\\n",
       "0                      Gender                            Female   4815588.0   \n",
       "1                      Gender                            Female   4815588.0   \n",
       "2                      Gender                              Male   4815588.0   \n",
       "3              Race/Ethnicity               White, non-Hispanic   4815588.0   \n",
       "4              Race/Ethnicity               Black, non-Hispanic   4815588.0   \n",
       "...                       ...                               ...         ...   \n",
       "22463          Race/Ethnicity               White, non-Hispanic    662328.0   \n",
       "22464          Race/Ethnicity         Asian or Pacific Islander    662328.0   \n",
       "22465          Race/Ethnicity  American Indian or Alaska Native    662328.0   \n",
       "22466                 Overall                           Overall    662328.0   \n",
       "22467                  Gender                            Female    662328.0   \n",
       "\n",
       "      Total Sq. Mi. Total Sq. Km.  \n",
       "0            52,420       135,767  \n",
       "1            52,420       135,767  \n",
       "2            52,420       135,767  \n",
       "3            52,420       135,767  \n",
       "4            52,420       135,767  \n",
       "...             ...           ...  \n",
       "22463            68           177  \n",
       "22464            68           177  \n",
       "22465            68           177  \n",
       "22466            68           177  \n",
       "22467            68           177  \n",
       "\n",
       "[22468 rows x 18 columns]"
      ]
     },
     "execution_count": 52,
     "metadata": {},
     "output_type": "execute_result"
    }
   ],
   "source": [
    "data"
   ]
  },
  {
   "cell_type": "code",
   "execution_count": 53,
   "metadata": {},
   "outputs": [],
   "source": [
    "data['Total Sq. Mi.']=data['Total Sq. Mi.'].str.replace(',','')\n",
    "data['Total Sq. Mi.'] = data['Total Sq. Mi.'].astype('int64')"
   ]
  },
  {
   "cell_type": "code",
   "execution_count": 54,
   "metadata": {},
   "outputs": [],
   "source": [
    "data['CO2_PER_POP'] = data['CO2'] / data['Population']\n",
    "data['CO2_PER_SQUARE'] = data['CO2'] / data['Total Sq. Mi.']\n",
    "data['CH4_PER_POP'] = data['CH4'] / data['Population']\n",
    "data['CH4_PER_SQUARE'] = data['CH4'] / data['Total Sq. Mi.']\n",
    "data['N2O_PER_POP'] = data['N2O'] / data['Population']\n",
    "data['N2O_PER_SQUARE'] = data['N2O'] / data['Total Sq. Mi.']\n",
    "data['Fluorinated GHG_PER_POP'] = data['Fluorinated GHG'] / data['Population']\n",
    "data['Fluorinated GHG_PER_SQUARE'] = data['Fluorinated GHG'] / data['Total Sq. Mi.']"
   ]
  },
  {
   "cell_type": "code",
   "execution_count": 55,
   "metadata": {},
   "outputs": [],
   "source": [
    "data.drop(['STATE', 'Year','CO2','CH4','N2O','Fluorinated GHG_PER_POP','Population','Total Sq. Mi.','Total Sq. Km.'], axis=1, inplace=True)"
   ]
  },
  {
   "cell_type": "code",
   "execution_count": 56,
   "metadata": {},
   "outputs": [],
   "source": [
    "data = data[~data['StratificationCategory1'].isnull()]\n",
    "cols = data.columns.tolist()\n",
    "cols = cols[6:] + cols[:6]\n",
    "data = data[cols]"
   ]
  },
  {
   "cell_type": "code",
   "execution_count": 57,
   "metadata": {},
   "outputs": [
    {
     "data": {
      "text/plain": [
       "array(['Mortality from diseases of the heart', 'Asthma mortality rate',\n",
       "       'Mortality from heart failure',\n",
       "       'Mortality with chronic obstructive pulmonary disease as underlying cause among adults aged >= 45 years',\n",
       "       'Mortality with chronic obstructive pulmonary disease as underlying or contributing cause among adults aged >= 45 years',\n",
       "       'Mortality from coronary heart disease',\n",
       "       'Premature mortality among adults aged 45-64 years',\n",
       "       'Mortality from total cardiovascular diseases',\n",
       "       'Invasive cancer (all sites combined), incidence',\n",
       "       'Cancer of the lung and bronchus, incidence'], dtype=object)"
      ]
     },
     "execution_count": 57,
     "metadata": {},
     "output_type": "execute_result"
    }
   ],
   "source": [
    "data['Question'].unique()"
   ]
  },
  {
   "cell_type": "code",
   "execution_count": 58,
   "metadata": {},
   "outputs": [
    {
     "data": {
      "text/plain": [
       "array(['Gender', 'Race/Ethnicity', 'Overall'], dtype=object)"
      ]
     },
     "execution_count": 58,
     "metadata": {},
     "output_type": "execute_result"
    }
   ],
   "source": [
    "data['StratificationCategory1'].unique()"
   ]
  },
  {
   "cell_type": "code",
   "execution_count": 59,
   "metadata": {},
   "outputs": [
    {
     "data": {
      "text/html": [
       "<div>\n",
       "<style scoped>\n",
       "    .dataframe tbody tr th:only-of-type {\n",
       "        vertical-align: middle;\n",
       "    }\n",
       "\n",
       "    .dataframe tbody tr th {\n",
       "        vertical-align: top;\n",
       "    }\n",
       "\n",
       "    .dataframe thead th {\n",
       "        text-align: right;\n",
       "    }\n",
       "</style>\n",
       "<table border=\"1\" class=\"dataframe\">\n",
       "  <thead>\n",
       "    <tr style=\"text-align: right;\">\n",
       "      <th></th>\n",
       "      <th>Question</th>\n",
       "      <th>DataValue</th>\n",
       "      <th>StratificationCategory1</th>\n",
       "      <th>Stratification1</th>\n",
       "      <th>CO2_PER_POP</th>\n",
       "      <th>CO2_PER_SQUARE</th>\n",
       "      <th>CH4_PER_POP</th>\n",
       "      <th>CH4_PER_SQUARE</th>\n",
       "      <th>N2O_PER_POP</th>\n",
       "      <th>N2O_PER_SQUARE</th>\n",
       "      <th>Fluorinated GHG_PER_SQUARE</th>\n",
       "      <th>Unnamed: 0</th>\n",
       "      <th>Fluorinated GHG</th>\n",
       "      <th>Laws and Regulations</th>\n",
       "      <th>State Incentives</th>\n",
       "      <th>Utility/Private Incentives</th>\n",
       "      <th>Ozone</th>\n",
       "    </tr>\n",
       "  </thead>\n",
       "  <tbody>\n",
       "    <tr>\n",
       "      <th>0</th>\n",
       "      <td>Mortality from diseases of the heart</td>\n",
       "      <td>234.8</td>\n",
       "      <td>Gender</td>\n",
       "      <td>Female</td>\n",
       "      <td>17.472089</td>\n",
       "      <td>1605.081667</td>\n",
       "      <td>0.145715</td>\n",
       "      <td>13.38615</td>\n",
       "      <td>0.125172</td>\n",
       "      <td>11.499008</td>\n",
       "      <td>5.044582</td>\n",
       "      <td>0</td>\n",
       "      <td>264437</td>\n",
       "      <td>3</td>\n",
       "      <td>7</td>\n",
       "      <td>4</td>\n",
       "      <td>0.044215</td>\n",
       "    </tr>\n",
       "    <tr>\n",
       "      <th>1</th>\n",
       "      <td>Asthma mortality rate</td>\n",
       "      <td>14.9</td>\n",
       "      <td>Gender</td>\n",
       "      <td>Female</td>\n",
       "      <td>17.472089</td>\n",
       "      <td>1605.081667</td>\n",
       "      <td>0.145715</td>\n",
       "      <td>13.38615</td>\n",
       "      <td>0.125172</td>\n",
       "      <td>11.499008</td>\n",
       "      <td>5.044582</td>\n",
       "      <td>1</td>\n",
       "      <td>264437</td>\n",
       "      <td>3</td>\n",
       "      <td>7</td>\n",
       "      <td>4</td>\n",
       "      <td>0.044215</td>\n",
       "    </tr>\n",
       "    <tr>\n",
       "      <th>2</th>\n",
       "      <td>Asthma mortality rate</td>\n",
       "      <td>8.6</td>\n",
       "      <td>Gender</td>\n",
       "      <td>Male</td>\n",
       "      <td>17.472089</td>\n",
       "      <td>1605.081667</td>\n",
       "      <td>0.145715</td>\n",
       "      <td>13.38615</td>\n",
       "      <td>0.125172</td>\n",
       "      <td>11.499008</td>\n",
       "      <td>5.044582</td>\n",
       "      <td>2</td>\n",
       "      <td>264437</td>\n",
       "      <td>3</td>\n",
       "      <td>7</td>\n",
       "      <td>4</td>\n",
       "      <td>0.044215</td>\n",
       "    </tr>\n",
       "    <tr>\n",
       "      <th>3</th>\n",
       "      <td>Asthma mortality rate</td>\n",
       "      <td>8.9</td>\n",
       "      <td>Race/Ethnicity</td>\n",
       "      <td>White, non-Hispanic</td>\n",
       "      <td>17.472089</td>\n",
       "      <td>1605.081667</td>\n",
       "      <td>0.145715</td>\n",
       "      <td>13.38615</td>\n",
       "      <td>0.125172</td>\n",
       "      <td>11.499008</td>\n",
       "      <td>5.044582</td>\n",
       "      <td>3</td>\n",
       "      <td>264437</td>\n",
       "      <td>3</td>\n",
       "      <td>7</td>\n",
       "      <td>4</td>\n",
       "      <td>0.044215</td>\n",
       "    </tr>\n",
       "    <tr>\n",
       "      <th>4</th>\n",
       "      <td>Asthma mortality rate</td>\n",
       "      <td>21.8</td>\n",
       "      <td>Race/Ethnicity</td>\n",
       "      <td>Black, non-Hispanic</td>\n",
       "      <td>17.472089</td>\n",
       "      <td>1605.081667</td>\n",
       "      <td>0.145715</td>\n",
       "      <td>13.38615</td>\n",
       "      <td>0.125172</td>\n",
       "      <td>11.499008</td>\n",
       "      <td>5.044582</td>\n",
       "      <td>4</td>\n",
       "      <td>264437</td>\n",
       "      <td>3</td>\n",
       "      <td>7</td>\n",
       "      <td>4</td>\n",
       "      <td>0.044215</td>\n",
       "    </tr>\n",
       "  </tbody>\n",
       "</table>\n",
       "</div>"
      ],
      "text/plain": [
       "                               Question  DataValue StratificationCategory1  \\\n",
       "0  Mortality from diseases of the heart      234.8                  Gender   \n",
       "1                 Asthma mortality rate       14.9                  Gender   \n",
       "2                 Asthma mortality rate        8.6                  Gender   \n",
       "3                 Asthma mortality rate        8.9          Race/Ethnicity   \n",
       "4                 Asthma mortality rate       21.8          Race/Ethnicity   \n",
       "\n",
       "       Stratification1  CO2_PER_POP  CO2_PER_SQUARE  CH4_PER_POP  \\\n",
       "0               Female    17.472089     1605.081667     0.145715   \n",
       "1               Female    17.472089     1605.081667     0.145715   \n",
       "2                 Male    17.472089     1605.081667     0.145715   \n",
       "3  White, non-Hispanic    17.472089     1605.081667     0.145715   \n",
       "4  Black, non-Hispanic    17.472089     1605.081667     0.145715   \n",
       "\n",
       "   CH4_PER_SQUARE  N2O_PER_POP  N2O_PER_SQUARE  Fluorinated GHG_PER_SQUARE  \\\n",
       "0        13.38615     0.125172       11.499008                    5.044582   \n",
       "1        13.38615     0.125172       11.499008                    5.044582   \n",
       "2        13.38615     0.125172       11.499008                    5.044582   \n",
       "3        13.38615     0.125172       11.499008                    5.044582   \n",
       "4        13.38615     0.125172       11.499008                    5.044582   \n",
       "\n",
       "   Unnamed: 0  Fluorinated GHG  Laws and Regulations  State Incentives  \\\n",
       "0           0           264437                     3                 7   \n",
       "1           1           264437                     3                 7   \n",
       "2           2           264437                     3                 7   \n",
       "3           3           264437                     3                 7   \n",
       "4           4           264437                     3                 7   \n",
       "\n",
       "   Utility/Private Incentives     Ozone  \n",
       "0                           4  0.044215  \n",
       "1                           4  0.044215  \n",
       "2                           4  0.044215  \n",
       "3                           4  0.044215  \n",
       "4                           4  0.044215  "
      ]
     },
     "execution_count": 59,
     "metadata": {},
     "output_type": "execute_result"
    }
   ],
   "source": [
    "data.head()"
   ]
  },
  {
   "cell_type": "code",
   "execution_count": 16,
   "metadata": {},
   "outputs": [
    {
     "data": {
      "text/plain": [
       "(22416, 17)"
      ]
     },
     "execution_count": 16,
     "metadata": {},
     "output_type": "execute_result"
    }
   ],
   "source": [
    "data.shape"
   ]
  },
  {
   "cell_type": "code",
   "execution_count": 17,
   "metadata": {},
   "outputs": [
    {
     "data": {
      "text/plain": [
       "Question                         0\n",
       "DataValue                     5297\n",
       "StratificationCategory1          0\n",
       "Stratification1                  0\n",
       "CO2_PER_POP                      0\n",
       "CO2_PER_SQUARE                   0\n",
       "CH4_PER_POP                      0\n",
       "CH4_PER_SQUARE                   0\n",
       "N2O_PER_POP                      0\n",
       "N2O_PER_SQUARE                   0\n",
       "Fluorinated GHG_PER_SQUARE       0\n",
       "Unnamed: 0                       0\n",
       "Fluorinated GHG                  0\n",
       "Laws and Regulations             0\n",
       "State Incentives                 0\n",
       "Utility/Private Incentives       0\n",
       "Ozone                            0\n",
       "dtype: int64"
      ]
     },
     "execution_count": 17,
     "metadata": {},
     "output_type": "execute_result"
    }
   ],
   "source": [
    "data.isnull().sum()"
   ]
  },
  {
   "cell_type": "markdown",
   "metadata": {},
   "source": [
    "## Question\n",
    "\n",
    "### · \"Mortality from total cardiovascular diseases\"\n",
    "### · \"Premature mortality among adults aged 45-64 years\"\n",
    "### · \"Mortality with chronic obstructive pulmonary disease as underlying or contributing cause among adults aged >= 45 years\"\n"
   ]
  },
  {
   "cell_type": "markdown",
   "metadata": {},
   "source": [
    "#### 1. Mortality from total cardiovascular diseases"
   ]
  },
  {
   "cell_type": "code",
   "execution_count": 18,
   "metadata": {},
   "outputs": [],
   "source": [
    "data_q1 = data[data['Question']=='Mortality from total cardiovascular diseases']      "
   ]
  },
  {
   "cell_type": "code",
   "execution_count": 19,
   "metadata": {},
   "outputs": [
    {
     "data": {
      "text/plain": [
       "Question                        0\n",
       "DataValue                     315\n",
       "StratificationCategory1         0\n",
       "Stratification1                 0\n",
       "CO2_PER_POP                     0\n",
       "CO2_PER_SQUARE                  0\n",
       "CH4_PER_POP                     0\n",
       "CH4_PER_SQUARE                  0\n",
       "N2O_PER_POP                     0\n",
       "N2O_PER_SQUARE                  0\n",
       "Fluorinated GHG_PER_SQUARE      0\n",
       "Unnamed: 0                      0\n",
       "Fluorinated GHG                 0\n",
       "Laws and Regulations            0\n",
       "State Incentives                0\n",
       "Utility/Private Incentives      0\n",
       "Ozone                           0\n",
       "dtype: int64"
      ]
     },
     "execution_count": 19,
     "metadata": {},
     "output_type": "execute_result"
    }
   ],
   "source": [
    "data_q1[data_q1['StratificationCategory1']=='Race/Ethnicity'].isnull().sum()"
   ]
  },
  {
   "cell_type": "code",
   "execution_count": 20,
   "metadata": {},
   "outputs": [
    {
     "data": {
      "text/plain": [
       "Question                      0\n",
       "DataValue                     0\n",
       "StratificationCategory1       0\n",
       "Stratification1               0\n",
       "CO2_PER_POP                   0\n",
       "CO2_PER_SQUARE                0\n",
       "CH4_PER_POP                   0\n",
       "CH4_PER_SQUARE                0\n",
       "N2O_PER_POP                   0\n",
       "N2O_PER_SQUARE                0\n",
       "Fluorinated GHG_PER_SQUARE    0\n",
       "Unnamed: 0                    0\n",
       "Fluorinated GHG               0\n",
       "Laws and Regulations          0\n",
       "State Incentives              0\n",
       "Utility/Private Incentives    0\n",
       "Ozone                         0\n",
       "dtype: int64"
      ]
     },
     "execution_count": 20,
     "metadata": {},
     "output_type": "execute_result"
    }
   ],
   "source": [
    "data_q1[data_q1['StratificationCategory1']=='Gender'].isnull().sum()"
   ]
  },
  {
   "cell_type": "code",
   "execution_count": 21,
   "metadata": {},
   "outputs": [
    {
     "name": "stderr",
     "output_type": "stream",
     "text": [
      "/opt/anaconda3/lib/python3.8/site-packages/pandas/core/frame.py:3990: SettingWithCopyWarning: \n",
      "A value is trying to be set on a copy of a slice from a DataFrame\n",
      "\n",
      "See the caveats in the documentation: https://pandas.pydata.org/pandas-docs/stable/user_guide/indexing.html#returning-a-view-versus-a-copy\n",
      "  return super().drop(\n"
     ]
    }
   ],
   "source": [
    "data_q1_1 = data_q1[data_q1['StratificationCategory1']=='Race/Ethnicity']\n",
    "data_q1_1.drop(['Question','StratificationCategory1'], axis=1, inplace=True)\n",
    "data_q1_1 = data_q1_1[~data_q1_1['DataValue'].isnull()]"
   ]
  },
  {
   "cell_type": "code",
   "execution_count": 22,
   "metadata": {},
   "outputs": [
    {
     "data": {
      "text/html": [
       "<div>\n",
       "<style scoped>\n",
       "    .dataframe tbody tr th:only-of-type {\n",
       "        vertical-align: middle;\n",
       "    }\n",
       "\n",
       "    .dataframe tbody tr th {\n",
       "        vertical-align: top;\n",
       "    }\n",
       "\n",
       "    .dataframe thead th {\n",
       "        text-align: right;\n",
       "    }\n",
       "</style>\n",
       "<table border=\"1\" class=\"dataframe\">\n",
       "  <thead>\n",
       "    <tr style=\"text-align: right;\">\n",
       "      <th></th>\n",
       "      <th>DataValue</th>\n",
       "      <th>Stratification1</th>\n",
       "      <th>CO2_PER_POP</th>\n",
       "      <th>CO2_PER_SQUARE</th>\n",
       "      <th>CH4_PER_POP</th>\n",
       "      <th>CH4_PER_SQUARE</th>\n",
       "      <th>N2O_PER_POP</th>\n",
       "      <th>N2O_PER_SQUARE</th>\n",
       "      <th>Fluorinated GHG_PER_SQUARE</th>\n",
       "      <th>Unnamed: 0</th>\n",
       "      <th>Fluorinated GHG</th>\n",
       "      <th>Laws and Regulations</th>\n",
       "      <th>State Incentives</th>\n",
       "      <th>Utility/Private Incentives</th>\n",
       "      <th>Ozone</th>\n",
       "    </tr>\n",
       "  </thead>\n",
       "  <tbody>\n",
       "    <tr>\n",
       "      <th>17</th>\n",
       "      <td>29.1</td>\n",
       "      <td>Hispanic</td>\n",
       "      <td>17.472089</td>\n",
       "      <td>1605.081667</td>\n",
       "      <td>0.145715</td>\n",
       "      <td>13.38615</td>\n",
       "      <td>0.125172</td>\n",
       "      <td>11.499008</td>\n",
       "      <td>5.044582</td>\n",
       "      <td>17</td>\n",
       "      <td>264437</td>\n",
       "      <td>3</td>\n",
       "      <td>7</td>\n",
       "      <td>4</td>\n",
       "      <td>0.044215</td>\n",
       "    </tr>\n",
       "    <tr>\n",
       "      <th>18</th>\n",
       "      <td>368.0</td>\n",
       "      <td>White, non-Hispanic</td>\n",
       "      <td>17.472089</td>\n",
       "      <td>1605.081667</td>\n",
       "      <td>0.145715</td>\n",
       "      <td>13.38615</td>\n",
       "      <td>0.125172</td>\n",
       "      <td>11.499008</td>\n",
       "      <td>5.044582</td>\n",
       "      <td>18</td>\n",
       "      <td>264437</td>\n",
       "      <td>3</td>\n",
       "      <td>7</td>\n",
       "      <td>4</td>\n",
       "      <td>0.044215</td>\n",
       "    </tr>\n",
       "    <tr>\n",
       "      <th>34</th>\n",
       "      <td>284.5</td>\n",
       "      <td>Black, non-Hispanic</td>\n",
       "      <td>17.472089</td>\n",
       "      <td>1605.081667</td>\n",
       "      <td>0.145715</td>\n",
       "      <td>13.38615</td>\n",
       "      <td>0.125172</td>\n",
       "      <td>11.499008</td>\n",
       "      <td>5.044582</td>\n",
       "      <td>34</td>\n",
       "      <td>264437</td>\n",
       "      <td>3</td>\n",
       "      <td>7</td>\n",
       "      <td>4</td>\n",
       "      <td>0.044215</td>\n",
       "    </tr>\n",
       "    <tr>\n",
       "      <th>37</th>\n",
       "      <td>38.8</td>\n",
       "      <td>Asian or Pacific Islander</td>\n",
       "      <td>17.472089</td>\n",
       "      <td>1605.081667</td>\n",
       "      <td>0.145715</td>\n",
       "      <td>13.38615</td>\n",
       "      <td>0.125172</td>\n",
       "      <td>11.499008</td>\n",
       "      <td>5.044582</td>\n",
       "      <td>37</td>\n",
       "      <td>264437</td>\n",
       "      <td>3</td>\n",
       "      <td>7</td>\n",
       "      <td>4</td>\n",
       "      <td>0.044215</td>\n",
       "    </tr>\n",
       "    <tr>\n",
       "      <th>70</th>\n",
       "      <td>103.8</td>\n",
       "      <td>American Indian or Alaska Native</td>\n",
       "      <td>17.472089</td>\n",
       "      <td>1605.081667</td>\n",
       "      <td>0.145715</td>\n",
       "      <td>13.38615</td>\n",
       "      <td>0.125172</td>\n",
       "      <td>11.499008</td>\n",
       "      <td>5.044582</td>\n",
       "      <td>70</td>\n",
       "      <td>264437</td>\n",
       "      <td>3</td>\n",
       "      <td>7</td>\n",
       "      <td>4</td>\n",
       "      <td>0.044215</td>\n",
       "    </tr>\n",
       "  </tbody>\n",
       "</table>\n",
       "</div>"
      ],
      "text/plain": [
       "    DataValue                   Stratification1  CO2_PER_POP  CO2_PER_SQUARE  \\\n",
       "17       29.1                          Hispanic    17.472089     1605.081667   \n",
       "18      368.0               White, non-Hispanic    17.472089     1605.081667   \n",
       "34      284.5               Black, non-Hispanic    17.472089     1605.081667   \n",
       "37       38.8         Asian or Pacific Islander    17.472089     1605.081667   \n",
       "70      103.8  American Indian or Alaska Native    17.472089     1605.081667   \n",
       "\n",
       "    CH4_PER_POP  CH4_PER_SQUARE  N2O_PER_POP  N2O_PER_SQUARE  \\\n",
       "17     0.145715        13.38615     0.125172       11.499008   \n",
       "18     0.145715        13.38615     0.125172       11.499008   \n",
       "34     0.145715        13.38615     0.125172       11.499008   \n",
       "37     0.145715        13.38615     0.125172       11.499008   \n",
       "70     0.145715        13.38615     0.125172       11.499008   \n",
       "\n",
       "    Fluorinated GHG_PER_SQUARE  Unnamed: 0  Fluorinated GHG  \\\n",
       "17                    5.044582          17           264437   \n",
       "18                    5.044582          18           264437   \n",
       "34                    5.044582          34           264437   \n",
       "37                    5.044582          37           264437   \n",
       "70                    5.044582          70           264437   \n",
       "\n",
       "    Laws and Regulations  State Incentives  Utility/Private Incentives  \\\n",
       "17                     3                 7                           4   \n",
       "18                     3                 7                           4   \n",
       "34                     3                 7                           4   \n",
       "37                     3                 7                           4   \n",
       "70                     3                 7                           4   \n",
       "\n",
       "       Ozone  \n",
       "17  0.044215  \n",
       "18  0.044215  \n",
       "34  0.044215  \n",
       "37  0.044215  \n",
       "70  0.044215  "
      ]
     },
     "execution_count": 22,
     "metadata": {},
     "output_type": "execute_result"
    }
   ],
   "source": [
    "data_q1_1.head()"
   ]
  },
  {
   "cell_type": "code",
   "execution_count": 23,
   "metadata": {},
   "outputs": [
    {
     "name": "stderr",
     "output_type": "stream",
     "text": [
      "/opt/anaconda3/lib/python3.8/site-packages/pandas/core/frame.py:3990: SettingWithCopyWarning: \n",
      "A value is trying to be set on a copy of a slice from a DataFrame\n",
      "\n",
      "See the caveats in the documentation: https://pandas.pydata.org/pandas-docs/stable/user_guide/indexing.html#returning-a-view-versus-a-copy\n",
      "  return super().drop(\n"
     ]
    }
   ],
   "source": [
    "data_q1_2 = data_q1[data_q1['StratificationCategory1']=='Gender']\n",
    "data_q1_2.drop(['Question','StratificationCategory1'], axis=1, inplace=True)"
   ]
  },
  {
   "cell_type": "code",
   "execution_count": 24,
   "metadata": {},
   "outputs": [
    {
     "data": {
      "text/html": [
       "<div>\n",
       "<style scoped>\n",
       "    .dataframe tbody tr th:only-of-type {\n",
       "        vertical-align: middle;\n",
       "    }\n",
       "\n",
       "    .dataframe tbody tr th {\n",
       "        vertical-align: top;\n",
       "    }\n",
       "\n",
       "    .dataframe thead th {\n",
       "        text-align: right;\n",
       "    }\n",
       "</style>\n",
       "<table border=\"1\" class=\"dataframe\">\n",
       "  <thead>\n",
       "    <tr style=\"text-align: right;\">\n",
       "      <th></th>\n",
       "      <th>DataValue</th>\n",
       "      <th>Stratification1</th>\n",
       "      <th>CO2_PER_POP</th>\n",
       "      <th>CO2_PER_SQUARE</th>\n",
       "      <th>CH4_PER_POP</th>\n",
       "      <th>CH4_PER_SQUARE</th>\n",
       "      <th>N2O_PER_POP</th>\n",
       "      <th>N2O_PER_SQUARE</th>\n",
       "      <th>Fluorinated GHG_PER_SQUARE</th>\n",
       "      <th>Unnamed: 0</th>\n",
       "      <th>Fluorinated GHG</th>\n",
       "      <th>Laws and Regulations</th>\n",
       "      <th>State Incentives</th>\n",
       "      <th>Utility/Private Incentives</th>\n",
       "      <th>Ozone</th>\n",
       "    </tr>\n",
       "  </thead>\n",
       "  <tbody>\n",
       "    <tr>\n",
       "      <th>48</th>\n",
       "      <td>319.1</td>\n",
       "      <td>Female</td>\n",
       "      <td>17.472089</td>\n",
       "      <td>1605.081667</td>\n",
       "      <td>0.145715</td>\n",
       "      <td>13.386150</td>\n",
       "      <td>0.125172</td>\n",
       "      <td>11.499008</td>\n",
       "      <td>5.044582</td>\n",
       "      <td>48</td>\n",
       "      <td>264437</td>\n",
       "      <td>3</td>\n",
       "      <td>7</td>\n",
       "      <td>4</td>\n",
       "      <td>0.044215</td>\n",
       "    </tr>\n",
       "    <tr>\n",
       "      <th>57</th>\n",
       "      <td>333.5</td>\n",
       "      <td>Male</td>\n",
       "      <td>17.472089</td>\n",
       "      <td>1605.081667</td>\n",
       "      <td>0.145715</td>\n",
       "      <td>13.386150</td>\n",
       "      <td>0.125172</td>\n",
       "      <td>11.499008</td>\n",
       "      <td>5.044582</td>\n",
       "      <td>57</td>\n",
       "      <td>264437</td>\n",
       "      <td>3</td>\n",
       "      <td>7</td>\n",
       "      <td>4</td>\n",
       "      <td>0.044215</td>\n",
       "    </tr>\n",
       "    <tr>\n",
       "      <th>116</th>\n",
       "      <td>319.4</td>\n",
       "      <td>Female</td>\n",
       "      <td>17.245662</td>\n",
       "      <td>1589.048932</td>\n",
       "      <td>0.123060</td>\n",
       "      <td>11.338955</td>\n",
       "      <td>0.093460</td>\n",
       "      <td>8.611599</td>\n",
       "      <td>5.230713</td>\n",
       "      <td>116</td>\n",
       "      <td>274194</td>\n",
       "      <td>3</td>\n",
       "      <td>7</td>\n",
       "      <td>4</td>\n",
       "      <td>0.039733</td>\n",
       "    </tr>\n",
       "    <tr>\n",
       "      <th>117</th>\n",
       "      <td>354.0</td>\n",
       "      <td>Male</td>\n",
       "      <td>17.245662</td>\n",
       "      <td>1589.048932</td>\n",
       "      <td>0.123060</td>\n",
       "      <td>11.338955</td>\n",
       "      <td>0.093460</td>\n",
       "      <td>8.611599</td>\n",
       "      <td>5.230713</td>\n",
       "      <td>117</td>\n",
       "      <td>274194</td>\n",
       "      <td>3</td>\n",
       "      <td>7</td>\n",
       "      <td>4</td>\n",
       "      <td>0.039733</td>\n",
       "    </tr>\n",
       "    <tr>\n",
       "      <th>163</th>\n",
       "      <td>349.2</td>\n",
       "      <td>Male</td>\n",
       "      <td>17.523932</td>\n",
       "      <td>1618.606543</td>\n",
       "      <td>0.130945</td>\n",
       "      <td>12.094792</td>\n",
       "      <td>0.108513</td>\n",
       "      <td>10.022873</td>\n",
       "      <td>5.955761</td>\n",
       "      <td>163</td>\n",
       "      <td>312201</td>\n",
       "      <td>3</td>\n",
       "      <td>7</td>\n",
       "      <td>4</td>\n",
       "      <td>0.040936</td>\n",
       "    </tr>\n",
       "  </tbody>\n",
       "</table>\n",
       "</div>"
      ],
      "text/plain": [
       "     DataValue Stratification1  CO2_PER_POP  CO2_PER_SQUARE  CH4_PER_POP  \\\n",
       "48       319.1          Female    17.472089     1605.081667     0.145715   \n",
       "57       333.5            Male    17.472089     1605.081667     0.145715   \n",
       "116      319.4          Female    17.245662     1589.048932     0.123060   \n",
       "117      354.0            Male    17.245662     1589.048932     0.123060   \n",
       "163      349.2            Male    17.523932     1618.606543     0.130945   \n",
       "\n",
       "     CH4_PER_SQUARE  N2O_PER_POP  N2O_PER_SQUARE  Fluorinated GHG_PER_SQUARE  \\\n",
       "48        13.386150     0.125172       11.499008                    5.044582   \n",
       "57        13.386150     0.125172       11.499008                    5.044582   \n",
       "116       11.338955     0.093460        8.611599                    5.230713   \n",
       "117       11.338955     0.093460        8.611599                    5.230713   \n",
       "163       12.094792     0.108513       10.022873                    5.955761   \n",
       "\n",
       "     Unnamed: 0  Fluorinated GHG  Laws and Regulations  State Incentives  \\\n",
       "48           48           264437                     3                 7   \n",
       "57           57           264437                     3                 7   \n",
       "116         116           274194                     3                 7   \n",
       "117         117           274194                     3                 7   \n",
       "163         163           312201                     3                 7   \n",
       "\n",
       "     Utility/Private Incentives     Ozone  \n",
       "48                            4  0.044215  \n",
       "57                            4  0.044215  \n",
       "116                           4  0.039733  \n",
       "117                           4  0.039733  \n",
       "163                           4  0.040936  "
      ]
     },
     "execution_count": 24,
     "metadata": {},
     "output_type": "execute_result"
    }
   ],
   "source": [
    "data_q1_2.head()"
   ]
  },
  {
   "cell_type": "markdown",
   "metadata": {},
   "source": [
    "### label encoding"
   ]
  },
  {
   "cell_type": "code",
   "execution_count": 25,
   "metadata": {},
   "outputs": [],
   "source": [
    "data_q1_1.rename(columns={'Stratification1':'Race'}, inplace=True)\n",
    "data_q1_1 = pd.get_dummies(data_q1_1, columns = ['Race'], drop_first = True)"
   ]
  },
  {
   "cell_type": "code",
   "execution_count": 26,
   "metadata": {},
   "outputs": [
    {
     "data": {
      "text/html": [
       "<div>\n",
       "<style scoped>\n",
       "    .dataframe tbody tr th:only-of-type {\n",
       "        vertical-align: middle;\n",
       "    }\n",
       "\n",
       "    .dataframe tbody tr th {\n",
       "        vertical-align: top;\n",
       "    }\n",
       "\n",
       "    .dataframe thead th {\n",
       "        text-align: right;\n",
       "    }\n",
       "</style>\n",
       "<table border=\"1\" class=\"dataframe\">\n",
       "  <thead>\n",
       "    <tr style=\"text-align: right;\">\n",
       "      <th></th>\n",
       "      <th>DataValue</th>\n",
       "      <th>CO2_PER_POP</th>\n",
       "      <th>CO2_PER_SQUARE</th>\n",
       "      <th>CH4_PER_POP</th>\n",
       "      <th>CH4_PER_SQUARE</th>\n",
       "      <th>N2O_PER_POP</th>\n",
       "      <th>N2O_PER_SQUARE</th>\n",
       "      <th>Fluorinated GHG_PER_SQUARE</th>\n",
       "      <th>Unnamed: 0</th>\n",
       "      <th>Fluorinated GHG</th>\n",
       "      <th>Laws and Regulations</th>\n",
       "      <th>State Incentives</th>\n",
       "      <th>Utility/Private Incentives</th>\n",
       "      <th>Ozone</th>\n",
       "      <th>Race_Asian or Pacific Islander</th>\n",
       "      <th>Race_Black, non-Hispanic</th>\n",
       "      <th>Race_Hispanic</th>\n",
       "      <th>Race_White, non-Hispanic</th>\n",
       "    </tr>\n",
       "  </thead>\n",
       "  <tbody>\n",
       "    <tr>\n",
       "      <th>17</th>\n",
       "      <td>29.1</td>\n",
       "      <td>17.472089</td>\n",
       "      <td>1605.081667</td>\n",
       "      <td>0.145715</td>\n",
       "      <td>13.38615</td>\n",
       "      <td>0.125172</td>\n",
       "      <td>11.499008</td>\n",
       "      <td>5.044582</td>\n",
       "      <td>17</td>\n",
       "      <td>264437</td>\n",
       "      <td>3</td>\n",
       "      <td>7</td>\n",
       "      <td>4</td>\n",
       "      <td>0.044215</td>\n",
       "      <td>0</td>\n",
       "      <td>0</td>\n",
       "      <td>1</td>\n",
       "      <td>0</td>\n",
       "    </tr>\n",
       "    <tr>\n",
       "      <th>18</th>\n",
       "      <td>368.0</td>\n",
       "      <td>17.472089</td>\n",
       "      <td>1605.081667</td>\n",
       "      <td>0.145715</td>\n",
       "      <td>13.38615</td>\n",
       "      <td>0.125172</td>\n",
       "      <td>11.499008</td>\n",
       "      <td>5.044582</td>\n",
       "      <td>18</td>\n",
       "      <td>264437</td>\n",
       "      <td>3</td>\n",
       "      <td>7</td>\n",
       "      <td>4</td>\n",
       "      <td>0.044215</td>\n",
       "      <td>0</td>\n",
       "      <td>0</td>\n",
       "      <td>0</td>\n",
       "      <td>1</td>\n",
       "    </tr>\n",
       "    <tr>\n",
       "      <th>34</th>\n",
       "      <td>284.5</td>\n",
       "      <td>17.472089</td>\n",
       "      <td>1605.081667</td>\n",
       "      <td>0.145715</td>\n",
       "      <td>13.38615</td>\n",
       "      <td>0.125172</td>\n",
       "      <td>11.499008</td>\n",
       "      <td>5.044582</td>\n",
       "      <td>34</td>\n",
       "      <td>264437</td>\n",
       "      <td>3</td>\n",
       "      <td>7</td>\n",
       "      <td>4</td>\n",
       "      <td>0.044215</td>\n",
       "      <td>0</td>\n",
       "      <td>1</td>\n",
       "      <td>0</td>\n",
       "      <td>0</td>\n",
       "    </tr>\n",
       "    <tr>\n",
       "      <th>37</th>\n",
       "      <td>38.8</td>\n",
       "      <td>17.472089</td>\n",
       "      <td>1605.081667</td>\n",
       "      <td>0.145715</td>\n",
       "      <td>13.38615</td>\n",
       "      <td>0.125172</td>\n",
       "      <td>11.499008</td>\n",
       "      <td>5.044582</td>\n",
       "      <td>37</td>\n",
       "      <td>264437</td>\n",
       "      <td>3</td>\n",
       "      <td>7</td>\n",
       "      <td>4</td>\n",
       "      <td>0.044215</td>\n",
       "      <td>1</td>\n",
       "      <td>0</td>\n",
       "      <td>0</td>\n",
       "      <td>0</td>\n",
       "    </tr>\n",
       "    <tr>\n",
       "      <th>70</th>\n",
       "      <td>103.8</td>\n",
       "      <td>17.472089</td>\n",
       "      <td>1605.081667</td>\n",
       "      <td>0.145715</td>\n",
       "      <td>13.38615</td>\n",
       "      <td>0.125172</td>\n",
       "      <td>11.499008</td>\n",
       "      <td>5.044582</td>\n",
       "      <td>70</td>\n",
       "      <td>264437</td>\n",
       "      <td>3</td>\n",
       "      <td>7</td>\n",
       "      <td>4</td>\n",
       "      <td>0.044215</td>\n",
       "      <td>0</td>\n",
       "      <td>0</td>\n",
       "      <td>0</td>\n",
       "      <td>0</td>\n",
       "    </tr>\n",
       "  </tbody>\n",
       "</table>\n",
       "</div>"
      ],
      "text/plain": [
       "    DataValue  CO2_PER_POP  CO2_PER_SQUARE  CH4_PER_POP  CH4_PER_SQUARE  \\\n",
       "17       29.1    17.472089     1605.081667     0.145715        13.38615   \n",
       "18      368.0    17.472089     1605.081667     0.145715        13.38615   \n",
       "34      284.5    17.472089     1605.081667     0.145715        13.38615   \n",
       "37       38.8    17.472089     1605.081667     0.145715        13.38615   \n",
       "70      103.8    17.472089     1605.081667     0.145715        13.38615   \n",
       "\n",
       "    N2O_PER_POP  N2O_PER_SQUARE  Fluorinated GHG_PER_SQUARE  Unnamed: 0  \\\n",
       "17     0.125172       11.499008                    5.044582          17   \n",
       "18     0.125172       11.499008                    5.044582          18   \n",
       "34     0.125172       11.499008                    5.044582          34   \n",
       "37     0.125172       11.499008                    5.044582          37   \n",
       "70     0.125172       11.499008                    5.044582          70   \n",
       "\n",
       "    Fluorinated GHG  Laws and Regulations  State Incentives  \\\n",
       "17           264437                     3                 7   \n",
       "18           264437                     3                 7   \n",
       "34           264437                     3                 7   \n",
       "37           264437                     3                 7   \n",
       "70           264437                     3                 7   \n",
       "\n",
       "    Utility/Private Incentives     Ozone  Race_Asian or Pacific Islander  \\\n",
       "17                           4  0.044215                               0   \n",
       "18                           4  0.044215                               0   \n",
       "34                           4  0.044215                               0   \n",
       "37                           4  0.044215                               1   \n",
       "70                           4  0.044215                               0   \n",
       "\n",
       "    Race_Black, non-Hispanic  Race_Hispanic  Race_White, non-Hispanic  \n",
       "17                         0              1                         0  \n",
       "18                         0              0                         1  \n",
       "34                         1              0                         0  \n",
       "37                         0              0                         0  \n",
       "70                         0              0                         0  "
      ]
     },
     "execution_count": 26,
     "metadata": {},
     "output_type": "execute_result"
    }
   ],
   "source": [
    "data_q1_1.head()"
   ]
  },
  {
   "cell_type": "code",
   "execution_count": 27,
   "metadata": {},
   "outputs": [
    {
     "name": "stderr",
     "output_type": "stream",
     "text": [
      "<ipython-input-27-39ca1a939b72>:3: SettingWithCopyWarning: \n",
      "A value is trying to be set on a copy of a slice from a DataFrame.\n",
      "Try using .loc[row_indexer,col_indexer] = value instead\n",
      "\n",
      "See the caveats in the documentation: https://pandas.pydata.org/pandas-docs/stable/user_guide/indexing.html#returning-a-view-versus-a-copy\n",
      "  data_q1_2['Stratification1'] = label_encoder.fit_transform(data_q1_2['Stratification1'])\n",
      "/opt/anaconda3/lib/python3.8/site-packages/pandas/core/frame.py:4125: SettingWithCopyWarning: \n",
      "A value is trying to be set on a copy of a slice from a DataFrame\n",
      "\n",
      "See the caveats in the documentation: https://pandas.pydata.org/pandas-docs/stable/user_guide/indexing.html#returning-a-view-versus-a-copy\n",
      "  return super().rename(\n"
     ]
    }
   ],
   "source": [
    "from sklearn import preprocessing\n",
    "label_encoder = preprocessing.LabelEncoder()\n",
    "data_q1_2['Stratification1'] = label_encoder.fit_transform(data_q1_2['Stratification1'])\n",
    "data_q1_2.rename(columns={'Stratification1':'Male'}, inplace=True)"
   ]
  },
  {
   "cell_type": "code",
   "execution_count": 28,
   "metadata": {},
   "outputs": [
    {
     "data": {
      "text/html": [
       "<div>\n",
       "<style scoped>\n",
       "    .dataframe tbody tr th:only-of-type {\n",
       "        vertical-align: middle;\n",
       "    }\n",
       "\n",
       "    .dataframe tbody tr th {\n",
       "        vertical-align: top;\n",
       "    }\n",
       "\n",
       "    .dataframe thead th {\n",
       "        text-align: right;\n",
       "    }\n",
       "</style>\n",
       "<table border=\"1\" class=\"dataframe\">\n",
       "  <thead>\n",
       "    <tr style=\"text-align: right;\">\n",
       "      <th></th>\n",
       "      <th>DataValue</th>\n",
       "      <th>Male</th>\n",
       "      <th>CO2_PER_POP</th>\n",
       "      <th>CO2_PER_SQUARE</th>\n",
       "      <th>CH4_PER_POP</th>\n",
       "      <th>CH4_PER_SQUARE</th>\n",
       "      <th>N2O_PER_POP</th>\n",
       "      <th>N2O_PER_SQUARE</th>\n",
       "      <th>Fluorinated GHG_PER_SQUARE</th>\n",
       "      <th>Unnamed: 0</th>\n",
       "      <th>Fluorinated GHG</th>\n",
       "      <th>Laws and Regulations</th>\n",
       "      <th>State Incentives</th>\n",
       "      <th>Utility/Private Incentives</th>\n",
       "      <th>Ozone</th>\n",
       "    </tr>\n",
       "  </thead>\n",
       "  <tbody>\n",
       "    <tr>\n",
       "      <th>48</th>\n",
       "      <td>319.1</td>\n",
       "      <td>0</td>\n",
       "      <td>17.472089</td>\n",
       "      <td>1605.081667</td>\n",
       "      <td>0.145715</td>\n",
       "      <td>13.386150</td>\n",
       "      <td>0.125172</td>\n",
       "      <td>11.499008</td>\n",
       "      <td>5.044582</td>\n",
       "      <td>48</td>\n",
       "      <td>264437</td>\n",
       "      <td>3</td>\n",
       "      <td>7</td>\n",
       "      <td>4</td>\n",
       "      <td>0.044215</td>\n",
       "    </tr>\n",
       "    <tr>\n",
       "      <th>57</th>\n",
       "      <td>333.5</td>\n",
       "      <td>1</td>\n",
       "      <td>17.472089</td>\n",
       "      <td>1605.081667</td>\n",
       "      <td>0.145715</td>\n",
       "      <td>13.386150</td>\n",
       "      <td>0.125172</td>\n",
       "      <td>11.499008</td>\n",
       "      <td>5.044582</td>\n",
       "      <td>57</td>\n",
       "      <td>264437</td>\n",
       "      <td>3</td>\n",
       "      <td>7</td>\n",
       "      <td>4</td>\n",
       "      <td>0.044215</td>\n",
       "    </tr>\n",
       "    <tr>\n",
       "      <th>116</th>\n",
       "      <td>319.4</td>\n",
       "      <td>0</td>\n",
       "      <td>17.245662</td>\n",
       "      <td>1589.048932</td>\n",
       "      <td>0.123060</td>\n",
       "      <td>11.338955</td>\n",
       "      <td>0.093460</td>\n",
       "      <td>8.611599</td>\n",
       "      <td>5.230713</td>\n",
       "      <td>116</td>\n",
       "      <td>274194</td>\n",
       "      <td>3</td>\n",
       "      <td>7</td>\n",
       "      <td>4</td>\n",
       "      <td>0.039733</td>\n",
       "    </tr>\n",
       "    <tr>\n",
       "      <th>117</th>\n",
       "      <td>354.0</td>\n",
       "      <td>1</td>\n",
       "      <td>17.245662</td>\n",
       "      <td>1589.048932</td>\n",
       "      <td>0.123060</td>\n",
       "      <td>11.338955</td>\n",
       "      <td>0.093460</td>\n",
       "      <td>8.611599</td>\n",
       "      <td>5.230713</td>\n",
       "      <td>117</td>\n",
       "      <td>274194</td>\n",
       "      <td>3</td>\n",
       "      <td>7</td>\n",
       "      <td>4</td>\n",
       "      <td>0.039733</td>\n",
       "    </tr>\n",
       "    <tr>\n",
       "      <th>163</th>\n",
       "      <td>349.2</td>\n",
       "      <td>1</td>\n",
       "      <td>17.523932</td>\n",
       "      <td>1618.606543</td>\n",
       "      <td>0.130945</td>\n",
       "      <td>12.094792</td>\n",
       "      <td>0.108513</td>\n",
       "      <td>10.022873</td>\n",
       "      <td>5.955761</td>\n",
       "      <td>163</td>\n",
       "      <td>312201</td>\n",
       "      <td>3</td>\n",
       "      <td>7</td>\n",
       "      <td>4</td>\n",
       "      <td>0.040936</td>\n",
       "    </tr>\n",
       "  </tbody>\n",
       "</table>\n",
       "</div>"
      ],
      "text/plain": [
       "     DataValue  Male  CO2_PER_POP  CO2_PER_SQUARE  CH4_PER_POP  \\\n",
       "48       319.1     0    17.472089     1605.081667     0.145715   \n",
       "57       333.5     1    17.472089     1605.081667     0.145715   \n",
       "116      319.4     0    17.245662     1589.048932     0.123060   \n",
       "117      354.0     1    17.245662     1589.048932     0.123060   \n",
       "163      349.2     1    17.523932     1618.606543     0.130945   \n",
       "\n",
       "     CH4_PER_SQUARE  N2O_PER_POP  N2O_PER_SQUARE  Fluorinated GHG_PER_SQUARE  \\\n",
       "48        13.386150     0.125172       11.499008                    5.044582   \n",
       "57        13.386150     0.125172       11.499008                    5.044582   \n",
       "116       11.338955     0.093460        8.611599                    5.230713   \n",
       "117       11.338955     0.093460        8.611599                    5.230713   \n",
       "163       12.094792     0.108513       10.022873                    5.955761   \n",
       "\n",
       "     Unnamed: 0  Fluorinated GHG  Laws and Regulations  State Incentives  \\\n",
       "48           48           264437                     3                 7   \n",
       "57           57           264437                     3                 7   \n",
       "116         116           274194                     3                 7   \n",
       "117         117           274194                     3                 7   \n",
       "163         163           312201                     3                 7   \n",
       "\n",
       "     Utility/Private Incentives     Ozone  \n",
       "48                            4  0.044215  \n",
       "57                            4  0.044215  \n",
       "116                           4  0.039733  \n",
       "117                           4  0.039733  \n",
       "163                           4  0.040936  "
      ]
     },
     "execution_count": 28,
     "metadata": {},
     "output_type": "execute_result"
    }
   ],
   "source": [
    "data_q1_2.head()"
   ]
  },
  {
   "cell_type": "markdown",
   "metadata": {},
   "source": [
    "### regression"
   ]
  },
  {
   "cell_type": "code",
   "execution_count": 29,
   "metadata": {},
   "outputs": [],
   "source": [
    "X = data_q1_1.values[:,1:].copy()\n",
    "y = data_q1_1.DataValue.values"
   ]
  },
  {
   "cell_type": "markdown",
   "metadata": {},
   "source": [
    "#### linear regression"
   ]
  },
  {
   "cell_type": "code",
   "execution_count": 30,
   "metadata": {},
   "outputs": [
    {
     "name": "stdout",
     "output_type": "stream",
     "text": [
      "---- linear regression ----\n",
      "0.7816757579112762\n",
      "0.7705959393168103\n"
     ]
    }
   ],
   "source": [
    "from sklearn.linear_model import LinearRegression\n",
    "from sklearn.model_selection import GridSearchCV\n",
    "from sklearn.ensemble import RandomForestRegressor\n",
    "from sklearn.model_selection import ShuffleSplit\n",
    "from sklearn.model_selection import cross_validate\n",
    "\n",
    "nmc = 100\n",
    "\n",
    "#Linear Regression\n",
    "linreg = LinearRegression()\n",
    "cvf = ShuffleSplit(n_splits=nmc, test_size=0.2, random_state=25)\n",
    "CVInfo = cross_validate(linreg, X, y, cv=cvf,return_train_score=True)\n",
    "print('---- linear regression ----')\n",
    "print(np.mean(CVInfo['train_score']))\n",
    "print(np.mean(CVInfo['test_score']))"
   ]
  },
  {
   "cell_type": "markdown",
   "metadata": {},
   "source": [
    "#### Random forest regression"
   ]
  },
  {
   "cell_type": "code",
   "execution_count": 31,
   "metadata": {},
   "outputs": [
    {
     "name": "stdout",
     "output_type": "stream",
     "text": [
      "---- random forest ----\n",
      "   rank_test_score  mean_test_score param_max_features param_max_depth\n",
      "0                1         0.965915                  7              25\n",
      "---- optimal parameters ----\n",
      "{'max_depth': 25, 'max_features': 7, 'n_estimators': 50}\n",
      "---- best accuracy ----\n",
      "0.9659148451923776\n"
     ]
    }
   ],
   "source": [
    "#Random Forest\n",
    "\n",
    "from sklearn.model_selection import GridSearchCV\n",
    "from sklearn.ensemble import RandomForestRegressor\n",
    "\n",
    "#  Note:  no need for scaling, back to simple parameters\n",
    "# set up dictionary for grid search\n",
    "param_grid={'max_features':[7],'max_depth':[25],'n_estimators':[50]}\n",
    "# set up cross-validation shuffles\n",
    "cvf = ShuffleSplit(n_splits=nmc, test_size=0.2, random_state=25)\n",
    "# set up search\n",
    "grid_search=GridSearchCV(RandomForestRegressor(random_state=25),param_grid,cv=cvf,return_train_score=True)\n",
    "# implement search\n",
    "grid_search.fit(X,y)\n",
    "# move results into DataFrame\n",
    "results = pd.DataFrame(grid_search.cv_results_)\n",
    "\n",
    "print('---- random forest ----')\n",
    "print(results[['rank_test_score','mean_test_score','param_max_features','param_max_depth']])\n",
    "print('---- optimal parameters ----')\n",
    "print(grid_search.best_params_)\n",
    "print('---- best accuracy ----')\n",
    "print(grid_search.best_score_)"
   ]
  },
  {
   "cell_type": "markdown",
   "metadata": {},
   "source": [
    "#### Gradient Boosting Regression"
   ]
  },
  {
   "cell_type": "code",
   "execution_count": 32,
   "metadata": {},
   "outputs": [
    {
     "name": "stdout",
     "output_type": "stream",
     "text": [
      "Accuracy on training set: 0.948\n",
      "Accuracy on test set: 0.918\n"
     ]
    }
   ],
   "source": [
    "from sklearn import ensemble\n",
    "from sklearn.model_selection import train_test_split\n",
    "\n",
    "\n",
    "X_train, X_test, y_train, y_test = train_test_split(X, y, test_size = 0.2, random_state=0)\n",
    "\n",
    "params = {'n_estimators': 500, 'max_depth': 4, 'min_samples_split': 2,\n",
    "          'learning_rate': 0.01, 'loss': 'ls'}\n",
    "\n",
    "model = ensemble.GradientBoostingRegressor(**params)\n",
    "model.fit(X_train, y_train)\n",
    "\n",
    "print(\"Accuracy on training set: {:.3f}\".format(model.score(X_train, y_train)))\n",
    "print(\"Accuracy on test set: {:.3f}\".format(model.score(X_test, y_test)))"
   ]
  },
  {
   "cell_type": "code",
   "execution_count": 33,
   "metadata": {},
   "outputs": [
    {
     "data": {
      "image/png": "[encoded data removed]",
      "text/plain": [
       "<Figure size 864x432 with 1 Axes>"
      ]
     },
     "metadata": {
      "needs_background": "light"
     },
     "output_type": "display_data"
    }
   ],
   "source": [
    "feature_importance = model.feature_importances_\n",
    "sorted_idx = np.argsort(feature_importance)\n",
    "pos = np.arange(sorted_idx.shape[0]) + .5\n",
    "fig = plt.figure(figsize=(12, 6))\n",
    "plt.subplot(1, 2, 1)\n",
    "plt.barh(pos, feature_importance[sorted_idx], align='center')\n",
    "plt.yticks(pos, np.array(data_q1_1.iloc[:,1:].columns)[sorted_idx])\n",
    "#plt.title('Feature Importance (MDI)')\n",
    "plt.show()"
   ]
  },
  {
   "cell_type": "markdown",
   "metadata": {},
   "source": [
    "## gender"
   ]
  },
  {
   "cell_type": "code",
   "execution_count": 34,
   "metadata": {},
   "outputs": [],
   "source": [
    "X = data_q1_2.values[:,1:].copy()\n",
    "y = data_q1_2.DataValue.values"
   ]
  },
  {
   "cell_type": "markdown",
   "metadata": {},
   "source": [
    "#### linear regression"
   ]
  },
  {
   "cell_type": "code",
   "execution_count": 35,
   "metadata": {},
   "outputs": [
    {
     "name": "stdout",
     "output_type": "stream",
     "text": [
      "---- linear regression ----\n",
      "0.3986586505929065\n",
      "0.3551478746746528\n"
     ]
    }
   ],
   "source": [
    "from sklearn.linear_model import LinearRegression\n",
    "from sklearn.model_selection import GridSearchCV\n",
    "from sklearn.ensemble import RandomForestRegressor\n",
    "from sklearn.model_selection import ShuffleSplit\n",
    "from sklearn.model_selection import cross_validate\n",
    "\n",
    "nmc = 100\n",
    "\n",
    "#Linear Regression\n",
    "linreg = LinearRegression()\n",
    "cvf = ShuffleSplit(n_splits=nmc, test_size=0.2, random_state=25)\n",
    "CVInfo = cross_validate(linreg, X, y, cv=cvf,return_train_score=True)\n",
    "print('---- linear regression ----')\n",
    "print(np.mean(CVInfo['train_score']))\n",
    "print(np.mean(CVInfo['test_score']))"
   ]
  },
  {
   "cell_type": "markdown",
   "metadata": {},
   "source": [
    "#### Random forest regression"
   ]
  },
  {
   "cell_type": "code",
   "execution_count": 36,
   "metadata": {},
   "outputs": [
    {
     "name": "stdout",
     "output_type": "stream",
     "text": [
      "---- random forest ----\n",
      "   rank_test_score  mean_test_score param_max_features param_max_depth\n",
      "0                1         0.915775                  7              25\n",
      "---- optimal parameters ----\n",
      "{'max_depth': 25, 'max_features': 7, 'n_estimators': 50}\n",
      "---- best accuracy ----\n",
      "0.9157748394616947\n"
     ]
    }
   ],
   "source": [
    "#Random Forest\n",
    "\n",
    "from sklearn.model_selection import GridSearchCV\n",
    "from sklearn.ensemble import RandomForestRegressor\n",
    "\n",
    "#  Note:  no need for scaling, back to simple parameters\n",
    "# set up dictionary for grid search\n",
    "param_grid={'max_features':[7],'max_depth':[25],'n_estimators':[50]}\n",
    "# set up cross-validation shuffles\n",
    "cvf = ShuffleSplit(n_splits=nmc, test_size=0.2, random_state=25)\n",
    "# set up search\n",
    "grid_search=GridSearchCV(RandomForestRegressor(random_state=25),param_grid,cv=cvf,return_train_score=True)\n",
    "# implement search\n",
    "grid_search.fit(X,y)\n",
    "# move results into DataFrame\n",
    "results = pd.DataFrame(grid_search.cv_results_)\n",
    "\n",
    "print('---- random forest ----')\n",
    "print(results[['rank_test_score','mean_test_score','param_max_features','param_max_depth']])\n",
    "print('---- optimal parameters ----')\n",
    "print(grid_search.best_params_)\n",
    "print('---- best accuracy ----')\n",
    "print(grid_search.best_score_)"
   ]
  },
  {
   "cell_type": "markdown",
   "metadata": {},
   "source": [
    "#### Gradient Boosting Regression"
   ]
  },
  {
   "cell_type": "code",
   "execution_count": 37,
   "metadata": {},
   "outputs": [
    {
     "name": "stdout",
     "output_type": "stream",
     "text": [
      "Accuracy on training set: 0.966\n",
      "Accuracy on test set: 0.901\n"
     ]
    }
   ],
   "source": [
    "from sklearn import ensemble\n",
    "from sklearn.model_selection import train_test_split\n",
    "\n",
    "\n",
    "X_train, X_test, y_train, y_test = train_test_split(X, y, test_size = 0.2, random_state=0)\n",
    "\n",
    "params = {'n_estimators': 500, 'max_depth': 4, 'min_samples_split': 2,\n",
    "          'learning_rate': 0.01, 'loss': 'ls'}\n",
    "\n",
    "model = ensemble.GradientBoostingRegressor(**params)\n",
    "model.fit(X_train, y_train)\n",
    "\n",
    "print(\"Accuracy on training set: {:.3f}\".format(model.score(X_train, y_train)))\n",
    "print(\"Accuracy on test set: {:.3f}\".format(model.score(X_test, y_test)))"
   ]
  },
  {
   "cell_type": "code",
   "execution_count": 38,
   "metadata": {},
   "outputs": [
    {
     "data": {
      "image/png": "[encoded data removed]",
      "text/plain": [
       "<Figure size 864x432 with 1 Axes>"
      ]
     },
     "metadata": {
      "needs_background": "light"
     },
     "output_type": "display_data"
    }
   ],
   "source": [
    "feature_importance = model.feature_importances_\n",
    "sorted_idx = np.argsort(feature_importance)\n",
    "pos = np.arange(sorted_idx.shape[0]) + .5\n",
    "fig = plt.figure(figsize=(12, 6))\n",
    "plt.subplot(1, 2, 1)\n",
    "plt.barh(pos, feature_importance[sorted_idx], align='center')\n",
    "plt.yticks(pos, np.array(data_q1_2.iloc[:,1:].columns)[sorted_idx])\n",
    "#plt.title('Feature Importance (MDI)')\n",
    "plt.show()"
   ]
  },
  {
   "cell_type": "markdown",
   "metadata": {},
   "source": [
    "### 2.Premature mortality among adults aged 45-64 years"
   ]
  },
  {
   "cell_type": "code",
   "execution_count": 102,
   "metadata": {},
   "outputs": [],
   "source": [
    "data_q2 = data[data['Question']=='Premature mortality among adults aged 45-64 years']"
   ]
  },
  {
   "cell_type": "code",
   "execution_count": 103,
   "metadata": {},
   "outputs": [
    {
     "data": {
      "text/plain": [
       "Question                        0\n",
       "DataValue                     280\n",
       "StratificationCategory1         0\n",
       "Stratification1                 0\n",
       "CO2_PER_POP                     0\n",
       "CH4_PER_POP                     0\n",
       "N2O_PER_POP                     0\n",
       "Unnamed: 0                      0\n",
       "Fluorinated GHG                 0\n",
       "Laws and Regulations            0\n",
       "State Incentives                0\n",
       "Utility/Private Incentives      0\n",
       "Ozone                           0\n",
       "dtype: int64"
      ]
     },
     "execution_count": 103,
     "metadata": {},
     "output_type": "execute_result"
    }
   ],
   "source": [
    "data_q2[data_q2['StratificationCategory1']=='Race/Ethnicity'].isnull().sum()"
   ]
  },
  {
   "cell_type": "code",
   "execution_count": 104,
   "metadata": {},
   "outputs": [
    {
     "data": {
      "text/plain": [
       "Question                      0\n",
       "DataValue                     0\n",
       "StratificationCategory1       0\n",
       "Stratification1               0\n",
       "CO2_PER_POP                   0\n",
       "CH4_PER_POP                   0\n",
       "N2O_PER_POP                   0\n",
       "Unnamed: 0                    0\n",
       "Fluorinated GHG               0\n",
       "Laws and Regulations          0\n",
       "State Incentives              0\n",
       "Utility/Private Incentives    0\n",
       "Ozone                         0\n",
       "dtype: int64"
      ]
     },
     "execution_count": 104,
     "metadata": {},
     "output_type": "execute_result"
    }
   ],
   "source": [
    "data_q2[data_q2['StratificationCategory1']=='Gender'].isnull().sum()"
   ]
  },
  {
   "cell_type": "code",
   "execution_count": 105,
   "metadata": {},
   "outputs": [
    {
     "name": "stderr",
     "output_type": "stream",
     "text": [
      "/opt/anaconda3/lib/python3.8/site-packages/pandas/core/frame.py:3990: SettingWithCopyWarning: \n",
      "A value is trying to be set on a copy of a slice from a DataFrame\n",
      "\n",
      "See the caveats in the documentation: https://pandas.pydata.org/pandas-docs/stable/user_guide/indexing.html#returning-a-view-versus-a-copy\n",
      "  return super().drop(\n"
     ]
    }
   ],
   "source": [
    "data_q2_1 = data_q2[data_q2['StratificationCategory1']=='Race/Ethnicity']\n",
    "data_q2_1.drop(['Question','StratificationCategory1'], axis=1, inplace=True)\n",
    "data_q2_1 = data_q2_1[~data_q2_1['DataValue'].isnull()]"
   ]
  },
  {
   "cell_type": "code",
   "execution_count": 106,
   "metadata": {},
   "outputs": [
    {
     "data": {
      "text/html": [
       "<div>\n",
       "<style scoped>\n",
       "    .dataframe tbody tr th:only-of-type {\n",
       "        vertical-align: middle;\n",
       "    }\n",
       "\n",
       "    .dataframe tbody tr th {\n",
       "        vertical-align: top;\n",
       "    }\n",
       "\n",
       "    .dataframe thead th {\n",
       "        text-align: right;\n",
       "    }\n",
       "</style>\n",
       "<table border=\"1\" class=\"dataframe\">\n",
       "  <thead>\n",
       "    <tr style=\"text-align: right;\">\n",
       "      <th></th>\n",
       "      <th>DataValue</th>\n",
       "      <th>Stratification1</th>\n",
       "      <th>CO2_PER_POP</th>\n",
       "      <th>CH4_PER_POP</th>\n",
       "      <th>N2O_PER_POP</th>\n",
       "      <th>Unnamed: 0</th>\n",
       "      <th>Fluorinated GHG</th>\n",
       "      <th>Laws and Regulations</th>\n",
       "      <th>State Incentives</th>\n",
       "      <th>Utility/Private Incentives</th>\n",
       "      <th>Ozone</th>\n",
       "    </tr>\n",
       "  </thead>\n",
       "  <tbody>\n",
       "    <tr>\n",
       "      <th>16</th>\n",
       "      <td>363.7</td>\n",
       "      <td>American Indian or Alaska Native</td>\n",
       "      <td>17.472089</td>\n",
       "      <td>0.145715</td>\n",
       "      <td>0.125172</td>\n",
       "      <td>16</td>\n",
       "      <td>264437</td>\n",
       "      <td>3</td>\n",
       "      <td>7</td>\n",
       "      <td>4</td>\n",
       "      <td>0.044215</td>\n",
       "    </tr>\n",
       "    <tr>\n",
       "      <th>23</th>\n",
       "      <td>832.5</td>\n",
       "      <td>White, non-Hispanic</td>\n",
       "      <td>17.472089</td>\n",
       "      <td>0.145715</td>\n",
       "      <td>0.125172</td>\n",
       "      <td>23</td>\n",
       "      <td>264437</td>\n",
       "      <td>3</td>\n",
       "      <td>7</td>\n",
       "      <td>4</td>\n",
       "      <td>0.044215</td>\n",
       "    </tr>\n",
       "    <tr>\n",
       "      <th>27</th>\n",
       "      <td>198.1</td>\n",
       "      <td>Asian or Pacific Islander</td>\n",
       "      <td>17.472089</td>\n",
       "      <td>0.145715</td>\n",
       "      <td>0.125172</td>\n",
       "      <td>27</td>\n",
       "      <td>264437</td>\n",
       "      <td>3</td>\n",
       "      <td>7</td>\n",
       "      <td>4</td>\n",
       "      <td>0.044215</td>\n",
       "    </tr>\n",
       "    <tr>\n",
       "      <th>33</th>\n",
       "      <td>254.2</td>\n",
       "      <td>Hispanic</td>\n",
       "      <td>17.472089</td>\n",
       "      <td>0.145715</td>\n",
       "      <td>0.125172</td>\n",
       "      <td>33</td>\n",
       "      <td>264437</td>\n",
       "      <td>3</td>\n",
       "      <td>7</td>\n",
       "      <td>4</td>\n",
       "      <td>0.044215</td>\n",
       "    </tr>\n",
       "    <tr>\n",
       "      <th>59</th>\n",
       "      <td>1051.7</td>\n",
       "      <td>Black, non-Hispanic</td>\n",
       "      <td>17.472089</td>\n",
       "      <td>0.145715</td>\n",
       "      <td>0.125172</td>\n",
       "      <td>59</td>\n",
       "      <td>264437</td>\n",
       "      <td>3</td>\n",
       "      <td>7</td>\n",
       "      <td>4</td>\n",
       "      <td>0.044215</td>\n",
       "    </tr>\n",
       "  </tbody>\n",
       "</table>\n",
       "</div>"
      ],
      "text/plain": [
       "    DataValue                   Stratification1  CO2_PER_POP  CH4_PER_POP  \\\n",
       "16      363.7  American Indian or Alaska Native    17.472089     0.145715   \n",
       "23      832.5               White, non-Hispanic    17.472089     0.145715   \n",
       "27      198.1         Asian or Pacific Islander    17.472089     0.145715   \n",
       "33      254.2                          Hispanic    17.472089     0.145715   \n",
       "59     1051.7               Black, non-Hispanic    17.472089     0.145715   \n",
       "\n",
       "    N2O_PER_POP  Unnamed: 0  Fluorinated GHG  Laws and Regulations  \\\n",
       "16     0.125172          16           264437                     3   \n",
       "23     0.125172          23           264437                     3   \n",
       "27     0.125172          27           264437                     3   \n",
       "33     0.125172          33           264437                     3   \n",
       "59     0.125172          59           264437                     3   \n",
       "\n",
       "    State Incentives  Utility/Private Incentives     Ozone  \n",
       "16                 7                           4  0.044215  \n",
       "23                 7                           4  0.044215  \n",
       "27                 7                           4  0.044215  \n",
       "33                 7                           4  0.044215  \n",
       "59                 7                           4  0.044215  "
      ]
     },
     "execution_count": 106,
     "metadata": {},
     "output_type": "execute_result"
    }
   ],
   "source": [
    "data_q2_1.head()"
   ]
  },
  {
   "cell_type": "code",
   "execution_count": 107,
   "metadata": {},
   "outputs": [
    {
     "name": "stderr",
     "output_type": "stream",
     "text": [
      "/opt/anaconda3/lib/python3.8/site-packages/pandas/core/frame.py:3990: SettingWithCopyWarning: \n",
      "A value is trying to be set on a copy of a slice from a DataFrame\n",
      "\n",
      "See the caveats in the documentation: https://pandas.pydata.org/pandas-docs/stable/user_guide/indexing.html#returning-a-view-versus-a-copy\n",
      "  return super().drop(\n"
     ]
    }
   ],
   "source": [
    "data_q2_2 = data_q2[data_q2['StratificationCategory1']=='Gender']\n",
    "data_q2_2.drop(['Question','StratificationCategory1'], axis=1, inplace=True)"
   ]
  },
  {
   "cell_type": "code",
   "execution_count": 108,
   "metadata": {},
   "outputs": [
    {
     "data": {
      "text/html": [
       "<div>\n",
       "<style scoped>\n",
       "    .dataframe tbody tr th:only-of-type {\n",
       "        vertical-align: middle;\n",
       "    }\n",
       "\n",
       "    .dataframe tbody tr th {\n",
       "        vertical-align: top;\n",
       "    }\n",
       "\n",
       "    .dataframe thead th {\n",
       "        text-align: right;\n",
       "    }\n",
       "</style>\n",
       "<table border=\"1\" class=\"dataframe\">\n",
       "  <thead>\n",
       "    <tr style=\"text-align: right;\">\n",
       "      <th></th>\n",
       "      <th>DataValue</th>\n",
       "      <th>Stratification1</th>\n",
       "      <th>CO2_PER_POP</th>\n",
       "      <th>CH4_PER_POP</th>\n",
       "      <th>N2O_PER_POP</th>\n",
       "      <th>Unnamed: 0</th>\n",
       "      <th>Fluorinated GHG</th>\n",
       "      <th>Laws and Regulations</th>\n",
       "      <th>State Incentives</th>\n",
       "      <th>Utility/Private Incentives</th>\n",
       "      <th>Ozone</th>\n",
       "    </tr>\n",
       "  </thead>\n",
       "  <tbody>\n",
       "    <tr>\n",
       "      <th>15</th>\n",
       "      <td>661.7</td>\n",
       "      <td>Female</td>\n",
       "      <td>17.472089</td>\n",
       "      <td>0.145715</td>\n",
       "      <td>0.125172</td>\n",
       "      <td>15</td>\n",
       "      <td>264437</td>\n",
       "      <td>3</td>\n",
       "      <td>7</td>\n",
       "      <td>4</td>\n",
       "      <td>0.044215</td>\n",
       "    </tr>\n",
       "    <tr>\n",
       "      <th>52</th>\n",
       "      <td>1085.7</td>\n",
       "      <td>Male</td>\n",
       "      <td>17.472089</td>\n",
       "      <td>0.145715</td>\n",
       "      <td>0.125172</td>\n",
       "      <td>52</td>\n",
       "      <td>264437</td>\n",
       "      <td>3</td>\n",
       "      <td>7</td>\n",
       "      <td>4</td>\n",
       "      <td>0.044215</td>\n",
       "    </tr>\n",
       "    <tr>\n",
       "      <th>128</th>\n",
       "      <td>672.2</td>\n",
       "      <td>Female</td>\n",
       "      <td>17.245662</td>\n",
       "      <td>0.123060</td>\n",
       "      <td>0.093460</td>\n",
       "      <td>128</td>\n",
       "      <td>274194</td>\n",
       "      <td>3</td>\n",
       "      <td>7</td>\n",
       "      <td>4</td>\n",
       "      <td>0.039733</td>\n",
       "    </tr>\n",
       "    <tr>\n",
       "      <th>134</th>\n",
       "      <td>1119.1</td>\n",
       "      <td>Male</td>\n",
       "      <td>17.245662</td>\n",
       "      <td>0.123060</td>\n",
       "      <td>0.093460</td>\n",
       "      <td>134</td>\n",
       "      <td>274194</td>\n",
       "      <td>3</td>\n",
       "      <td>7</td>\n",
       "      <td>4</td>\n",
       "      <td>0.039733</td>\n",
       "    </tr>\n",
       "    <tr>\n",
       "      <th>138</th>\n",
       "      <td>695.8</td>\n",
       "      <td>Female</td>\n",
       "      <td>17.523932</td>\n",
       "      <td>0.130945</td>\n",
       "      <td>0.108513</td>\n",
       "      <td>138</td>\n",
       "      <td>312201</td>\n",
       "      <td>3</td>\n",
       "      <td>7</td>\n",
       "      <td>4</td>\n",
       "      <td>0.040936</td>\n",
       "    </tr>\n",
       "  </tbody>\n",
       "</table>\n",
       "</div>"
      ],
      "text/plain": [
       "     DataValue Stratification1  CO2_PER_POP  CH4_PER_POP  N2O_PER_POP  \\\n",
       "15       661.7          Female    17.472089     0.145715     0.125172   \n",
       "52      1085.7            Male    17.472089     0.145715     0.125172   \n",
       "128      672.2          Female    17.245662     0.123060     0.093460   \n",
       "134     1119.1            Male    17.245662     0.123060     0.093460   \n",
       "138      695.8          Female    17.523932     0.130945     0.108513   \n",
       "\n",
       "     Unnamed: 0  Fluorinated GHG  Laws and Regulations  State Incentives  \\\n",
       "15           15           264437                     3                 7   \n",
       "52           52           264437                     3                 7   \n",
       "128         128           274194                     3                 7   \n",
       "134         134           274194                     3                 7   \n",
       "138         138           312201                     3                 7   \n",
       "\n",
       "     Utility/Private Incentives     Ozone  \n",
       "15                            4  0.044215  \n",
       "52                            4  0.044215  \n",
       "128                           4  0.039733  \n",
       "134                           4  0.039733  \n",
       "138                           4  0.040936  "
      ]
     },
     "execution_count": 108,
     "metadata": {},
     "output_type": "execute_result"
    }
   ],
   "source": [
    "data_q2_2.head()"
   ]
  },
  {
   "cell_type": "markdown",
   "metadata": {},
   "source": [
    "#### Label_encoding"
   ]
  },
  {
   "cell_type": "code",
   "execution_count": 109,
   "metadata": {},
   "outputs": [],
   "source": [
    "data_q2_1.rename(columns={'Stratification1':'Race'}, inplace=True)\n",
    "data_q2_1 = pd.get_dummies(data_q2_1, columns = ['Race'], drop_first = True)"
   ]
  },
  {
   "cell_type": "code",
   "execution_count": 110,
   "metadata": {},
   "outputs": [
    {
     "data": {
      "text/html": [
       "<div>\n",
       "<style scoped>\n",
       "    .dataframe tbody tr th:only-of-type {\n",
       "        vertical-align: middle;\n",
       "    }\n",
       "\n",
       "    .dataframe tbody tr th {\n",
       "        vertical-align: top;\n",
       "    }\n",
       "\n",
       "    .dataframe thead th {\n",
       "        text-align: right;\n",
       "    }\n",
       "</style>\n",
       "<table border=\"1\" class=\"dataframe\">\n",
       "  <thead>\n",
       "    <tr style=\"text-align: right;\">\n",
       "      <th></th>\n",
       "      <th>DataValue</th>\n",
       "      <th>CO2_PER_POP</th>\n",
       "      <th>CH4_PER_POP</th>\n",
       "      <th>N2O_PER_POP</th>\n",
       "      <th>Unnamed: 0</th>\n",
       "      <th>Fluorinated GHG</th>\n",
       "      <th>Laws and Regulations</th>\n",
       "      <th>State Incentives</th>\n",
       "      <th>Utility/Private Incentives</th>\n",
       "      <th>Ozone</th>\n",
       "      <th>Race_Asian or Pacific Islander</th>\n",
       "      <th>Race_Black, non-Hispanic</th>\n",
       "      <th>Race_Hispanic</th>\n",
       "      <th>Race_White, non-Hispanic</th>\n",
       "    </tr>\n",
       "  </thead>\n",
       "  <tbody>\n",
       "    <tr>\n",
       "      <th>16</th>\n",
       "      <td>363.7</td>\n",
       "      <td>17.472089</td>\n",
       "      <td>0.145715</td>\n",
       "      <td>0.125172</td>\n",
       "      <td>16</td>\n",
       "      <td>264437</td>\n",
       "      <td>3</td>\n",
       "      <td>7</td>\n",
       "      <td>4</td>\n",
       "      <td>0.044215</td>\n",
       "      <td>0</td>\n",
       "      <td>0</td>\n",
       "      <td>0</td>\n",
       "      <td>0</td>\n",
       "    </tr>\n",
       "    <tr>\n",
       "      <th>23</th>\n",
       "      <td>832.5</td>\n",
       "      <td>17.472089</td>\n",
       "      <td>0.145715</td>\n",
       "      <td>0.125172</td>\n",
       "      <td>23</td>\n",
       "      <td>264437</td>\n",
       "      <td>3</td>\n",
       "      <td>7</td>\n",
       "      <td>4</td>\n",
       "      <td>0.044215</td>\n",
       "      <td>0</td>\n",
       "      <td>0</td>\n",
       "      <td>0</td>\n",
       "      <td>1</td>\n",
       "    </tr>\n",
       "    <tr>\n",
       "      <th>27</th>\n",
       "      <td>198.1</td>\n",
       "      <td>17.472089</td>\n",
       "      <td>0.145715</td>\n",
       "      <td>0.125172</td>\n",
       "      <td>27</td>\n",
       "      <td>264437</td>\n",
       "      <td>3</td>\n",
       "      <td>7</td>\n",
       "      <td>4</td>\n",
       "      <td>0.044215</td>\n",
       "      <td>1</td>\n",
       "      <td>0</td>\n",
       "      <td>0</td>\n",
       "      <td>0</td>\n",
       "    </tr>\n",
       "    <tr>\n",
       "      <th>33</th>\n",
       "      <td>254.2</td>\n",
       "      <td>17.472089</td>\n",
       "      <td>0.145715</td>\n",
       "      <td>0.125172</td>\n",
       "      <td>33</td>\n",
       "      <td>264437</td>\n",
       "      <td>3</td>\n",
       "      <td>7</td>\n",
       "      <td>4</td>\n",
       "      <td>0.044215</td>\n",
       "      <td>0</td>\n",
       "      <td>0</td>\n",
       "      <td>1</td>\n",
       "      <td>0</td>\n",
       "    </tr>\n",
       "    <tr>\n",
       "      <th>59</th>\n",
       "      <td>1051.7</td>\n",
       "      <td>17.472089</td>\n",
       "      <td>0.145715</td>\n",
       "      <td>0.125172</td>\n",
       "      <td>59</td>\n",
       "      <td>264437</td>\n",
       "      <td>3</td>\n",
       "      <td>7</td>\n",
       "      <td>4</td>\n",
       "      <td>0.044215</td>\n",
       "      <td>0</td>\n",
       "      <td>1</td>\n",
       "      <td>0</td>\n",
       "      <td>0</td>\n",
       "    </tr>\n",
       "  </tbody>\n",
       "</table>\n",
       "</div>"
      ],
      "text/plain": [
       "    DataValue  CO2_PER_POP  CH4_PER_POP  N2O_PER_POP  Unnamed: 0  \\\n",
       "16      363.7    17.472089     0.145715     0.125172          16   \n",
       "23      832.5    17.472089     0.145715     0.125172          23   \n",
       "27      198.1    17.472089     0.145715     0.125172          27   \n",
       "33      254.2    17.472089     0.145715     0.125172          33   \n",
       "59     1051.7    17.472089     0.145715     0.125172          59   \n",
       "\n",
       "    Fluorinated GHG  Laws and Regulations  State Incentives  \\\n",
       "16           264437                     3                 7   \n",
       "23           264437                     3                 7   \n",
       "27           264437                     3                 7   \n",
       "33           264437                     3                 7   \n",
       "59           264437                     3                 7   \n",
       "\n",
       "    Utility/Private Incentives     Ozone  Race_Asian or Pacific Islander  \\\n",
       "16                           4  0.044215                               0   \n",
       "23                           4  0.044215                               0   \n",
       "27                           4  0.044215                               1   \n",
       "33                           4  0.044215                               0   \n",
       "59                           4  0.044215                               0   \n",
       "\n",
       "    Race_Black, non-Hispanic  Race_Hispanic  Race_White, non-Hispanic  \n",
       "16                         0              0                         0  \n",
       "23                         0              0                         1  \n",
       "27                         0              0                         0  \n",
       "33                         0              1                         0  \n",
       "59                         1              0                         0  "
      ]
     },
     "execution_count": 110,
     "metadata": {},
     "output_type": "execute_result"
    }
   ],
   "source": [
    "data_q2_1.head()"
   ]
  },
  {
   "cell_type": "code",
   "execution_count": 111,
   "metadata": {},
   "outputs": [
    {
     "name": "stderr",
     "output_type": "stream",
     "text": [
      "<ipython-input-111-bf8dedff69de>:3: SettingWithCopyWarning: \n",
      "A value is trying to be set on a copy of a slice from a DataFrame.\n",
      "Try using .loc[row_indexer,col_indexer] = value instead\n",
      "\n",
      "See the caveats in the documentation: https://pandas.pydata.org/pandas-docs/stable/user_guide/indexing.html#returning-a-view-versus-a-copy\n",
      "  data_q2_2['Stratification1'] = label_encoder.fit_transform(data_q2_2['Stratification1'])\n",
      "/opt/anaconda3/lib/python3.8/site-packages/pandas/core/frame.py:4125: SettingWithCopyWarning: \n",
      "A value is trying to be set on a copy of a slice from a DataFrame\n",
      "\n",
      "See the caveats in the documentation: https://pandas.pydata.org/pandas-docs/stable/user_guide/indexing.html#returning-a-view-versus-a-copy\n",
      "  return super().rename(\n"
     ]
    }
   ],
   "source": [
    "from sklearn import preprocessing\n",
    "label_encoder = preprocessing.LabelEncoder()\n",
    "data_q2_2['Stratification1'] = label_encoder.fit_transform(data_q2_2['Stratification1'])\n",
    "data_q2_2.rename(columns={'Stratification1':'Male'}, inplace=True)"
   ]
  },
  {
   "cell_type": "code",
   "execution_count": 112,
   "metadata": {},
   "outputs": [
    {
     "data": {
      "text/html": [
       "<div>\n",
       "<style scoped>\n",
       "    .dataframe tbody tr th:only-of-type {\n",
       "        vertical-align: middle;\n",
       "    }\n",
       "\n",
       "    .dataframe tbody tr th {\n",
       "        vertical-align: top;\n",
       "    }\n",
       "\n",
       "    .dataframe thead th {\n",
       "        text-align: right;\n",
       "    }\n",
       "</style>\n",
       "<table border=\"1\" class=\"dataframe\">\n",
       "  <thead>\n",
       "    <tr style=\"text-align: right;\">\n",
       "      <th></th>\n",
       "      <th>DataValue</th>\n",
       "      <th>Male</th>\n",
       "      <th>CO2_PER_POP</th>\n",
       "      <th>CH4_PER_POP</th>\n",
       "      <th>N2O_PER_POP</th>\n",
       "      <th>Unnamed: 0</th>\n",
       "      <th>Fluorinated GHG</th>\n",
       "      <th>Laws and Regulations</th>\n",
       "      <th>State Incentives</th>\n",
       "      <th>Utility/Private Incentives</th>\n",
       "      <th>Ozone</th>\n",
       "    </tr>\n",
       "  </thead>\n",
       "  <tbody>\n",
       "    <tr>\n",
       "      <th>15</th>\n",
       "      <td>661.7</td>\n",
       "      <td>0</td>\n",
       "      <td>17.472089</td>\n",
       "      <td>0.145715</td>\n",
       "      <td>0.125172</td>\n",
       "      <td>15</td>\n",
       "      <td>264437</td>\n",
       "      <td>3</td>\n",
       "      <td>7</td>\n",
       "      <td>4</td>\n",
       "      <td>0.044215</td>\n",
       "    </tr>\n",
       "    <tr>\n",
       "      <th>52</th>\n",
       "      <td>1085.7</td>\n",
       "      <td>1</td>\n",
       "      <td>17.472089</td>\n",
       "      <td>0.145715</td>\n",
       "      <td>0.125172</td>\n",
       "      <td>52</td>\n",
       "      <td>264437</td>\n",
       "      <td>3</td>\n",
       "      <td>7</td>\n",
       "      <td>4</td>\n",
       "      <td>0.044215</td>\n",
       "    </tr>\n",
       "    <tr>\n",
       "      <th>128</th>\n",
       "      <td>672.2</td>\n",
       "      <td>0</td>\n",
       "      <td>17.245662</td>\n",
       "      <td>0.123060</td>\n",
       "      <td>0.093460</td>\n",
       "      <td>128</td>\n",
       "      <td>274194</td>\n",
       "      <td>3</td>\n",
       "      <td>7</td>\n",
       "      <td>4</td>\n",
       "      <td>0.039733</td>\n",
       "    </tr>\n",
       "    <tr>\n",
       "      <th>134</th>\n",
       "      <td>1119.1</td>\n",
       "      <td>1</td>\n",
       "      <td>17.245662</td>\n",
       "      <td>0.123060</td>\n",
       "      <td>0.093460</td>\n",
       "      <td>134</td>\n",
       "      <td>274194</td>\n",
       "      <td>3</td>\n",
       "      <td>7</td>\n",
       "      <td>4</td>\n",
       "      <td>0.039733</td>\n",
       "    </tr>\n",
       "    <tr>\n",
       "      <th>138</th>\n",
       "      <td>695.8</td>\n",
       "      <td>0</td>\n",
       "      <td>17.523932</td>\n",
       "      <td>0.130945</td>\n",
       "      <td>0.108513</td>\n",
       "      <td>138</td>\n",
       "      <td>312201</td>\n",
       "      <td>3</td>\n",
       "      <td>7</td>\n",
       "      <td>4</td>\n",
       "      <td>0.040936</td>\n",
       "    </tr>\n",
       "  </tbody>\n",
       "</table>\n",
       "</div>"
      ],
      "text/plain": [
       "     DataValue  Male  CO2_PER_POP  CH4_PER_POP  N2O_PER_POP  Unnamed: 0  \\\n",
       "15       661.7     0    17.472089     0.145715     0.125172          15   \n",
       "52      1085.7     1    17.472089     0.145715     0.125172          52   \n",
       "128      672.2     0    17.245662     0.123060     0.093460         128   \n",
       "134     1119.1     1    17.245662     0.123060     0.093460         134   \n",
       "138      695.8     0    17.523932     0.130945     0.108513         138   \n",
       "\n",
       "     Fluorinated GHG  Laws and Regulations  State Incentives  \\\n",
       "15            264437                     3                 7   \n",
       "52            264437                     3                 7   \n",
       "128           274194                     3                 7   \n",
       "134           274194                     3                 7   \n",
       "138           312201                     3                 7   \n",
       "\n",
       "     Utility/Private Incentives     Ozone  \n",
       "15                            4  0.044215  \n",
       "52                            4  0.044215  \n",
       "128                           4  0.039733  \n",
       "134                           4  0.039733  \n",
       "138                           4  0.040936  "
      ]
     },
     "execution_count": 112,
     "metadata": {},
     "output_type": "execute_result"
    }
   ],
   "source": [
    "data_q2_2.head()"
   ]
  },
  {
   "cell_type": "markdown",
   "metadata": {},
   "source": [
    "### Regression"
   ]
  },
  {
   "cell_type": "markdown",
   "metadata": {},
   "source": [
    "### Race"
   ]
  },
  {
   "cell_type": "code",
   "execution_count": 113,
   "metadata": {},
   "outputs": [],
   "source": [
    "X = data_q2_1.values[:,1:].copy()\n",
    "y = data_q2_1.DataValue.values"
   ]
  },
  {
   "cell_type": "markdown",
   "metadata": {},
   "source": [
    "#### Linear regression"
   ]
  },
  {
   "cell_type": "code",
   "execution_count": 114,
   "metadata": {},
   "outputs": [
    {
     "name": "stdout",
     "output_type": "stream",
     "text": [
      "---- linear regression ----\n",
      "0.6299407795972681\n",
      "0.6208231857205377\n"
     ]
    }
   ],
   "source": [
    "from sklearn.linear_model import LinearRegression\n",
    "from sklearn.model_selection import GridSearchCV\n",
    "from sklearn.ensemble import RandomForestRegressor\n",
    "from sklearn.model_selection import ShuffleSplit\n",
    "from sklearn.model_selection import cross_validate\n",
    "\n",
    "nmc = 100\n",
    "\n",
    "#Linear Regression\n",
    "linreg = LinearRegression()\n",
    "cvf = ShuffleSplit(n_splits=nmc, test_size=0.2, random_state=25)\n",
    "CVInfo = cross_validate(linreg, X, y, cv=cvf,return_train_score=True)\n",
    "print('---- linear regression ----')\n",
    "print(np.mean(CVInfo['train_score']))\n",
    "print(np.mean(CVInfo['test_score']))"
   ]
  },
  {
   "cell_type": "markdown",
   "metadata": {},
   "source": [
    "#### Random Forest Regression"
   ]
  },
  {
   "cell_type": "code",
   "execution_count": 115,
   "metadata": {},
   "outputs": [
    {
     "name": "stdout",
     "output_type": "stream",
     "text": [
      "---- random forest ----\n",
      "   rank_test_score  mean_test_score param_max_features param_max_depth\n",
      "0                1         0.905246                  5              20\n",
      "---- optimal parameters ----\n",
      "{'max_depth': 20, 'max_features': 5, 'n_estimators': 50}\n",
      "---- best accuracy ----\n",
      "0.9052459731466778\n"
     ]
    }
   ],
   "source": [
    "#Random Forest\n",
    "\n",
    "from sklearn.model_selection import GridSearchCV\n",
    "from sklearn.ensemble import RandomForestRegressor\n",
    "\n",
    "#  Note:  no need for scaling, back to simple parameters\n",
    "# set up dictionary for grid search\n",
    "param_grid={'max_features':[5],'max_depth':[20],'n_estimators':[50]}\n",
    "# set up cross-validation shuffles\n",
    "cvf = ShuffleSplit(n_splits=nmc, test_size=0.2, random_state=25)\n",
    "# set up search\n",
    "grid_search=GridSearchCV(RandomForestRegressor(random_state=25),param_grid,cv=cvf,return_train_score=True)\n",
    "# implement search\n",
    "grid_search.fit(X,y)\n",
    "# move results into DataFrame\n",
    "results = pd.DataFrame(grid_search.cv_results_)\n",
    "\n",
    "print('---- random forest ----')\n",
    "print(results[['rank_test_score','mean_test_score','param_max_features','param_max_depth']])\n",
    "print('---- optimal parameters ----')\n",
    "print(grid_search.best_params_)\n",
    "print('---- best accuracy ----')\n",
    "print(grid_search.best_score_)"
   ]
  },
  {
   "cell_type": "markdown",
   "metadata": {},
   "source": [
    "#### Gradient Boosting Regression"
   ]
  },
  {
   "cell_type": "code",
   "execution_count": 116,
   "metadata": {},
   "outputs": [
    {
     "name": "stdout",
     "output_type": "stream",
     "text": [
      "Accuracy on training set: 0.842\n",
      "Accuracy on test set: 0.800\n"
     ]
    }
   ],
   "source": [
    "from sklearn import ensemble\n",
    "from sklearn.model_selection import train_test_split\n",
    "\n",
    "\n",
    "X_train, X_test, y_train, y_test = train_test_split(X, y, test_size = 0.2, random_state=0)\n",
    "\n",
    "params = {'n_estimators': 500, 'max_depth': 4, 'min_samples_split': 2,\n",
    "          'learning_rate': 0.01, 'loss': 'ls'}\n",
    "\n",
    "model = ensemble.GradientBoostingRegressor(**params)\n",
    "model.fit(X_train, y_train)\n",
    "\n",
    "print(\"Accuracy on training set: {:.3f}\".format(model.score(X_train, y_train)))\n",
    "print(\"Accuracy on test set: {:.3f}\".format(model.score(X_test, y_test)))"
   ]
  },
  {
   "cell_type": "code",
   "execution_count": 117,
   "metadata": {},
   "outputs": [
    {
     "data": {
      "image/png": "[encoded data removed]",
      "text/plain": [
       "<Figure size 864x432 with 1 Axes>"
      ]
     },
     "metadata": {
      "needs_background": "light"
     },
     "output_type": "display_data"
    }
   ],
   "source": [
    "feature_importance = model.feature_importances_\n",
    "sorted_idx = np.argsort(feature_importance)\n",
    "pos = np.arange(sorted_idx.shape[0]) + .5\n",
    "fig = plt.figure(figsize=(12, 6))\n",
    "plt.subplot(1, 2, 1)\n",
    "plt.barh(pos, feature_importance[sorted_idx], align='center')\n",
    "plt.yticks(pos, np.array(data_q2_1.iloc[:,1:].columns)[sorted_idx])\n",
    "#plt.title('Feature Importance (MDI)')\n",
    "plt.show()"
   ]
  },
  {
   "cell_type": "markdown",
   "metadata": {},
   "source": [
    "### Gender"
   ]
  },
  {
   "cell_type": "code",
   "execution_count": 118,
   "metadata": {},
   "outputs": [],
   "source": [
    "X = data_q2_2.values[:,1:].copy()\n",
    "y = data_q2_2.DataValue.values"
   ]
  },
  {
   "cell_type": "markdown",
   "metadata": {},
   "source": [
    "#### Linear Regression"
   ]
  },
  {
   "cell_type": "code",
   "execution_count": 119,
   "metadata": {},
   "outputs": [
    {
     "name": "stdout",
     "output_type": "stream",
     "text": [
      "---- linear regression ----\n",
      "0.7327081397197985\n",
      "0.7201486058369677\n"
     ]
    }
   ],
   "source": [
    "from sklearn.linear_model import LinearRegression\n",
    "from sklearn.model_selection import GridSearchCV\n",
    "from sklearn.ensemble import RandomForestRegressor\n",
    "from sklearn.model_selection import ShuffleSplit\n",
    "from sklearn.model_selection import cross_validate\n",
    "\n",
    "nmc = 100\n",
    "\n",
    "#Linear Regression\n",
    "linreg = LinearRegression()\n",
    "cvf = ShuffleSplit(n_splits=nmc, test_size=0.2, random_state=25)\n",
    "CVInfo = cross_validate(linreg, X, y, cv=cvf,return_train_score=True)\n",
    "print('---- linear regression ----')\n",
    "print(np.mean(CVInfo['train_score']))\n",
    "print(np.mean(CVInfo['test_score']))"
   ]
  },
  {
   "cell_type": "markdown",
   "metadata": {},
   "source": [
    "#### Random forest regression"
   ]
  },
  {
   "cell_type": "code",
   "execution_count": 120,
   "metadata": {},
   "outputs": [
    {
     "name": "stdout",
     "output_type": "stream",
     "text": [
      "---- random forest ----\n",
      "   rank_test_score  mean_test_score param_max_features param_max_depth\n",
      "0                1         0.953621                  5              25\n",
      "---- optimal parameters ----\n",
      "{'max_depth': 25, 'max_features': 5, 'n_estimators': 50}\n",
      "---- best accuracy ----\n",
      "0.9536213947679565\n"
     ]
    }
   ],
   "source": [
    "#Random Forest\n",
    "\n",
    "from sklearn.model_selection import GridSearchCV\n",
    "from sklearn.ensemble import RandomForestRegressor\n",
    "\n",
    "#  Note:  no need for scaling, back to simple parameters\n",
    "# set up dictionary for grid search\n",
    "param_grid={'max_features':[5],'max_depth':[25],'n_estimators':[50]}\n",
    "# set up cross-validation shuffles\n",
    "cvf = ShuffleSplit(n_splits=nmc, test_size=0.2, random_state=25)\n",
    "# set up search\n",
    "grid_search=GridSearchCV(RandomForestRegressor(random_state=25),param_grid,cv=cvf,return_train_score=True)\n",
    "# implement search\n",
    "grid_search.fit(X,y)\n",
    "# move results into DataFrame\n",
    "results = pd.DataFrame(grid_search.cv_results_)\n",
    "\n",
    "print('---- random forest ----')\n",
    "print(results[['rank_test_score','mean_test_score','param_max_features','param_max_depth']])\n",
    "print('---- optimal parameters ----')\n",
    "print(grid_search.best_params_)\n",
    "print('---- best accuracy ----')\n",
    "print(grid_search.best_score_)"
   ]
  },
  {
   "cell_type": "markdown",
   "metadata": {},
   "source": [
    "#### Gradient Boosting Regression"
   ]
  },
  {
   "cell_type": "code",
   "execution_count": 122,
   "metadata": {},
   "outputs": [
    {
     "name": "stdout",
     "output_type": "stream",
     "text": [
      "Accuracy on training set: 0.974\n",
      "Accuracy on test set: 0.926\n"
     ]
    }
   ],
   "source": [
    "from sklearn import ensemble\n",
    "from sklearn.model_selection import train_test_split\n",
    "\n",
    "\n",
    "X_train, X_test, y_train, y_test = train_test_split(X, y, test_size = 0.2, random_state=0)\n",
    "\n",
    "params = {'n_estimators': 500, 'max_depth': 4, 'min_samples_split': 2,\n",
    "          'learning_rate': 0.01, 'loss': 'ls'}\n",
    "\n",
    "model = ensemble.GradientBoostingRegressor(**params)\n",
    "model.fit(X_train, y_train)\n",
    "\n",
    "print(\"Accuracy on training set: {:.3f}\".format(model.score(X_train, y_train)))\n",
    "print(\"Accuracy on test set: {:.3f}\".format(model.score(X_test, y_test)))"
   ]
  },
  {
   "cell_type": "code",
   "execution_count": 123,
   "metadata": {},
   "outputs": [
    {
     "data": {
      "image/png": "[encoded data removed]",
      "text/plain": [
       "<Figure size 864x432 with 1 Axes>"
      ]
     },
     "metadata": {
      "needs_background": "light"
     },
     "output_type": "display_data"
    }
   ],
   "source": [
    "feature_importance = model.feature_importances_\n",
    "sorted_idx = np.argsort(feature_importance)\n",
    "pos = np.arange(sorted_idx.shape[0]) + .5\n",
    "fig = plt.figure(figsize=(12, 6))\n",
    "plt.subplot(1, 2, 1)\n",
    "plt.barh(pos, feature_importance[sorted_idx], align='center')\n",
    "plt.yticks(pos, np.array(data_q2_2.iloc[:,1:].columns)[sorted_idx])\n",
    "#plt.title('Feature Importance (MDI)')\n",
    "plt.show()"
   ]
  },
  {
   "cell_type": "markdown",
   "metadata": {},
   "source": [
    "### 3.Mortality with chronic obstructive pulmonary disease as underlying or contributing cause among adults aged >= 45 years"
   ]
  },
  {
   "cell_type": "code",
   "execution_count": 124,
   "metadata": {},
   "outputs": [],
   "source": [
    "data_q3 = data[data['Question']=='Mortality with chronic obstructive pulmonary disease as underlying or contributing cause among adults aged >= 45 years']"
   ]
  },
  {
   "cell_type": "code",
   "execution_count": 125,
   "metadata": {},
   "outputs": [
    {
     "data": {
      "text/plain": [
       "Question                        0\n",
       "DataValue                     607\n",
       "StratificationCategory1         0\n",
       "Stratification1                 0\n",
       "CO2_PER_POP                     0\n",
       "CH4_PER_POP                     0\n",
       "N2O_PER_POP                     0\n",
       "Unnamed: 0                      0\n",
       "Fluorinated GHG                 0\n",
       "Laws and Regulations            0\n",
       "State Incentives                0\n",
       "Utility/Private Incentives      0\n",
       "Ozone                           0\n",
       "dtype: int64"
      ]
     },
     "execution_count": 125,
     "metadata": {},
     "output_type": "execute_result"
    }
   ],
   "source": [
    "data_q3[data_q3['StratificationCategory1']=='Race/Ethnicity'].isnull().sum()"
   ]
  },
  {
   "cell_type": "code",
   "execution_count": 126,
   "metadata": {},
   "outputs": [
    {
     "data": {
      "text/plain": [
       "Question                      0\n",
       "DataValue                     0\n",
       "StratificationCategory1       0\n",
       "Stratification1               0\n",
       "CO2_PER_POP                   0\n",
       "CH4_PER_POP                   0\n",
       "N2O_PER_POP                   0\n",
       "Unnamed: 0                    0\n",
       "Fluorinated GHG               0\n",
       "Laws and Regulations          0\n",
       "State Incentives              0\n",
       "Utility/Private Incentives    0\n",
       "Ozone                         0\n",
       "dtype: int64"
      ]
     },
     "execution_count": 126,
     "metadata": {},
     "output_type": "execute_result"
    }
   ],
   "source": [
    "data_q3[data_q3['StratificationCategory1']=='Gender'].isnull().sum()"
   ]
  },
  {
   "cell_type": "code",
   "execution_count": 127,
   "metadata": {},
   "outputs": [
    {
     "name": "stderr",
     "output_type": "stream",
     "text": [
      "/opt/anaconda3/lib/python3.8/site-packages/pandas/core/frame.py:3990: SettingWithCopyWarning: \n",
      "A value is trying to be set on a copy of a slice from a DataFrame\n",
      "\n",
      "See the caveats in the documentation: https://pandas.pydata.org/pandas-docs/stable/user_guide/indexing.html#returning-a-view-versus-a-copy\n",
      "  return super().drop(\n"
     ]
    }
   ],
   "source": [
    "data_q3_1 = data_q3[data_q3['StratificationCategory1']=='Race/Ethnicity']\n",
    "data_q3_1.drop(['Question','StratificationCategory1'], axis=1, inplace=True)\n",
    "data_q3_1 = data_q3_1[~data_q3_1['DataValue'].isnull()]"
   ]
  },
  {
   "cell_type": "code",
   "execution_count": 128,
   "metadata": {},
   "outputs": [
    {
     "data": {
      "text/html": [
       "<div>\n",
       "<style scoped>\n",
       "    .dataframe tbody tr th:only-of-type {\n",
       "        vertical-align: middle;\n",
       "    }\n",
       "\n",
       "    .dataframe tbody tr th {\n",
       "        vertical-align: top;\n",
       "    }\n",
       "\n",
       "    .dataframe thead th {\n",
       "        text-align: right;\n",
       "    }\n",
       "</style>\n",
       "<table border=\"1\" class=\"dataframe\">\n",
       "  <thead>\n",
       "    <tr style=\"text-align: right;\">\n",
       "      <th></th>\n",
       "      <th>DataValue</th>\n",
       "      <th>Stratification1</th>\n",
       "      <th>CO2_PER_POP</th>\n",
       "      <th>CH4_PER_POP</th>\n",
       "      <th>N2O_PER_POP</th>\n",
       "      <th>Unnamed: 0</th>\n",
       "      <th>Fluorinated GHG</th>\n",
       "      <th>Laws and Regulations</th>\n",
       "      <th>State Incentives</th>\n",
       "      <th>Utility/Private Incentives</th>\n",
       "      <th>Ozone</th>\n",
       "    </tr>\n",
       "  </thead>\n",
       "  <tbody>\n",
       "    <tr>\n",
       "      <th>49</th>\n",
       "      <td>292.3</td>\n",
       "      <td>White, non-Hispanic</td>\n",
       "      <td>17.472089</td>\n",
       "      <td>0.145715</td>\n",
       "      <td>0.125172</td>\n",
       "      <td>49</td>\n",
       "      <td>264437</td>\n",
       "      <td>3</td>\n",
       "      <td>7</td>\n",
       "      <td>4</td>\n",
       "      <td>0.044215</td>\n",
       "    </tr>\n",
       "    <tr>\n",
       "      <th>58</th>\n",
       "      <td>114.9</td>\n",
       "      <td>Black, non-Hispanic</td>\n",
       "      <td>17.472089</td>\n",
       "      <td>0.145715</td>\n",
       "      <td>0.125172</td>\n",
       "      <td>58</td>\n",
       "      <td>264437</td>\n",
       "      <td>3</td>\n",
       "      <td>7</td>\n",
       "      <td>4</td>\n",
       "      <td>0.044215</td>\n",
       "    </tr>\n",
       "    <tr>\n",
       "      <th>84</th>\n",
       "      <td>128.0</td>\n",
       "      <td>Black, non-Hispanic</td>\n",
       "      <td>17.245662</td>\n",
       "      <td>0.123060</td>\n",
       "      <td>0.093460</td>\n",
       "      <td>84</td>\n",
       "      <td>274194</td>\n",
       "      <td>3</td>\n",
       "      <td>7</td>\n",
       "      <td>4</td>\n",
       "      <td>0.039733</td>\n",
       "    </tr>\n",
       "    <tr>\n",
       "      <th>89</th>\n",
       "      <td>301.6</td>\n",
       "      <td>White, non-Hispanic</td>\n",
       "      <td>17.245662</td>\n",
       "      <td>0.123060</td>\n",
       "      <td>0.093460</td>\n",
       "      <td>89</td>\n",
       "      <td>274194</td>\n",
       "      <td>3</td>\n",
       "      <td>7</td>\n",
       "      <td>4</td>\n",
       "      <td>0.039733</td>\n",
       "    </tr>\n",
       "    <tr>\n",
       "      <th>146</th>\n",
       "      <td>282.6</td>\n",
       "      <td>White, non-Hispanic</td>\n",
       "      <td>17.523932</td>\n",
       "      <td>0.130945</td>\n",
       "      <td>0.108513</td>\n",
       "      <td>146</td>\n",
       "      <td>312201</td>\n",
       "      <td>3</td>\n",
       "      <td>7</td>\n",
       "      <td>4</td>\n",
       "      <td>0.040936</td>\n",
       "    </tr>\n",
       "  </tbody>\n",
       "</table>\n",
       "</div>"
      ],
      "text/plain": [
       "     DataValue      Stratification1  CO2_PER_POP  CH4_PER_POP  N2O_PER_POP  \\\n",
       "49       292.3  White, non-Hispanic    17.472089     0.145715     0.125172   \n",
       "58       114.9  Black, non-Hispanic    17.472089     0.145715     0.125172   \n",
       "84       128.0  Black, non-Hispanic    17.245662     0.123060     0.093460   \n",
       "89       301.6  White, non-Hispanic    17.245662     0.123060     0.093460   \n",
       "146      282.6  White, non-Hispanic    17.523932     0.130945     0.108513   \n",
       "\n",
       "     Unnamed: 0  Fluorinated GHG  Laws and Regulations  State Incentives  \\\n",
       "49           49           264437                     3                 7   \n",
       "58           58           264437                     3                 7   \n",
       "84           84           274194                     3                 7   \n",
       "89           89           274194                     3                 7   \n",
       "146         146           312201                     3                 7   \n",
       "\n",
       "     Utility/Private Incentives     Ozone  \n",
       "49                            4  0.044215  \n",
       "58                            4  0.044215  \n",
       "84                            4  0.039733  \n",
       "89                            4  0.039733  \n",
       "146                           4  0.040936  "
      ]
     },
     "execution_count": 128,
     "metadata": {},
     "output_type": "execute_result"
    }
   ],
   "source": [
    "data_q3_1.head()"
   ]
  },
  {
   "cell_type": "code",
   "execution_count": 129,
   "metadata": {},
   "outputs": [
    {
     "name": "stderr",
     "output_type": "stream",
     "text": [
      "/opt/anaconda3/lib/python3.8/site-packages/pandas/core/frame.py:3990: SettingWithCopyWarning: \n",
      "A value is trying to be set on a copy of a slice from a DataFrame\n",
      "\n",
      "See the caveats in the documentation: https://pandas.pydata.org/pandas-docs/stable/user_guide/indexing.html#returning-a-view-versus-a-copy\n",
      "  return super().drop(\n"
     ]
    }
   ],
   "source": [
    "data_q3_2 = data_q3[data_q3['StratificationCategory1']=='Gender']\n",
    "data_q3_2.drop(['Question','StratificationCategory1'], axis=1, inplace=True)"
   ]
  },
  {
   "cell_type": "code",
   "execution_count": 130,
   "metadata": {},
   "outputs": [
    {
     "data": {
      "text/html": [
       "<div>\n",
       "<style scoped>\n",
       "    .dataframe tbody tr th:only-of-type {\n",
       "        vertical-align: middle;\n",
       "    }\n",
       "\n",
       "    .dataframe tbody tr th {\n",
       "        vertical-align: top;\n",
       "    }\n",
       "\n",
       "    .dataframe thead th {\n",
       "        text-align: right;\n",
       "    }\n",
       "</style>\n",
       "<table border=\"1\" class=\"dataframe\">\n",
       "  <thead>\n",
       "    <tr style=\"text-align: right;\">\n",
       "      <th></th>\n",
       "      <th>DataValue</th>\n",
       "      <th>Stratification1</th>\n",
       "      <th>CO2_PER_POP</th>\n",
       "      <th>CH4_PER_POP</th>\n",
       "      <th>N2O_PER_POP</th>\n",
       "      <th>Unnamed: 0</th>\n",
       "      <th>Fluorinated GHG</th>\n",
       "      <th>Laws and Regulations</th>\n",
       "      <th>State Incentives</th>\n",
       "      <th>Utility/Private Incentives</th>\n",
       "      <th>Ozone</th>\n",
       "    </tr>\n",
       "  </thead>\n",
       "  <tbody>\n",
       "    <tr>\n",
       "      <th>11</th>\n",
       "      <td>215.4</td>\n",
       "      <td>Female</td>\n",
       "      <td>17.472089</td>\n",
       "      <td>0.145715</td>\n",
       "      <td>0.125172</td>\n",
       "      <td>11</td>\n",
       "      <td>264437</td>\n",
       "      <td>3</td>\n",
       "      <td>7</td>\n",
       "      <td>4</td>\n",
       "      <td>0.044215</td>\n",
       "    </tr>\n",
       "    <tr>\n",
       "      <th>14</th>\n",
       "      <td>279.9</td>\n",
       "      <td>Male</td>\n",
       "      <td>17.472089</td>\n",
       "      <td>0.145715</td>\n",
       "      <td>0.125172</td>\n",
       "      <td>14</td>\n",
       "      <td>264437</td>\n",
       "      <td>3</td>\n",
       "      <td>7</td>\n",
       "      <td>4</td>\n",
       "      <td>0.044215</td>\n",
       "    </tr>\n",
       "    <tr>\n",
       "      <th>80</th>\n",
       "      <td>220.3</td>\n",
       "      <td>Female</td>\n",
       "      <td>17.245662</td>\n",
       "      <td>0.123060</td>\n",
       "      <td>0.093460</td>\n",
       "      <td>80</td>\n",
       "      <td>274194</td>\n",
       "      <td>3</td>\n",
       "      <td>7</td>\n",
       "      <td>4</td>\n",
       "      <td>0.039733</td>\n",
       "    </tr>\n",
       "    <tr>\n",
       "      <th>90</th>\n",
       "      <td>294.1</td>\n",
       "      <td>Male</td>\n",
       "      <td>17.245662</td>\n",
       "      <td>0.123060</td>\n",
       "      <td>0.093460</td>\n",
       "      <td>90</td>\n",
       "      <td>274194</td>\n",
       "      <td>3</td>\n",
       "      <td>7</td>\n",
       "      <td>4</td>\n",
       "      <td>0.039733</td>\n",
       "    </tr>\n",
       "    <tr>\n",
       "      <th>150</th>\n",
       "      <td>208.9</td>\n",
       "      <td>Female</td>\n",
       "      <td>17.523932</td>\n",
       "      <td>0.130945</td>\n",
       "      <td>0.108513</td>\n",
       "      <td>150</td>\n",
       "      <td>312201</td>\n",
       "      <td>3</td>\n",
       "      <td>7</td>\n",
       "      <td>4</td>\n",
       "      <td>0.040936</td>\n",
       "    </tr>\n",
       "  </tbody>\n",
       "</table>\n",
       "</div>"
      ],
      "text/plain": [
       "     DataValue Stratification1  CO2_PER_POP  CH4_PER_POP  N2O_PER_POP  \\\n",
       "11       215.4          Female    17.472089     0.145715     0.125172   \n",
       "14       279.9            Male    17.472089     0.145715     0.125172   \n",
       "80       220.3          Female    17.245662     0.123060     0.093460   \n",
       "90       294.1            Male    17.245662     0.123060     0.093460   \n",
       "150      208.9          Female    17.523932     0.130945     0.108513   \n",
       "\n",
       "     Unnamed: 0  Fluorinated GHG  Laws and Regulations  State Incentives  \\\n",
       "11           11           264437                     3                 7   \n",
       "14           14           264437                     3                 7   \n",
       "80           80           274194                     3                 7   \n",
       "90           90           274194                     3                 7   \n",
       "150         150           312201                     3                 7   \n",
       "\n",
       "     Utility/Private Incentives     Ozone  \n",
       "11                            4  0.044215  \n",
       "14                            4  0.044215  \n",
       "80                            4  0.039733  \n",
       "90                            4  0.039733  \n",
       "150                           4  0.040936  "
      ]
     },
     "execution_count": 130,
     "metadata": {},
     "output_type": "execute_result"
    }
   ],
   "source": [
    "data_q3_2.head()"
   ]
  },
  {
   "cell_type": "markdown",
   "metadata": {},
   "source": [
    "#### Label encoding"
   ]
  },
  {
   "cell_type": "code",
   "execution_count": 131,
   "metadata": {},
   "outputs": [],
   "source": [
    "data_q3_1.rename(columns={'Stratification1':'Race'}, inplace=True)\n",
    "data_q3_1 = pd.get_dummies(data_q3_1, columns = ['Race'], drop_first = True)"
   ]
  },
  {
   "cell_type": "code",
   "execution_count": 132,
   "metadata": {},
   "outputs": [
    {
     "data": {
      "text/html": [
       "<div>\n",
       "<style scoped>\n",
       "    .dataframe tbody tr th:only-of-type {\n",
       "        vertical-align: middle;\n",
       "    }\n",
       "\n",
       "    .dataframe tbody tr th {\n",
       "        vertical-align: top;\n",
       "    }\n",
       "\n",
       "    .dataframe thead th {\n",
       "        text-align: right;\n",
       "    }\n",
       "</style>\n",
       "<table border=\"1\" class=\"dataframe\">\n",
       "  <thead>\n",
       "    <tr style=\"text-align: right;\">\n",
       "      <th></th>\n",
       "      <th>DataValue</th>\n",
       "      <th>CO2_PER_POP</th>\n",
       "      <th>CH4_PER_POP</th>\n",
       "      <th>N2O_PER_POP</th>\n",
       "      <th>Unnamed: 0</th>\n",
       "      <th>Fluorinated GHG</th>\n",
       "      <th>Laws and Regulations</th>\n",
       "      <th>State Incentives</th>\n",
       "      <th>Utility/Private Incentives</th>\n",
       "      <th>Ozone</th>\n",
       "      <th>Race_Asian or Pacific Islander</th>\n",
       "      <th>Race_Black, non-Hispanic</th>\n",
       "      <th>Race_Hispanic</th>\n",
       "      <th>Race_White, non-Hispanic</th>\n",
       "    </tr>\n",
       "  </thead>\n",
       "  <tbody>\n",
       "    <tr>\n",
       "      <th>49</th>\n",
       "      <td>292.3</td>\n",
       "      <td>17.472089</td>\n",
       "      <td>0.145715</td>\n",
       "      <td>0.125172</td>\n",
       "      <td>49</td>\n",
       "      <td>264437</td>\n",
       "      <td>3</td>\n",
       "      <td>7</td>\n",
       "      <td>4</td>\n",
       "      <td>0.044215</td>\n",
       "      <td>0</td>\n",
       "      <td>0</td>\n",
       "      <td>0</td>\n",
       "      <td>1</td>\n",
       "    </tr>\n",
       "    <tr>\n",
       "      <th>58</th>\n",
       "      <td>114.9</td>\n",
       "      <td>17.472089</td>\n",
       "      <td>0.145715</td>\n",
       "      <td>0.125172</td>\n",
       "      <td>58</td>\n",
       "      <td>264437</td>\n",
       "      <td>3</td>\n",
       "      <td>7</td>\n",
       "      <td>4</td>\n",
       "      <td>0.044215</td>\n",
       "      <td>0</td>\n",
       "      <td>1</td>\n",
       "      <td>0</td>\n",
       "      <td>0</td>\n",
       "    </tr>\n",
       "    <tr>\n",
       "      <th>84</th>\n",
       "      <td>128.0</td>\n",
       "      <td>17.245662</td>\n",
       "      <td>0.123060</td>\n",
       "      <td>0.093460</td>\n",
       "      <td>84</td>\n",
       "      <td>274194</td>\n",
       "      <td>3</td>\n",
       "      <td>7</td>\n",
       "      <td>4</td>\n",
       "      <td>0.039733</td>\n",
       "      <td>0</td>\n",
       "      <td>1</td>\n",
       "      <td>0</td>\n",
       "      <td>0</td>\n",
       "    </tr>\n",
       "    <tr>\n",
       "      <th>89</th>\n",
       "      <td>301.6</td>\n",
       "      <td>17.245662</td>\n",
       "      <td>0.123060</td>\n",
       "      <td>0.093460</td>\n",
       "      <td>89</td>\n",
       "      <td>274194</td>\n",
       "      <td>3</td>\n",
       "      <td>7</td>\n",
       "      <td>4</td>\n",
       "      <td>0.039733</td>\n",
       "      <td>0</td>\n",
       "      <td>0</td>\n",
       "      <td>0</td>\n",
       "      <td>1</td>\n",
       "    </tr>\n",
       "    <tr>\n",
       "      <th>146</th>\n",
       "      <td>282.6</td>\n",
       "      <td>17.523932</td>\n",
       "      <td>0.130945</td>\n",
       "      <td>0.108513</td>\n",
       "      <td>146</td>\n",
       "      <td>312201</td>\n",
       "      <td>3</td>\n",
       "      <td>7</td>\n",
       "      <td>4</td>\n",
       "      <td>0.040936</td>\n",
       "      <td>0</td>\n",
       "      <td>0</td>\n",
       "      <td>0</td>\n",
       "      <td>1</td>\n",
       "    </tr>\n",
       "  </tbody>\n",
       "</table>\n",
       "</div>"
      ],
      "text/plain": [
       "     DataValue  CO2_PER_POP  CH4_PER_POP  N2O_PER_POP  Unnamed: 0  \\\n",
       "49       292.3    17.472089     0.145715     0.125172          49   \n",
       "58       114.9    17.472089     0.145715     0.125172          58   \n",
       "84       128.0    17.245662     0.123060     0.093460          84   \n",
       "89       301.6    17.245662     0.123060     0.093460          89   \n",
       "146      282.6    17.523932     0.130945     0.108513         146   \n",
       "\n",
       "     Fluorinated GHG  Laws and Regulations  State Incentives  \\\n",
       "49            264437                     3                 7   \n",
       "58            264437                     3                 7   \n",
       "84            274194                     3                 7   \n",
       "89            274194                     3                 7   \n",
       "146           312201                     3                 7   \n",
       "\n",
       "     Utility/Private Incentives     Ozone  Race_Asian or Pacific Islander  \\\n",
       "49                            4  0.044215                               0   \n",
       "58                            4  0.044215                               0   \n",
       "84                            4  0.039733                               0   \n",
       "89                            4  0.039733                               0   \n",
       "146                           4  0.040936                               0   \n",
       "\n",
       "     Race_Black, non-Hispanic  Race_Hispanic  Race_White, non-Hispanic  \n",
       "49                          0              0                         1  \n",
       "58                          1              0                         0  \n",
       "84                          1              0                         0  \n",
       "89                          0              0                         1  \n",
       "146                         0              0                         1  "
      ]
     },
     "execution_count": 132,
     "metadata": {},
     "output_type": "execute_result"
    }
   ],
   "source": [
    "data_q3_1.head()"
   ]
  },
  {
   "cell_type": "code",
   "execution_count": 133,
   "metadata": {},
   "outputs": [
    {
     "name": "stderr",
     "output_type": "stream",
     "text": [
      "<ipython-input-133-02ef093b317c>:3: SettingWithCopyWarning: \n",
      "A value is trying to be set on a copy of a slice from a DataFrame.\n",
      "Try using .loc[row_indexer,col_indexer] = value instead\n",
      "\n",
      "See the caveats in the documentation: https://pandas.pydata.org/pandas-docs/stable/user_guide/indexing.html#returning-a-view-versus-a-copy\n",
      "  data_q3_2['Stratification1'] = label_encoder.fit_transform(data_q3_2['Stratification1'])\n",
      "/opt/anaconda3/lib/python3.8/site-packages/pandas/core/frame.py:4125: SettingWithCopyWarning: \n",
      "A value is trying to be set on a copy of a slice from a DataFrame\n",
      "\n",
      "See the caveats in the documentation: https://pandas.pydata.org/pandas-docs/stable/user_guide/indexing.html#returning-a-view-versus-a-copy\n",
      "  return super().rename(\n"
     ]
    }
   ],
   "source": [
    "from sklearn import preprocessing\n",
    "label_encoder = preprocessing.LabelEncoder()\n",
    "data_q3_2['Stratification1'] = label_encoder.fit_transform(data_q3_2['Stratification1'])\n",
    "data_q3_2.rename(columns={'Stratification1':'Male'}, inplace=True)"
   ]
  },
  {
   "cell_type": "code",
   "execution_count": 134,
   "metadata": {},
   "outputs": [
    {
     "data": {
      "text/html": [
       "<div>\n",
       "<style scoped>\n",
       "    .dataframe tbody tr th:only-of-type {\n",
       "        vertical-align: middle;\n",
       "    }\n",
       "\n",
       "    .dataframe tbody tr th {\n",
       "        vertical-align: top;\n",
       "    }\n",
       "\n",
       "    .dataframe thead th {\n",
       "        text-align: right;\n",
       "    }\n",
       "</style>\n",
       "<table border=\"1\" class=\"dataframe\">\n",
       "  <thead>\n",
       "    <tr style=\"text-align: right;\">\n",
       "      <th></th>\n",
       "      <th>DataValue</th>\n",
       "      <th>Male</th>\n",
       "      <th>CO2_PER_POP</th>\n",
       "      <th>CH4_PER_POP</th>\n",
       "      <th>N2O_PER_POP</th>\n",
       "      <th>Unnamed: 0</th>\n",
       "      <th>Fluorinated GHG</th>\n",
       "      <th>Laws and Regulations</th>\n",
       "      <th>State Incentives</th>\n",
       "      <th>Utility/Private Incentives</th>\n",
       "      <th>Ozone</th>\n",
       "    </tr>\n",
       "  </thead>\n",
       "  <tbody>\n",
       "    <tr>\n",
       "      <th>11</th>\n",
       "      <td>215.4</td>\n",
       "      <td>0</td>\n",
       "      <td>17.472089</td>\n",
       "      <td>0.145715</td>\n",
       "      <td>0.125172</td>\n",
       "      <td>11</td>\n",
       "      <td>264437</td>\n",
       "      <td>3</td>\n",
       "      <td>7</td>\n",
       "      <td>4</td>\n",
       "      <td>0.044215</td>\n",
       "    </tr>\n",
       "    <tr>\n",
       "      <th>14</th>\n",
       "      <td>279.9</td>\n",
       "      <td>1</td>\n",
       "      <td>17.472089</td>\n",
       "      <td>0.145715</td>\n",
       "      <td>0.125172</td>\n",
       "      <td>14</td>\n",
       "      <td>264437</td>\n",
       "      <td>3</td>\n",
       "      <td>7</td>\n",
       "      <td>4</td>\n",
       "      <td>0.044215</td>\n",
       "    </tr>\n",
       "    <tr>\n",
       "      <th>80</th>\n",
       "      <td>220.3</td>\n",
       "      <td>0</td>\n",
       "      <td>17.245662</td>\n",
       "      <td>0.123060</td>\n",
       "      <td>0.093460</td>\n",
       "      <td>80</td>\n",
       "      <td>274194</td>\n",
       "      <td>3</td>\n",
       "      <td>7</td>\n",
       "      <td>4</td>\n",
       "      <td>0.039733</td>\n",
       "    </tr>\n",
       "    <tr>\n",
       "      <th>90</th>\n",
       "      <td>294.1</td>\n",
       "      <td>1</td>\n",
       "      <td>17.245662</td>\n",
       "      <td>0.123060</td>\n",
       "      <td>0.093460</td>\n",
       "      <td>90</td>\n",
       "      <td>274194</td>\n",
       "      <td>3</td>\n",
       "      <td>7</td>\n",
       "      <td>4</td>\n",
       "      <td>0.039733</td>\n",
       "    </tr>\n",
       "    <tr>\n",
       "      <th>150</th>\n",
       "      <td>208.9</td>\n",
       "      <td>0</td>\n",
       "      <td>17.523932</td>\n",
       "      <td>0.130945</td>\n",
       "      <td>0.108513</td>\n",
       "      <td>150</td>\n",
       "      <td>312201</td>\n",
       "      <td>3</td>\n",
       "      <td>7</td>\n",
       "      <td>4</td>\n",
       "      <td>0.040936</td>\n",
       "    </tr>\n",
       "  </tbody>\n",
       "</table>\n",
       "</div>"
      ],
      "text/plain": [
       "     DataValue  Male  CO2_PER_POP  CH4_PER_POP  N2O_PER_POP  Unnamed: 0  \\\n",
       "11       215.4     0    17.472089     0.145715     0.125172          11   \n",
       "14       279.9     1    17.472089     0.145715     0.125172          14   \n",
       "80       220.3     0    17.245662     0.123060     0.093460          80   \n",
       "90       294.1     1    17.245662     0.123060     0.093460          90   \n",
       "150      208.9     0    17.523932     0.130945     0.108513         150   \n",
       "\n",
       "     Fluorinated GHG  Laws and Regulations  State Incentives  \\\n",
       "11            264437                     3                 7   \n",
       "14            264437                     3                 7   \n",
       "80            274194                     3                 7   \n",
       "90            274194                     3                 7   \n",
       "150           312201                     3                 7   \n",
       "\n",
       "     Utility/Private Incentives     Ozone  \n",
       "11                            4  0.044215  \n",
       "14                            4  0.044215  \n",
       "80                            4  0.039733  \n",
       "90                            4  0.039733  \n",
       "150                           4  0.040936  "
      ]
     },
     "execution_count": 134,
     "metadata": {},
     "output_type": "execute_result"
    }
   ],
   "source": [
    "data_q3_2.head()"
   ]
  },
  {
   "cell_type": "markdown",
   "metadata": {},
   "source": [
    "### Regression"
   ]
  },
  {
   "cell_type": "markdown",
   "metadata": {},
   "source": [
    "### Race"
   ]
  },
  {
   "cell_type": "code",
   "execution_count": 135,
   "metadata": {},
   "outputs": [],
   "source": [
    "X = data_q3_1.values[:,1:].copy()\n",
    "y = data_q3_1.DataValue.values"
   ]
  },
  {
   "cell_type": "markdown",
   "metadata": {},
   "source": [
    "#### Linear Regression"
   ]
  },
  {
   "cell_type": "code",
   "execution_count": 136,
   "metadata": {},
   "outputs": [
    {
     "name": "stdout",
     "output_type": "stream",
     "text": [
      "---- linear regression ----\n",
      "0.7436027291450013\n",
      "0.725830959678214\n"
     ]
    }
   ],
   "source": [
    "from sklearn.linear_model import LinearRegression\n",
    "from sklearn.model_selection import GridSearchCV\n",
    "from sklearn.ensemble import RandomForestRegressor\n",
    "from sklearn.model_selection import ShuffleSplit\n",
    "from sklearn.model_selection import cross_validate\n",
    "\n",
    "nmc = 100\n",
    "\n",
    "#Linear Regression\n",
    "linreg = LinearRegression()\n",
    "cvf = ShuffleSplit(n_splits=nmc, test_size=0.2, random_state=25)\n",
    "CVInfo = cross_validate(linreg, X, y, cv=cvf,return_train_score=True)\n",
    "print('---- linear regression ----')\n",
    "print(np.mean(CVInfo['train_score']))\n",
    "print(np.mean(CVInfo['test_score']))"
   ]
  },
  {
   "cell_type": "markdown",
   "metadata": {},
   "source": [
    "#### Random forest regression"
   ]
  },
  {
   "cell_type": "code",
   "execution_count": 137,
   "metadata": {},
   "outputs": [
    {
     "name": "stdout",
     "output_type": "stream",
     "text": [
      "---- random forest ----\n",
      "   rank_test_score  mean_test_score param_max_features param_max_depth\n",
      "0                1         0.934519                  5              25\n",
      "---- optimal parameters ----\n",
      "{'max_depth': 25, 'max_features': 5, 'n_estimators': 50}\n",
      "---- best accuracy ----\n",
      "0.9345188543076935\n"
     ]
    }
   ],
   "source": [
    "#Random Forest\n",
    "\n",
    "from sklearn.model_selection import GridSearchCV\n",
    "from sklearn.ensemble import RandomForestRegressor\n",
    "\n",
    "#  Note:  no need for scaling, back to simple parameters\n",
    "# set up dictionary for grid search\n",
    "param_grid={'max_features':[5],'max_depth':[25],'n_estimators':[50]}\n",
    "# set up cross-validation shuffles\n",
    "cvf = ShuffleSplit(n_splits=nmc, test_size=0.2, random_state=25)\n",
    "# set up search\n",
    "grid_search=GridSearchCV(RandomForestRegressor(random_state=25),param_grid,cv=cvf,return_train_score=True)\n",
    "# implement search\n",
    "grid_search.fit(X,y)\n",
    "# move results into DataFrame\n",
    "results = pd.DataFrame(grid_search.cv_results_)\n",
    "\n",
    "print('---- random forest ----')\n",
    "print(results[['rank_test_score','mean_test_score','param_max_features','param_max_depth']])\n",
    "print('---- optimal parameters ----')\n",
    "print(grid_search.best_params_)\n",
    "print('---- best accuracy ----')\n",
    "print(grid_search.best_score_)"
   ]
  },
  {
   "cell_type": "markdown",
   "metadata": {},
   "source": [
    "#### Gradient Boosting Regression"
   ]
  },
  {
   "cell_type": "code",
   "execution_count": 138,
   "metadata": {},
   "outputs": [
    {
     "name": "stdout",
     "output_type": "stream",
     "text": [
      "Accuracy on training set: 0.914\n",
      "Accuracy on test set: 0.803\n"
     ]
    }
   ],
   "source": [
    "from sklearn import ensemble\n",
    "from sklearn.model_selection import train_test_split\n",
    "\n",
    "\n",
    "X_train, X_test, y_train, y_test = train_test_split(X, y, test_size = 0.2, random_state=0)\n",
    "\n",
    "params = {'n_estimators': 500, 'max_depth': 4, 'min_samples_split': 2,\n",
    "          'learning_rate': 0.01, 'loss': 'ls'}\n",
    "\n",
    "model = ensemble.GradientBoostingRegressor(**params)\n",
    "model.fit(X_train, y_train)\n",
    "\n",
    "print(\"Accuracy on training set: {:.3f}\".format(model.score(X_train, y_train)))\n",
    "print(\"Accuracy on test set: {:.3f}\".format(model.score(X_test, y_test)))"
   ]
  },
  {
   "cell_type": "code",
   "execution_count": 139,
   "metadata": {},
   "outputs": [
    {
     "data": {
      "image/png": "[encoded data removed]",
      "text/plain": [
       "<Figure size 864x432 with 1 Axes>"
      ]
     },
     "metadata": {
      "needs_background": "light"
     },
     "output_type": "display_data"
    }
   ],
   "source": [
    "feature_importance = model.feature_importances_\n",
    "sorted_idx = np.argsort(feature_importance)\n",
    "pos = np.arange(sorted_idx.shape[0]) + .5\n",
    "fig = plt.figure(figsize=(12, 6))\n",
    "plt.subplot(1, 2, 1)\n",
    "plt.barh(pos, feature_importance[sorted_idx], align='center')\n",
    "plt.yticks(pos, np.array(data_q3_1.iloc[:,1:].columns)[sorted_idx])\n",
    "#plt.title('Feature Importance (MDI)')\n",
    "plt.show()"
   ]
  },
  {
   "cell_type": "markdown",
   "metadata": {},
   "source": [
    "### Gender"
   ]
  },
  {
   "cell_type": "code",
   "execution_count": 140,
   "metadata": {},
   "outputs": [],
   "source": [
    "X = data_q3_2.values[:,1:].copy()\n",
    "y = data_q3_2.DataValue.values"
   ]
  },
  {
   "cell_type": "markdown",
   "metadata": {},
   "source": [
    "#### Linear Regression"
   ]
  },
  {
   "cell_type": "code",
   "execution_count": 142,
   "metadata": {},
   "outputs": [
    {
     "name": "stdout",
     "output_type": "stream",
     "text": [
      "---- linear regression ----\n",
      "0.36147028582979973\n",
      "0.31996431768729183\n"
     ]
    }
   ],
   "source": [
    "from sklearn.linear_model import LinearRegression\n",
    "from sklearn.model_selection import GridSearchCV\n",
    "from sklearn.ensemble import RandomForestRegressor\n",
    "from sklearn.model_selection import ShuffleSplit\n",
    "from sklearn.model_selection import cross_validate\n",
    "\n",
    "nmc = 100\n",
    "\n",
    "#Linear Regression\n",
    "linreg = LinearRegression()\n",
    "cvf = ShuffleSplit(n_splits=nmc, test_size=0.2, random_state=25)\n",
    "CVInfo = cross_validate(linreg, X, y, cv=cvf,return_train_score=True)\n",
    "print('---- linear regression ----')\n",
    "print(np.mean(CVInfo['train_score']))\n",
    "print(np.mean(CVInfo['test_score']))"
   ]
  },
  {
   "cell_type": "markdown",
   "metadata": {},
   "source": [
    "#### Random forest regression"
   ]
  },
  {
   "cell_type": "code",
   "execution_count": 143,
   "metadata": {},
   "outputs": [
    {
     "name": "stdout",
     "output_type": "stream",
     "text": [
      "---- random forest ----\n",
      "   rank_test_score  mean_test_score param_max_features param_max_depth\n",
      "0                1         0.908505                  5              25\n",
      "---- optimal parameters ----\n",
      "{'max_depth': 25, 'max_features': 5, 'n_estimators': 50}\n",
      "---- best accuracy ----\n",
      "0.90850492525768\n"
     ]
    }
   ],
   "source": [
    "from sklearn.model_selection import GridSearchCV\n",
    "from sklearn.ensemble import RandomForestRegressor\n",
    "\n",
    "#  Note:  no need for scaling, back to simple parameters\n",
    "# set up dictionary for grid search\n",
    "param_grid={'max_features':[5],'max_depth':[25],'n_estimators':[50]}\n",
    "# set up cross-validation shuffles\n",
    "cvf = ShuffleSplit(n_splits=nmc, test_size=0.2, random_state=25)\n",
    "# set up search\n",
    "grid_search=GridSearchCV(RandomForestRegressor(random_state=25),param_grid,cv=cvf,return_train_score=True)\n",
    "# implement search\n",
    "grid_search.fit(X,y)\n",
    "# move results into DataFrame\n",
    "results = pd.DataFrame(grid_search.cv_results_)\n",
    "\n",
    "print('---- random forest ----')\n",
    "print(results[['rank_test_score','mean_test_score','param_max_features','param_max_depth']])\n",
    "print('---- optimal parameters ----')\n",
    "print(grid_search.best_params_)\n",
    "print('---- best accuracy ----')\n",
    "print(grid_search.best_score_)"
   ]
  },
  {
   "cell_type": "markdown",
   "metadata": {},
   "source": [
    "#### Gradient Boosting Regression"
   ]
  },
  {
   "cell_type": "code",
   "execution_count": 144,
   "metadata": {},
   "outputs": [
    {
     "name": "stdout",
     "output_type": "stream",
     "text": [
      "Accuracy on training set: 0.951\n",
      "Accuracy on test set: 0.894\n"
     ]
    }
   ],
   "source": [
    "from sklearn import ensemble\n",
    "from sklearn.model_selection import train_test_split\n",
    "\n",
    "\n",
    "X_train, X_test, y_train, y_test = train_test_split(X, y, test_size = 0.2, random_state=0)\n",
    "\n",
    "params = {'n_estimators': 500, 'max_depth': 4, 'min_samples_split': 2,\n",
    "          'learning_rate': 0.01, 'loss': 'ls'}\n",
    "\n",
    "model = ensemble.GradientBoostingRegressor(**params)\n",
    "model.fit(X_train, y_train)\n",
    "\n",
    "print(\"Accuracy on training set: {:.3f}\".format(model.score(X_train, y_train)))\n",
    "print(\"Accuracy on test set: {:.3f}\".format(model.score(X_test, y_test)))"
   ]
  },
  {
   "cell_type": "code",
   "execution_count": 145,
   "metadata": {},
   "outputs": [
    {
     "data": {
      "image/png": "[encoded data removed]",
      "text/plain": [
       "<Figure size 864x432 with 1 Axes>"
      ]
     },
     "metadata": {
      "needs_background": "light"
     },
     "output_type": "display_data"
    }
   ],
   "source": [
    "feature_importance = model.feature_importances_\n",
    "sorted_idx = np.argsort(feature_importance)\n",
    "pos = np.arange(sorted_idx.shape[0]) + .5\n",
    "fig = plt.figure(figsize=(12, 6))\n",
    "plt.subplot(1, 2, 1)\n",
    "plt.barh(pos, feature_importance[sorted_idx], align='center')\n",
    "plt.yticks(pos, np.array(data_q3_2.iloc[:,1:].columns)[sorted_idx])\n",
    "#plt.title('Feature Importance (MDI)')\n",
    "plt.show()"
   ]
  }
 ],
 "metadata": {
  "kernelspec": {
   "display_name": "Python 3",
   "language": "python",
   "name": "python3"
  },
  "language_info": {
   "codemirror_mode": {
    "name": "ipython",
    "version": 3
   },
   "file_extension": ".py",
   "mimetype": "text/x-python",
   "name": "python",
   "nbconvert_exporter": "python",
   "pygments_lexer": "ipython3",
   "version": "3.8.3"
  }
 },
 "nbformat": 4,
 "nbformat_minor": 4
}
